{
 "cells": [
  {
   "cell_type": "code",
   "execution_count": 1,
   "metadata": {},
   "outputs": [],
   "source": [
    "import numpy as np\n",
    "import pandas as pd\n",
    "import matplotlib.pyplot as plt\n",
    "import seaborn as sns\n",
    "%matplotlib inline\n",
    "\n",
    "from scipy.stats import ttest_ind\n",
    "from sklearn.metrics.pairwise import cosine_similarity"
   ]
  },
  {
   "cell_type": "code",
   "execution_count": 8,
   "metadata": {
    "scrolled": false
   },
   "outputs": [
    {
     "data": {
      "text/html": [
       "<div>\n",
       "<style scoped>\n",
       "    .dataframe tbody tr th:only-of-type {\n",
       "        vertical-align: middle;\n",
       "    }\n",
       "\n",
       "    .dataframe tbody tr th {\n",
       "        vertical-align: top;\n",
       "    }\n",
       "\n",
       "    .dataframe thead th {\n",
       "        text-align: right;\n",
       "    }\n",
       "</style>\n",
       "<table border=\"1\" class=\"dataframe\">\n",
       "  <thead>\n",
       "    <tr style=\"text-align: right;\">\n",
       "      <th></th>\n",
       "      <th>seafood</th>\n",
       "      <th>salad</th>\n",
       "      <th>cream_based</th>\n",
       "      <th>asian</th>\n",
       "      <th>baking_goods</th>\n",
       "      <th>meat</th>\n",
       "      <th>italian</th>\n",
       "      <th>mexican</th>\n",
       "    </tr>\n",
       "    <tr>\n",
       "      <th>title</th>\n",
       "      <th></th>\n",
       "      <th></th>\n",
       "      <th></th>\n",
       "      <th></th>\n",
       "      <th></th>\n",
       "      <th></th>\n",
       "      <th></th>\n",
       "      <th></th>\n",
       "    </tr>\n",
       "  </thead>\n",
       "  <tbody>\n",
       "    <tr>\n",
       "      <th>Chip Truck Fries</th>\n",
       "      <td>0.020843</td>\n",
       "      <td>0.351927</td>\n",
       "      <td>0.020839</td>\n",
       "      <td>0.523025</td>\n",
       "      <td>0.02084</td>\n",
       "      <td>0.02084</td>\n",
       "      <td>0.020843</td>\n",
       "      <td>0.020842</td>\n",
       "    </tr>\n",
       "  </tbody>\n",
       "</table>\n",
       "</div>"
      ],
      "text/plain": [
       "                   seafood     salad  cream_based     asian  baking_goods  \\\n",
       "title                                                                       \n",
       "Chip Truck Fries  0.020843  0.351927     0.020839  0.523025       0.02084   \n",
       "\n",
       "                     meat   italian   mexican  \n",
       "title                                          \n",
       "Chip Truck Fries  0.02084  0.020843  0.020842  "
      ]
     },
     "execution_count": 8,
     "metadata": {},
     "output_type": "execute_result"
    }
   ],
   "source": [
    "lda_matrix = pd.read_csv('recipe_lda.csv')\n",
    "lda_matrix.set_index('title', inplace=True)\n",
    "lda_matrix.head(1)"
   ]
  },
  {
   "cell_type": "code",
   "execution_count": 9,
   "metadata": {},
   "outputs": [
    {
     "data": {
      "text/plain": [
       "(4775, 8)"
      ]
     },
     "execution_count": 9,
     "metadata": {},
     "output_type": "execute_result"
    }
   ],
   "source": [
    "lda_matrix.shape"
   ]
  },
  {
   "cell_type": "markdown",
   "metadata": {},
   "source": [
    "# Content-based Recommender \n",
    "## Cosine Similarity"
   ]
  },
  {
   "cell_type": "code",
   "execution_count": 10,
   "metadata": {},
   "outputs": [],
   "source": [
    "lda_array = lda_matrix.to_numpy()"
   ]
  },
  {
   "cell_type": "code",
   "execution_count": 11,
   "metadata": {},
   "outputs": [
    {
     "data": {
      "text/plain": [
       "array([[0.0208431 , 0.35192743, 0.02083907, ..., 0.02084012, 0.02084288,\n",
       "        0.02084226],\n",
       "       [0.01020848, 0.4361867 , 0.0102067 , ..., 0.01020965, 0.01020732,\n",
       "        0.50256664],\n",
       "       [0.91024327, 0.01282519, 0.01282217, ..., 0.01282224, 0.01282168,\n",
       "        0.01282278],\n",
       "       ...,\n",
       "       [0.01470767, 0.01470646, 0.01470749, ..., 0.01470725, 0.0147068 ,\n",
       "        0.01470656],\n",
       "       [0.01724456, 0.01724392, 0.01724382, ..., 0.01724512, 0.01724402,\n",
       "        0.01724484],\n",
       "       [0.01136433, 0.01136408, 0.01136455, ..., 0.01136445, 0.01136424,\n",
       "        0.01136411]])"
      ]
     },
     "execution_count": 11,
     "metadata": {},
     "output_type": "execute_result"
    }
   ],
   "source": [
    "lda_array"
   ]
  },
  {
   "cell_type": "code",
   "execution_count": 12,
   "metadata": {
    "scrolled": true
   },
   "outputs": [
    {
     "data": {
      "text/plain": [
       "(4775, 8)"
      ]
     },
     "execution_count": 12,
     "metadata": {},
     "output_type": "execute_result"
    }
   ],
   "source": [
    "lda_array.shape"
   ]
  },
  {
   "cell_type": "code",
   "execution_count": 13,
   "metadata": {},
   "outputs": [],
   "source": [
    "cosine_sim = cosine_similarity(lda_array)"
   ]
  },
  {
   "cell_type": "code",
   "execution_count": 14,
   "metadata": {
    "scrolled": true
   },
   "outputs": [
    {
     "data": {
      "text/plain": [
       "(4775, 4775)"
      ]
     },
     "execution_count": 14,
     "metadata": {},
     "output_type": "execute_result"
    }
   ],
   "source": [
    "cosine_sim.shape"
   ]
  },
  {
   "cell_type": "code",
   "execution_count": 15,
   "metadata": {},
   "outputs": [
    {
     "data": {
      "text/html": [
       "<div>\n",
       "<style scoped>\n",
       "    .dataframe tbody tr th:only-of-type {\n",
       "        vertical-align: middle;\n",
       "    }\n",
       "\n",
       "    .dataframe tbody tr th {\n",
       "        vertical-align: top;\n",
       "    }\n",
       "\n",
       "    .dataframe thead th {\n",
       "        text-align: right;\n",
       "    }\n",
       "</style>\n",
       "<table border=\"1\" class=\"dataframe\">\n",
       "  <thead>\n",
       "    <tr style=\"text-align: right;\">\n",
       "      <th></th>\n",
       "      <th>Chip Truck Fries</th>\n",
       "      <th>Irish Bacon And Cabbage Soup</th>\n",
       "      <th>Quick Salmon Salad</th>\n",
       "      <th>Celery Salad</th>\n",
       "      <th>Jens Heavenly Egg Salad</th>\n",
       "      <th>Black Bean And Corn Quesadillas</th>\n",
       "      <th>Mimis Zucchini Pie</th>\n",
       "      <th>Tomato Mint Quinoa Salad</th>\n",
       "      <th>Nutty Brown Rice Salad</th>\n",
       "      <th>Bread Machine Swedish Coffee Bread</th>\n",
       "      <th>...</th>\n",
       "      <th>Urban Legend Chocolate Chip Cookies</th>\n",
       "      <th>Monster Cookies Ii</th>\n",
       "      <th>Anzac Biscuits I</th>\n",
       "      <th>No Bake Cookies I</th>\n",
       "      <th>Megans Granola</th>\n",
       "      <th>No Bake Choco Peanut Oatmeal Cookies</th>\n",
       "      <th>Maine Venison Stew</th>\n",
       "      <th>Buttertart Squares</th>\n",
       "      <th>Japanese Sushi Rice</th>\n",
       "      <th>Oatmeal Chocolate Chip Cookies I</th>\n",
       "    </tr>\n",
       "  </thead>\n",
       "  <tbody>\n",
       "    <tr>\n",
       "      <th>Chip Truck Fries</th>\n",
       "      <td>1.000000</td>\n",
       "      <td>0.404541</td>\n",
       "      <td>0.054727</td>\n",
       "      <td>0.533440</td>\n",
       "      <td>0.063232</td>\n",
       "      <td>0.051118</td>\n",
       "      <td>0.036599</td>\n",
       "      <td>0.032954</td>\n",
       "      <td>0.044488</td>\n",
       "      <td>0.032950</td>\n",
       "      <td>...</td>\n",
       "      <td>0.032950</td>\n",
       "      <td>0.035894</td>\n",
       "      <td>0.070568</td>\n",
       "      <td>0.082593</td>\n",
       "      <td>0.049944</td>\n",
       "      <td>0.105844</td>\n",
       "      <td>0.278506</td>\n",
       "      <td>0.058277</td>\n",
       "      <td>0.063228</td>\n",
       "      <td>0.052037</td>\n",
       "    </tr>\n",
       "    <tr>\n",
       "      <th>Irish Bacon And Cabbage Soup</th>\n",
       "      <td>0.404541</td>\n",
       "      <td>1.000000</td>\n",
       "      <td>0.036245</td>\n",
       "      <td>0.619816</td>\n",
       "      <td>0.044421</td>\n",
       "      <td>0.654214</td>\n",
       "      <td>0.017023</td>\n",
       "      <td>0.754689</td>\n",
       "      <td>0.363985</td>\n",
       "      <td>0.015328</td>\n",
       "      <td>...</td>\n",
       "      <td>0.015328</td>\n",
       "      <td>0.085984</td>\n",
       "      <td>0.051477</td>\n",
       "      <td>0.063046</td>\n",
       "      <td>0.031650</td>\n",
       "      <td>0.085435</td>\n",
       "      <td>0.300413</td>\n",
       "      <td>0.039658</td>\n",
       "      <td>0.044418</td>\n",
       "      <td>0.033661</td>\n",
       "    </tr>\n",
       "    <tr>\n",
       "      <th>Quick Salmon Salad</th>\n",
       "      <td>0.054727</td>\n",
       "      <td>0.036245</td>\n",
       "      <td>1.000000</td>\n",
       "      <td>0.018082</td>\n",
       "      <td>0.999894</td>\n",
       "      <td>0.021837</td>\n",
       "      <td>0.015633</td>\n",
       "      <td>0.014077</td>\n",
       "      <td>0.019003</td>\n",
       "      <td>0.014076</td>\n",
       "      <td>...</td>\n",
       "      <td>0.014076</td>\n",
       "      <td>0.015333</td>\n",
       "      <td>0.040428</td>\n",
       "      <td>0.048867</td>\n",
       "      <td>0.025975</td>\n",
       "      <td>0.996123</td>\n",
       "      <td>0.022533</td>\n",
       "      <td>0.031815</td>\n",
       "      <td>0.035283</td>\n",
       "      <td>0.027442</td>\n",
       "    </tr>\n",
       "    <tr>\n",
       "      <th>Celery Salad</th>\n",
       "      <td>0.533440</td>\n",
       "      <td>0.619816</td>\n",
       "      <td>0.018082</td>\n",
       "      <td>1.000000</td>\n",
       "      <td>0.025156</td>\n",
       "      <td>0.000000</td>\n",
       "      <td>0.343773</td>\n",
       "      <td>0.000000</td>\n",
       "      <td>0.306595</td>\n",
       "      <td>0.000000</td>\n",
       "      <td>...</td>\n",
       "      <td>0.000000</td>\n",
       "      <td>0.000000</td>\n",
       "      <td>0.031263</td>\n",
       "      <td>0.041281</td>\n",
       "      <td>0.014109</td>\n",
       "      <td>0.060682</td>\n",
       "      <td>0.404606</td>\n",
       "      <td>0.021036</td>\n",
       "      <td>0.025154</td>\n",
       "      <td>0.015848</td>\n",
       "    </tr>\n",
       "    <tr>\n",
       "      <th>Jens Heavenly Egg Salad</th>\n",
       "      <td>0.063232</td>\n",
       "      <td>0.044421</td>\n",
       "      <td>0.999894</td>\n",
       "      <td>0.025156</td>\n",
       "      <td>1.000000</td>\n",
       "      <td>0.030383</td>\n",
       "      <td>0.021751</td>\n",
       "      <td>0.019587</td>\n",
       "      <td>0.026441</td>\n",
       "      <td>0.019583</td>\n",
       "      <td>...</td>\n",
       "      <td>0.019583</td>\n",
       "      <td>0.021333</td>\n",
       "      <td>0.046713</td>\n",
       "      <td>0.055396</td>\n",
       "      <td>0.031837</td>\n",
       "      <td>0.997300</td>\n",
       "      <td>0.031352</td>\n",
       "      <td>0.037848</td>\n",
       "      <td>0.041418</td>\n",
       "      <td>0.033346</td>\n",
       "    </tr>\n",
       "    <tr>\n",
       "      <th>Black Bean And Corn Quesadillas</th>\n",
       "      <td>0.051118</td>\n",
       "      <td>0.654214</td>\n",
       "      <td>0.021837</td>\n",
       "      <td>0.000000</td>\n",
       "      <td>0.030383</td>\n",
       "      <td>1.000000</td>\n",
       "      <td>0.055176</td>\n",
       "      <td>0.852677</td>\n",
       "      <td>0.395907</td>\n",
       "      <td>0.469536</td>\n",
       "      <td>...</td>\n",
       "      <td>0.469536</td>\n",
       "      <td>0.547375</td>\n",
       "      <td>0.494895</td>\n",
       "      <td>0.502607</td>\n",
       "      <td>0.481221</td>\n",
       "      <td>0.073305</td>\n",
       "      <td>0.075474</td>\n",
       "      <td>0.486813</td>\n",
       "      <td>0.490092</td>\n",
       "      <td>0.482634</td>\n",
       "    </tr>\n",
       "    <tr>\n",
       "      <th>Mimis Zucchini Pie</th>\n",
       "      <td>0.036599</td>\n",
       "      <td>0.017023</td>\n",
       "      <td>0.015633</td>\n",
       "      <td>0.343773</td>\n",
       "      <td>0.021751</td>\n",
       "      <td>0.055176</td>\n",
       "      <td>1.000000</td>\n",
       "      <td>0.000000</td>\n",
       "      <td>0.879536</td>\n",
       "      <td>0.117511</td>\n",
       "      <td>...</td>\n",
       "      <td>0.117511</td>\n",
       "      <td>0.116994</td>\n",
       "      <td>0.141440</td>\n",
       "      <td>0.149005</td>\n",
       "      <td>0.128371</td>\n",
       "      <td>0.052474</td>\n",
       "      <td>0.000000</td>\n",
       "      <td>0.133666</td>\n",
       "      <td>0.136803</td>\n",
       "      <td>0.129703</td>\n",
       "    </tr>\n",
       "    <tr>\n",
       "      <th>Tomato Mint Quinoa Salad</th>\n",
       "      <td>0.032954</td>\n",
       "      <td>0.754689</td>\n",
       "      <td>0.014077</td>\n",
       "      <td>0.000000</td>\n",
       "      <td>0.019587</td>\n",
       "      <td>0.852677</td>\n",
       "      <td>0.000000</td>\n",
       "      <td>1.000000</td>\n",
       "      <td>0.464310</td>\n",
       "      <td>0.000000</td>\n",
       "      <td>...</td>\n",
       "      <td>0.000000</td>\n",
       "      <td>0.093712</td>\n",
       "      <td>0.024343</td>\n",
       "      <td>0.032142</td>\n",
       "      <td>0.010986</td>\n",
       "      <td>0.047247</td>\n",
       "      <td>0.000000</td>\n",
       "      <td>0.016379</td>\n",
       "      <td>0.019586</td>\n",
       "      <td>0.012340</td>\n",
       "    </tr>\n",
       "  </tbody>\n",
       "</table>\n",
       "<p>8 rows × 4775 columns</p>\n",
       "</div>"
      ],
      "text/plain": [
       "                                 Chip Truck Fries  \\\n",
       "Chip Truck Fries                         1.000000   \n",
       "Irish Bacon And Cabbage Soup             0.404541   \n",
       "Quick Salmon Salad                       0.054727   \n",
       "Celery Salad                             0.533440   \n",
       "Jens Heavenly Egg Salad                  0.063232   \n",
       "Black Bean And Corn Quesadillas          0.051118   \n",
       "Mimis Zucchini Pie                       0.036599   \n",
       "Tomato Mint Quinoa Salad                 0.032954   \n",
       "\n",
       "                                 Irish Bacon And Cabbage Soup  \\\n",
       "Chip Truck Fries                                     0.404541   \n",
       "Irish Bacon And Cabbage Soup                         1.000000   \n",
       "Quick Salmon Salad                                   0.036245   \n",
       "Celery Salad                                         0.619816   \n",
       "Jens Heavenly Egg Salad                              0.044421   \n",
       "Black Bean And Corn Quesadillas                      0.654214   \n",
       "Mimis Zucchini Pie                                   0.017023   \n",
       "Tomato Mint Quinoa Salad                             0.754689   \n",
       "\n",
       "                                 Quick Salmon Salad  Celery Salad  \\\n",
       "Chip Truck Fries                           0.054727      0.533440   \n",
       "Irish Bacon And Cabbage Soup               0.036245      0.619816   \n",
       "Quick Salmon Salad                         1.000000      0.018082   \n",
       "Celery Salad                               0.018082      1.000000   \n",
       "Jens Heavenly Egg Salad                    0.999894      0.025156   \n",
       "Black Bean And Corn Quesadillas            0.021837      0.000000   \n",
       "Mimis Zucchini Pie                         0.015633      0.343773   \n",
       "Tomato Mint Quinoa Salad                   0.014077      0.000000   \n",
       "\n",
       "                                 Jens Heavenly Egg Salad  \\\n",
       "Chip Truck Fries                                0.063232   \n",
       "Irish Bacon And Cabbage Soup                    0.044421   \n",
       "Quick Salmon Salad                              0.999894   \n",
       "Celery Salad                                    0.025156   \n",
       "Jens Heavenly Egg Salad                         1.000000   \n",
       "Black Bean And Corn Quesadillas                 0.030383   \n",
       "Mimis Zucchini Pie                              0.021751   \n",
       "Tomato Mint Quinoa Salad                        0.019587   \n",
       "\n",
       "                                 Black Bean And Corn Quesadillas  \\\n",
       "Chip Truck Fries                                        0.051118   \n",
       "Irish Bacon And Cabbage Soup                            0.654214   \n",
       "Quick Salmon Salad                                      0.021837   \n",
       "Celery Salad                                            0.000000   \n",
       "Jens Heavenly Egg Salad                                 0.030383   \n",
       "Black Bean And Corn Quesadillas                         1.000000   \n",
       "Mimis Zucchini Pie                                      0.055176   \n",
       "Tomato Mint Quinoa Salad                                0.852677   \n",
       "\n",
       "                                 Mimis Zucchini Pie  Tomato Mint Quinoa Salad  \\\n",
       "Chip Truck Fries                           0.036599                  0.032954   \n",
       "Irish Bacon And Cabbage Soup               0.017023                  0.754689   \n",
       "Quick Salmon Salad                         0.015633                  0.014077   \n",
       "Celery Salad                               0.343773                  0.000000   \n",
       "Jens Heavenly Egg Salad                    0.021751                  0.019587   \n",
       "Black Bean And Corn Quesadillas            0.055176                  0.852677   \n",
       "Mimis Zucchini Pie                         1.000000                  0.000000   \n",
       "Tomato Mint Quinoa Salad                   0.000000                  1.000000   \n",
       "\n",
       "                                 Nutty Brown Rice Salad  \\\n",
       "Chip Truck Fries                               0.044488   \n",
       "Irish Bacon And Cabbage Soup                   0.363985   \n",
       "Quick Salmon Salad                             0.019003   \n",
       "Celery Salad                                   0.306595   \n",
       "Jens Heavenly Egg Salad                        0.026441   \n",
       "Black Bean And Corn Quesadillas                0.395907   \n",
       "Mimis Zucchini Pie                             0.879536   \n",
       "Tomato Mint Quinoa Salad                       0.464310   \n",
       "\n",
       "                                 Bread Machine Swedish Coffee Bread  ...  \\\n",
       "Chip Truck Fries                                           0.032950  ...   \n",
       "Irish Bacon And Cabbage Soup                               0.015328  ...   \n",
       "Quick Salmon Salad                                         0.014076  ...   \n",
       "Celery Salad                                               0.000000  ...   \n",
       "Jens Heavenly Egg Salad                                    0.019583  ...   \n",
       "Black Bean And Corn Quesadillas                            0.469536  ...   \n",
       "Mimis Zucchini Pie                                         0.117511  ...   \n",
       "Tomato Mint Quinoa Salad                                   0.000000  ...   \n",
       "\n",
       "                                 Urban Legend Chocolate Chip Cookies  \\\n",
       "Chip Truck Fries                                            0.032950   \n",
       "Irish Bacon And Cabbage Soup                                0.015328   \n",
       "Quick Salmon Salad                                          0.014076   \n",
       "Celery Salad                                                0.000000   \n",
       "Jens Heavenly Egg Salad                                     0.019583   \n",
       "Black Bean And Corn Quesadillas                             0.469536   \n",
       "Mimis Zucchini Pie                                          0.117511   \n",
       "Tomato Mint Quinoa Salad                                    0.000000   \n",
       "\n",
       "                                 Monster Cookies Ii  Anzac Biscuits I  \\\n",
       "Chip Truck Fries                           0.035894          0.070568   \n",
       "Irish Bacon And Cabbage Soup               0.085984          0.051477   \n",
       "Quick Salmon Salad                         0.015333          0.040428   \n",
       "Celery Salad                               0.000000          0.031263   \n",
       "Jens Heavenly Egg Salad                    0.021333          0.046713   \n",
       "Black Bean And Corn Quesadillas            0.547375          0.494895   \n",
       "Mimis Zucchini Pie                         0.116994          0.141440   \n",
       "Tomato Mint Quinoa Salad                   0.093712          0.024343   \n",
       "\n",
       "                                 No Bake Cookies I  Megans Granola  \\\n",
       "Chip Truck Fries                          0.082593        0.049944   \n",
       "Irish Bacon And Cabbage Soup              0.063046        0.031650   \n",
       "Quick Salmon Salad                        0.048867        0.025975   \n",
       "Celery Salad                              0.041281        0.014109   \n",
       "Jens Heavenly Egg Salad                   0.055396        0.031837   \n",
       "Black Bean And Corn Quesadillas           0.502607        0.481221   \n",
       "Mimis Zucchini Pie                        0.149005        0.128371   \n",
       "Tomato Mint Quinoa Salad                  0.032142        0.010986   \n",
       "\n",
       "                                 No Bake Choco Peanut Oatmeal Cookies  \\\n",
       "Chip Truck Fries                                             0.105844   \n",
       "Irish Bacon And Cabbage Soup                                 0.085435   \n",
       "Quick Salmon Salad                                           0.996123   \n",
       "Celery Salad                                                 0.060682   \n",
       "Jens Heavenly Egg Salad                                      0.997300   \n",
       "Black Bean And Corn Quesadillas                              0.073305   \n",
       "Mimis Zucchini Pie                                           0.052474   \n",
       "Tomato Mint Quinoa Salad                                     0.047247   \n",
       "\n",
       "                                 Maine Venison Stew  Buttertart Squares  \\\n",
       "Chip Truck Fries                           0.278506            0.058277   \n",
       "Irish Bacon And Cabbage Soup               0.300413            0.039658   \n",
       "Quick Salmon Salad                         0.022533            0.031815   \n",
       "Celery Salad                               0.404606            0.021036   \n",
       "Jens Heavenly Egg Salad                    0.031352            0.037848   \n",
       "Black Bean And Corn Quesadillas            0.075474            0.486813   \n",
       "Mimis Zucchini Pie                         0.000000            0.133666   \n",
       "Tomato Mint Quinoa Salad                   0.000000            0.016379   \n",
       "\n",
       "                                 Japanese Sushi Rice  \\\n",
       "Chip Truck Fries                            0.063228   \n",
       "Irish Bacon And Cabbage Soup                0.044418   \n",
       "Quick Salmon Salad                          0.035283   \n",
       "Celery Salad                                0.025154   \n",
       "Jens Heavenly Egg Salad                     0.041418   \n",
       "Black Bean And Corn Quesadillas             0.490092   \n",
       "Mimis Zucchini Pie                          0.136803   \n",
       "Tomato Mint Quinoa Salad                    0.019586   \n",
       "\n",
       "                                 Oatmeal Chocolate Chip Cookies I  \n",
       "Chip Truck Fries                                         0.052037  \n",
       "Irish Bacon And Cabbage Soup                             0.033661  \n",
       "Quick Salmon Salad                                       0.027442  \n",
       "Celery Salad                                             0.015848  \n",
       "Jens Heavenly Egg Salad                                  0.033346  \n",
       "Black Bean And Corn Quesadillas                          0.482634  \n",
       "Mimis Zucchini Pie                                       0.129703  \n",
       "Tomato Mint Quinoa Salad                                 0.012340  \n",
       "\n",
       "[8 rows x 4775 columns]"
      ]
     },
     "execution_count": 15,
     "metadata": {},
     "output_type": "execute_result"
    }
   ],
   "source": [
    "df_sim = pd.DataFrame(data=cosine_sim, \n",
    "                      index=lda_matrix.index.tolist(), \n",
    "                      columns=lda_matrix.index.tolist())\n",
    "df_sim.head(8)"
   ]
  },
  {
   "cell_type": "code",
   "execution_count": 16,
   "metadata": {},
   "outputs": [],
   "source": [
    "# creating a Series for recipe titles\n",
    "indices = pd.Series(lda_matrix.index)"
   ]
  },
  {
   "cell_type": "code",
   "execution_count": 17,
   "metadata": {},
   "outputs": [],
   "source": [
    "# define a function to take in recipe title and return the top n recommended recipes\n",
    "def recommender(title, df=lda_matrix, cosine_sim=cosine_sim, top_n=10):\n",
    "    \"\"\"\n",
    "    Content-based recommender based on cosine similarity\n",
    "    \"\"\"\n",
    "    # initialize an empty list of recommended recipes\n",
    "    top_recipes = []\n",
    "    \n",
    "    # get the index of the recipe that matches the title\n",
    "    idx = indices[indices == title].index[0]\n",
    "\n",
    "    # creating a Series with the similarity scores in descending order\n",
    "    score_series = pd.Series(cosine_sim[idx]).sort_values(ascending=False)\n",
    "\n",
    "    # getting the idx of the n most similar recipes\n",
    "    top_idx = score_series.iloc[1:top_n+1].index.tolist()\n",
    "    \n",
    "    # get the title of the top n matching recipes\n",
    "    for i in top_idx:\n",
    "        top_recipes.append(df.index[i])\n",
    "        \n",
    "    return top_recipes"
   ]
  },
  {
   "cell_type": "code",
   "execution_count": 18,
   "metadata": {},
   "outputs": [],
   "source": [
    "options = ['Shrimp Scampi']\n",
    "rec_recipes = []\n",
    "for title in options:\n",
    "    top_recipes = recommender(title, top_n=100)\n",
    "    rec_recipes.extend(top_recipes)"
   ]
  },
  {
   "cell_type": "code",
   "execution_count": 19,
   "metadata": {},
   "outputs": [
    {
     "data": {
      "text/plain": [
       "100"
      ]
     },
     "execution_count": 19,
     "metadata": {},
     "output_type": "execute_result"
    }
   ],
   "source": [
    "len(rec_recipes)"
   ]
  },
  {
   "cell_type": "markdown",
   "metadata": {},
   "source": [
    "# Validation \n",
    "## Mean Similarity"
   ]
  },
  {
   "cell_type": "code",
   "execution_count": 35,
   "metadata": {},
   "outputs": [],
   "source": [
    "def mean_similarity(title_list, df=lda_matrix):\n",
    "    \"\"\"\n",
    "    Calculate mean cosine similarity of two or more recipes\n",
    "    \"\"\"    \n",
    "    array = lda_matrix.loc[title_list,:].to_numpy()\n",
    "    cosine_sim = cosine_similarity(array)\n",
    "    n_recipe = len(title_list)\n",
    "    if n_recipe == 2:\n",
    "        sim_score = np.round(cosine_sim[0, 1], 2)\n",
    "    elif n_recipe > 2:\n",
    "        sim_score = np.round(cosine_sim[0, 1:n_recipe].mean(), 2)\n",
    "    else:\n",
    "        print('Please choose at least two recipes to compare.')\n",
    "    \n",
    "    return sim_score"
   ]
  },
  {
   "cell_type": "code",
   "execution_count": 36,
   "metadata": {},
   "outputs": [],
   "source": [
    "def optimizer_valid(rec_recipes, df=df_nutrient):\n",
    "    \"\"\"\n",
    "    An optimizer used for validation\n",
    "    \"\"\"\n",
    "    protein_lower = 17.2 # set protein min\n",
    "    fat_limit = 0.40 # set fat_ratio limit\n",
    "    calorie_limit = 467 # set calorie limit \n",
    "\n",
    "    # create a recipe list\n",
    "    new_rec = []\n",
    "\n",
    "    while len(rec_recipes) > 0:\n",
    "        if len(new_rec) == 5:\n",
    "            return new_rec\n",
    "\n",
    "        recipe = np.random.choice(rec_recipes)\n",
    "        rec_recipes.remove(recipe)      \n",
    "   \n",
    "        # check fat\n",
    "        if df.loc[recipe].fat_ratio > fat_limit:\n",
    "            continue\n",
    "            \n",
    "        # check calorie\n",
    "        if df.loc[recipe].calorie > calorie_limit:\n",
    "            portion = np.round(calorie_limit/df.loc[recipe].calorie, 2) \n",
    "            protein = np.round(df.loc[recipe].protein_g * portion)\n",
    "            \n",
    "            # check protein\n",
    "            if protein < protein_lower:\n",
    "                continue\n",
    "            new_rec.append(recipe)\n",
    "        else:\n",
    "            portion = np.round(calorie_limit/df.loc[recipe].calorie, 2) \n",
    "            protein = np.round(df.loc[recipe].protein_g * portion)\n",
    "            \n",
    "            # check protein\n",
    "            if protein < protein_lower:\n",
    "                continue\n",
    "            new_rec.append(recipe)\n",
    "\n",
    "    print('Running out of recipes.')\n",
    "    return"
   ]
  },
  {
   "cell_type": "code",
   "execution_count": 37,
   "metadata": {},
   "outputs": [],
   "source": [
    "def validation(df1=lda_matrix, df2=df_nutrient):\n",
    "    # randomly pick 3 recipes to mimic the user behavior\n",
    "    random_recipes = np.random.choice(df1.index.tolist(), 3)\n",
    "    \n",
    "    # compute content-based similarity\n",
    "    ## apply recommender\n",
    "    rec_recipes = []\n",
    "    for title in random_recipes:\n",
    "        rec_recipes.extend(recommender(title, top_n=100))\n",
    "\n",
    "    ## apply optimizer\n",
    "    content_recipes = optimizer_valid(rec_recipes)\n",
    "\n",
    "    ## calculate mean similarity \n",
    "    content_sims = []\n",
    "    for title in random_recipes:\n",
    "        content_recipes.append(title)\n",
    "        content_sim = mean_similarity(content_recipes)\n",
    "        content_sims.append(content_sim)\n",
    "    \n",
    "    content_mean = np.mean(content_sims)\n",
    "    \n",
    "    # compute rank-based similarity\n",
    "    ## find the top 300 rated recipes\n",
    "    top_recipes = df2.sort_values(by='ratings', ascending=False)[:300].index.tolist()\n",
    "    \n",
    "    ## apply optimizer\n",
    "    rank_recipes = optimizer_valid(top_recipes)\n",
    "    \n",
    "    ## calculate mean similarity \n",
    "    rank_sims = []\n",
    "    for title in random_recipes:\n",
    "        rank_recipes.append(title)\n",
    "        rank_sim = mean_similarity(rank_recipes)\n",
    "        rank_sims.append(rank_sim)\n",
    "    \n",
    "    rank_mean = np.mean(rank_sims)\n",
    "        \n",
    "    return np.round(content_mean, 2), np.round(rank_mean, 2)"
   ]
  },
  {
   "cell_type": "code",
   "execution_count": 38,
   "metadata": {
    "scrolled": true
   },
   "outputs": [
    {
     "data": {
      "text/plain": [
       "(0.51, 0.45)"
      ]
     },
     "execution_count": 38,
     "metadata": {},
     "output_type": "execute_result"
    }
   ],
   "source": [
    "validation()"
   ]
  },
  {
   "cell_type": "code",
   "execution_count": 39,
   "metadata": {
    "scrolled": true
   },
   "outputs": [
    {
     "name": "stderr",
     "output_type": "stream",
     "text": [
      "/Users/fivecentsly/anaconda3/lib/python3.7/site-packages/ipykernel_launcher.py:33: RuntimeWarning: divide by zero encountered in double_scalars\n",
      "/Users/fivecentsly/anaconda3/lib/python3.7/site-packages/ipykernel_launcher.py:34: RuntimeWarning: invalid value encountered in double_scalars\n",
      "/Users/fivecentsly/anaconda3/lib/python3.7/site-packages/ipykernel_launcher.py:33: RuntimeWarning: divide by zero encountered in double_scalars\n",
      "/Users/fivecentsly/anaconda3/lib/python3.7/site-packages/ipykernel_launcher.py:34: RuntimeWarning: invalid value encountered in double_scalars\n",
      "/Users/fivecentsly/anaconda3/lib/python3.7/site-packages/ipykernel_launcher.py:33: RuntimeWarning: divide by zero encountered in double_scalars\n",
      "/Users/fivecentsly/anaconda3/lib/python3.7/site-packages/ipykernel_launcher.py:34: RuntimeWarning: invalid value encountered in double_scalars\n",
      "/Users/fivecentsly/anaconda3/lib/python3.7/site-packages/ipykernel_launcher.py:33: RuntimeWarning: divide by zero encountered in double_scalars\n",
      "/Users/fivecentsly/anaconda3/lib/python3.7/site-packages/ipykernel_launcher.py:34: RuntimeWarning: invalid value encountered in double_scalars\n",
      "/Users/fivecentsly/anaconda3/lib/python3.7/site-packages/ipykernel_launcher.py:33: RuntimeWarning: divide by zero encountered in double_scalars\n",
      "/Users/fivecentsly/anaconda3/lib/python3.7/site-packages/ipykernel_launcher.py:34: RuntimeWarning: invalid value encountered in double_scalars\n",
      "/Users/fivecentsly/anaconda3/lib/python3.7/site-packages/ipykernel_launcher.py:33: RuntimeWarning: divide by zero encountered in double_scalars\n",
      "/Users/fivecentsly/anaconda3/lib/python3.7/site-packages/ipykernel_launcher.py:34: RuntimeWarning: invalid value encountered in double_scalars\n",
      "/Users/fivecentsly/anaconda3/lib/python3.7/site-packages/ipykernel_launcher.py:33: RuntimeWarning: divide by zero encountered in double_scalars\n",
      "/Users/fivecentsly/anaconda3/lib/python3.7/site-packages/ipykernel_launcher.py:34: RuntimeWarning: invalid value encountered in double_scalars\n",
      "/Users/fivecentsly/anaconda3/lib/python3.7/site-packages/ipykernel_launcher.py:33: RuntimeWarning: divide by zero encountered in double_scalars\n",
      "/Users/fivecentsly/anaconda3/lib/python3.7/site-packages/ipykernel_launcher.py:34: RuntimeWarning: invalid value encountered in double_scalars\n",
      "/Users/fivecentsly/anaconda3/lib/python3.7/site-packages/ipykernel_launcher.py:33: RuntimeWarning: divide by zero encountered in double_scalars\n",
      "/Users/fivecentsly/anaconda3/lib/python3.7/site-packages/ipykernel_launcher.py:34: RuntimeWarning: invalid value encountered in double_scalars\n",
      "/Users/fivecentsly/anaconda3/lib/python3.7/site-packages/ipykernel_launcher.py:33: RuntimeWarning: divide by zero encountered in double_scalars\n",
      "/Users/fivecentsly/anaconda3/lib/python3.7/site-packages/ipykernel_launcher.py:34: RuntimeWarning: invalid value encountered in double_scalars\n",
      "/Users/fivecentsly/anaconda3/lib/python3.7/site-packages/ipykernel_launcher.py:33: RuntimeWarning: divide by zero encountered in double_scalars\n",
      "/Users/fivecentsly/anaconda3/lib/python3.7/site-packages/ipykernel_launcher.py:34: RuntimeWarning: invalid value encountered in double_scalars\n",
      "/Users/fivecentsly/anaconda3/lib/python3.7/site-packages/ipykernel_launcher.py:33: RuntimeWarning: divide by zero encountered in double_scalars\n",
      "/Users/fivecentsly/anaconda3/lib/python3.7/site-packages/ipykernel_launcher.py:34: RuntimeWarning: invalid value encountered in double_scalars\n",
      "/Users/fivecentsly/anaconda3/lib/python3.7/site-packages/ipykernel_launcher.py:33: RuntimeWarning: divide by zero encountered in double_scalars\n",
      "/Users/fivecentsly/anaconda3/lib/python3.7/site-packages/ipykernel_launcher.py:34: RuntimeWarning: invalid value encountered in double_scalars\n",
      "/Users/fivecentsly/anaconda3/lib/python3.7/site-packages/ipykernel_launcher.py:33: RuntimeWarning: divide by zero encountered in double_scalars\n",
      "/Users/fivecentsly/anaconda3/lib/python3.7/site-packages/ipykernel_launcher.py:34: RuntimeWarning: invalid value encountered in double_scalars\n",
      "/Users/fivecentsly/anaconda3/lib/python3.7/site-packages/ipykernel_launcher.py:33: RuntimeWarning: divide by zero encountered in double_scalars\n",
      "/Users/fivecentsly/anaconda3/lib/python3.7/site-packages/ipykernel_launcher.py:34: RuntimeWarning: invalid value encountered in double_scalars\n",
      "/Users/fivecentsly/anaconda3/lib/python3.7/site-packages/ipykernel_launcher.py:33: RuntimeWarning: divide by zero encountered in double_scalars\n",
      "/Users/fivecentsly/anaconda3/lib/python3.7/site-packages/ipykernel_launcher.py:34: RuntimeWarning: invalid value encountered in double_scalars\n",
      "/Users/fivecentsly/anaconda3/lib/python3.7/site-packages/ipykernel_launcher.py:33: RuntimeWarning: divide by zero encountered in double_scalars\n",
      "/Users/fivecentsly/anaconda3/lib/python3.7/site-packages/ipykernel_launcher.py:34: RuntimeWarning: invalid value encountered in double_scalars\n",
      "/Users/fivecentsly/anaconda3/lib/python3.7/site-packages/ipykernel_launcher.py:33: RuntimeWarning: divide by zero encountered in double_scalars\n",
      "/Users/fivecentsly/anaconda3/lib/python3.7/site-packages/ipykernel_launcher.py:34: RuntimeWarning: invalid value encountered in double_scalars\n",
      "/Users/fivecentsly/anaconda3/lib/python3.7/site-packages/ipykernel_launcher.py:33: RuntimeWarning: divide by zero encountered in double_scalars\n",
      "/Users/fivecentsly/anaconda3/lib/python3.7/site-packages/ipykernel_launcher.py:34: RuntimeWarning: invalid value encountered in double_scalars\n",
      "/Users/fivecentsly/anaconda3/lib/python3.7/site-packages/ipykernel_launcher.py:33: RuntimeWarning: divide by zero encountered in double_scalars\n",
      "/Users/fivecentsly/anaconda3/lib/python3.7/site-packages/ipykernel_launcher.py:34: RuntimeWarning: invalid value encountered in double_scalars\n",
      "/Users/fivecentsly/anaconda3/lib/python3.7/site-packages/ipykernel_launcher.py:33: RuntimeWarning: divide by zero encountered in double_scalars\n",
      "/Users/fivecentsly/anaconda3/lib/python3.7/site-packages/ipykernel_launcher.py:34: RuntimeWarning: invalid value encountered in double_scalars\n",
      "/Users/fivecentsly/anaconda3/lib/python3.7/site-packages/ipykernel_launcher.py:33: RuntimeWarning: divide by zero encountered in double_scalars\n",
      "/Users/fivecentsly/anaconda3/lib/python3.7/site-packages/ipykernel_launcher.py:34: RuntimeWarning: invalid value encountered in double_scalars\n",
      "/Users/fivecentsly/anaconda3/lib/python3.7/site-packages/ipykernel_launcher.py:33: RuntimeWarning: divide by zero encountered in double_scalars\n",
      "/Users/fivecentsly/anaconda3/lib/python3.7/site-packages/ipykernel_launcher.py:34: RuntimeWarning: invalid value encountered in double_scalars\n",
      "/Users/fivecentsly/anaconda3/lib/python3.7/site-packages/ipykernel_launcher.py:33: RuntimeWarning: divide by zero encountered in double_scalars\n",
      "/Users/fivecentsly/anaconda3/lib/python3.7/site-packages/ipykernel_launcher.py:34: RuntimeWarning: invalid value encountered in double_scalars\n",
      "/Users/fivecentsly/anaconda3/lib/python3.7/site-packages/ipykernel_launcher.py:33: RuntimeWarning: divide by zero encountered in double_scalars\n",
      "/Users/fivecentsly/anaconda3/lib/python3.7/site-packages/ipykernel_launcher.py:34: RuntimeWarning: invalid value encountered in double_scalars\n",
      "/Users/fivecentsly/anaconda3/lib/python3.7/site-packages/ipykernel_launcher.py:33: RuntimeWarning: divide by zero encountered in double_scalars\n",
      "/Users/fivecentsly/anaconda3/lib/python3.7/site-packages/ipykernel_launcher.py:34: RuntimeWarning: invalid value encountered in double_scalars\n",
      "/Users/fivecentsly/anaconda3/lib/python3.7/site-packages/ipykernel_launcher.py:33: RuntimeWarning: divide by zero encountered in double_scalars\n",
      "/Users/fivecentsly/anaconda3/lib/python3.7/site-packages/ipykernel_launcher.py:34: RuntimeWarning: invalid value encountered in double_scalars\n",
      "/Users/fivecentsly/anaconda3/lib/python3.7/site-packages/ipykernel_launcher.py:33: RuntimeWarning: divide by zero encountered in double_scalars\n",
      "/Users/fivecentsly/anaconda3/lib/python3.7/site-packages/ipykernel_launcher.py:34: RuntimeWarning: invalid value encountered in double_scalars\n",
      "/Users/fivecentsly/anaconda3/lib/python3.7/site-packages/ipykernel_launcher.py:33: RuntimeWarning: divide by zero encountered in double_scalars\n",
      "/Users/fivecentsly/anaconda3/lib/python3.7/site-packages/ipykernel_launcher.py:34: RuntimeWarning: invalid value encountered in double_scalars\n",
      "/Users/fivecentsly/anaconda3/lib/python3.7/site-packages/ipykernel_launcher.py:33: RuntimeWarning: divide by zero encountered in double_scalars\n",
      "/Users/fivecentsly/anaconda3/lib/python3.7/site-packages/ipykernel_launcher.py:34: RuntimeWarning: invalid value encountered in double_scalars\n"
     ]
    },
    {
     "name": "stderr",
     "output_type": "stream",
     "text": [
      "/Users/fivecentsly/anaconda3/lib/python3.7/site-packages/ipykernel_launcher.py:33: RuntimeWarning: divide by zero encountered in double_scalars\n",
      "/Users/fivecentsly/anaconda3/lib/python3.7/site-packages/ipykernel_launcher.py:34: RuntimeWarning: invalid value encountered in double_scalars\n",
      "/Users/fivecentsly/anaconda3/lib/python3.7/site-packages/ipykernel_launcher.py:33: RuntimeWarning: divide by zero encountered in double_scalars\n",
      "/Users/fivecentsly/anaconda3/lib/python3.7/site-packages/ipykernel_launcher.py:34: RuntimeWarning: invalid value encountered in double_scalars\n",
      "/Users/fivecentsly/anaconda3/lib/python3.7/site-packages/ipykernel_launcher.py:33: RuntimeWarning: divide by zero encountered in double_scalars\n",
      "/Users/fivecentsly/anaconda3/lib/python3.7/site-packages/ipykernel_launcher.py:34: RuntimeWarning: invalid value encountered in double_scalars\n",
      "/Users/fivecentsly/anaconda3/lib/python3.7/site-packages/ipykernel_launcher.py:33: RuntimeWarning: divide by zero encountered in double_scalars\n",
      "/Users/fivecentsly/anaconda3/lib/python3.7/site-packages/ipykernel_launcher.py:34: RuntimeWarning: invalid value encountered in double_scalars\n",
      "/Users/fivecentsly/anaconda3/lib/python3.7/site-packages/ipykernel_launcher.py:33: RuntimeWarning: divide by zero encountered in double_scalars\n",
      "/Users/fivecentsly/anaconda3/lib/python3.7/site-packages/ipykernel_launcher.py:34: RuntimeWarning: invalid value encountered in double_scalars\n",
      "/Users/fivecentsly/anaconda3/lib/python3.7/site-packages/ipykernel_launcher.py:33: RuntimeWarning: divide by zero encountered in double_scalars\n",
      "/Users/fivecentsly/anaconda3/lib/python3.7/site-packages/ipykernel_launcher.py:34: RuntimeWarning: invalid value encountered in double_scalars\n",
      "/Users/fivecentsly/anaconda3/lib/python3.7/site-packages/ipykernel_launcher.py:33: RuntimeWarning: divide by zero encountered in double_scalars\n",
      "/Users/fivecentsly/anaconda3/lib/python3.7/site-packages/ipykernel_launcher.py:34: RuntimeWarning: invalid value encountered in double_scalars\n",
      "/Users/fivecentsly/anaconda3/lib/python3.7/site-packages/ipykernel_launcher.py:33: RuntimeWarning: divide by zero encountered in double_scalars\n",
      "/Users/fivecentsly/anaconda3/lib/python3.7/site-packages/ipykernel_launcher.py:34: RuntimeWarning: invalid value encountered in double_scalars\n",
      "/Users/fivecentsly/anaconda3/lib/python3.7/site-packages/ipykernel_launcher.py:33: RuntimeWarning: divide by zero encountered in double_scalars\n",
      "/Users/fivecentsly/anaconda3/lib/python3.7/site-packages/ipykernel_launcher.py:34: RuntimeWarning: invalid value encountered in double_scalars\n",
      "/Users/fivecentsly/anaconda3/lib/python3.7/site-packages/ipykernel_launcher.py:33: RuntimeWarning: divide by zero encountered in double_scalars\n",
      "/Users/fivecentsly/anaconda3/lib/python3.7/site-packages/ipykernel_launcher.py:34: RuntimeWarning: invalid value encountered in double_scalars\n",
      "/Users/fivecentsly/anaconda3/lib/python3.7/site-packages/ipykernel_launcher.py:33: RuntimeWarning: divide by zero encountered in double_scalars\n",
      "/Users/fivecentsly/anaconda3/lib/python3.7/site-packages/ipykernel_launcher.py:34: RuntimeWarning: invalid value encountered in double_scalars\n",
      "/Users/fivecentsly/anaconda3/lib/python3.7/site-packages/ipykernel_launcher.py:33: RuntimeWarning: divide by zero encountered in double_scalars\n",
      "/Users/fivecentsly/anaconda3/lib/python3.7/site-packages/ipykernel_launcher.py:34: RuntimeWarning: invalid value encountered in double_scalars\n",
      "/Users/fivecentsly/anaconda3/lib/python3.7/site-packages/ipykernel_launcher.py:33: RuntimeWarning: divide by zero encountered in double_scalars\n",
      "/Users/fivecentsly/anaconda3/lib/python3.7/site-packages/ipykernel_launcher.py:34: RuntimeWarning: invalid value encountered in double_scalars\n",
      "/Users/fivecentsly/anaconda3/lib/python3.7/site-packages/ipykernel_launcher.py:33: RuntimeWarning: divide by zero encountered in double_scalars\n",
      "/Users/fivecentsly/anaconda3/lib/python3.7/site-packages/ipykernel_launcher.py:34: RuntimeWarning: invalid value encountered in double_scalars\n",
      "/Users/fivecentsly/anaconda3/lib/python3.7/site-packages/ipykernel_launcher.py:33: RuntimeWarning: divide by zero encountered in double_scalars\n",
      "/Users/fivecentsly/anaconda3/lib/python3.7/site-packages/ipykernel_launcher.py:34: RuntimeWarning: invalid value encountered in double_scalars\n",
      "/Users/fivecentsly/anaconda3/lib/python3.7/site-packages/ipykernel_launcher.py:33: RuntimeWarning: divide by zero encountered in double_scalars\n",
      "/Users/fivecentsly/anaconda3/lib/python3.7/site-packages/ipykernel_launcher.py:34: RuntimeWarning: invalid value encountered in double_scalars\n",
      "/Users/fivecentsly/anaconda3/lib/python3.7/site-packages/ipykernel_launcher.py:33: RuntimeWarning: divide by zero encountered in double_scalars\n",
      "/Users/fivecentsly/anaconda3/lib/python3.7/site-packages/ipykernel_launcher.py:34: RuntimeWarning: invalid value encountered in double_scalars\n",
      "/Users/fivecentsly/anaconda3/lib/python3.7/site-packages/ipykernel_launcher.py:33: RuntimeWarning: divide by zero encountered in double_scalars\n",
      "/Users/fivecentsly/anaconda3/lib/python3.7/site-packages/ipykernel_launcher.py:34: RuntimeWarning: invalid value encountered in double_scalars\n",
      "/Users/fivecentsly/anaconda3/lib/python3.7/site-packages/ipykernel_launcher.py:33: RuntimeWarning: divide by zero encountered in double_scalars\n",
      "/Users/fivecentsly/anaconda3/lib/python3.7/site-packages/ipykernel_launcher.py:34: RuntimeWarning: invalid value encountered in double_scalars\n",
      "/Users/fivecentsly/anaconda3/lib/python3.7/site-packages/ipykernel_launcher.py:33: RuntimeWarning: divide by zero encountered in double_scalars\n",
      "/Users/fivecentsly/anaconda3/lib/python3.7/site-packages/ipykernel_launcher.py:34: RuntimeWarning: invalid value encountered in double_scalars\n",
      "/Users/fivecentsly/anaconda3/lib/python3.7/site-packages/ipykernel_launcher.py:33: RuntimeWarning: divide by zero encountered in double_scalars\n",
      "/Users/fivecentsly/anaconda3/lib/python3.7/site-packages/ipykernel_launcher.py:34: RuntimeWarning: invalid value encountered in double_scalars\n",
      "/Users/fivecentsly/anaconda3/lib/python3.7/site-packages/ipykernel_launcher.py:33: RuntimeWarning: divide by zero encountered in double_scalars\n",
      "/Users/fivecentsly/anaconda3/lib/python3.7/site-packages/ipykernel_launcher.py:34: RuntimeWarning: invalid value encountered in double_scalars\n",
      "/Users/fivecentsly/anaconda3/lib/python3.7/site-packages/ipykernel_launcher.py:33: RuntimeWarning: divide by zero encountered in double_scalars\n",
      "/Users/fivecentsly/anaconda3/lib/python3.7/site-packages/ipykernel_launcher.py:34: RuntimeWarning: invalid value encountered in double_scalars\n",
      "/Users/fivecentsly/anaconda3/lib/python3.7/site-packages/ipykernel_launcher.py:33: RuntimeWarning: divide by zero encountered in double_scalars\n",
      "/Users/fivecentsly/anaconda3/lib/python3.7/site-packages/ipykernel_launcher.py:34: RuntimeWarning: invalid value encountered in double_scalars\n",
      "/Users/fivecentsly/anaconda3/lib/python3.7/site-packages/ipykernel_launcher.py:33: RuntimeWarning: divide by zero encountered in double_scalars\n",
      "/Users/fivecentsly/anaconda3/lib/python3.7/site-packages/ipykernel_launcher.py:34: RuntimeWarning: invalid value encountered in double_scalars\n",
      "/Users/fivecentsly/anaconda3/lib/python3.7/site-packages/ipykernel_launcher.py:33: RuntimeWarning: divide by zero encountered in double_scalars\n",
      "/Users/fivecentsly/anaconda3/lib/python3.7/site-packages/ipykernel_launcher.py:34: RuntimeWarning: invalid value encountered in double_scalars\n",
      "/Users/fivecentsly/anaconda3/lib/python3.7/site-packages/ipykernel_launcher.py:33: RuntimeWarning: divide by zero encountered in double_scalars\n",
      "/Users/fivecentsly/anaconda3/lib/python3.7/site-packages/ipykernel_launcher.py:34: RuntimeWarning: invalid value encountered in double_scalars\n",
      "/Users/fivecentsly/anaconda3/lib/python3.7/site-packages/ipykernel_launcher.py:33: RuntimeWarning: divide by zero encountered in double_scalars\n",
      "/Users/fivecentsly/anaconda3/lib/python3.7/site-packages/ipykernel_launcher.py:34: RuntimeWarning: invalid value encountered in double_scalars\n",
      "/Users/fivecentsly/anaconda3/lib/python3.7/site-packages/ipykernel_launcher.py:33: RuntimeWarning: divide by zero encountered in double_scalars\n",
      "/Users/fivecentsly/anaconda3/lib/python3.7/site-packages/ipykernel_launcher.py:34: RuntimeWarning: invalid value encountered in double_scalars\n",
      "/Users/fivecentsly/anaconda3/lib/python3.7/site-packages/ipykernel_launcher.py:33: RuntimeWarning: divide by zero encountered in double_scalars\n",
      "/Users/fivecentsly/anaconda3/lib/python3.7/site-packages/ipykernel_launcher.py:34: RuntimeWarning: invalid value encountered in double_scalars\n"
     ]
    },
    {
     "name": "stderr",
     "output_type": "stream",
     "text": [
      "/Users/fivecentsly/anaconda3/lib/python3.7/site-packages/ipykernel_launcher.py:33: RuntimeWarning: divide by zero encountered in double_scalars\n",
      "/Users/fivecentsly/anaconda3/lib/python3.7/site-packages/ipykernel_launcher.py:34: RuntimeWarning: invalid value encountered in double_scalars\n",
      "/Users/fivecentsly/anaconda3/lib/python3.7/site-packages/ipykernel_launcher.py:33: RuntimeWarning: divide by zero encountered in double_scalars\n",
      "/Users/fivecentsly/anaconda3/lib/python3.7/site-packages/ipykernel_launcher.py:34: RuntimeWarning: invalid value encountered in double_scalars\n",
      "/Users/fivecentsly/anaconda3/lib/python3.7/site-packages/ipykernel_launcher.py:33: RuntimeWarning: divide by zero encountered in double_scalars\n",
      "/Users/fivecentsly/anaconda3/lib/python3.7/site-packages/ipykernel_launcher.py:34: RuntimeWarning: invalid value encountered in double_scalars\n",
      "/Users/fivecentsly/anaconda3/lib/python3.7/site-packages/ipykernel_launcher.py:33: RuntimeWarning: divide by zero encountered in double_scalars\n",
      "/Users/fivecentsly/anaconda3/lib/python3.7/site-packages/ipykernel_launcher.py:34: RuntimeWarning: invalid value encountered in double_scalars\n",
      "/Users/fivecentsly/anaconda3/lib/python3.7/site-packages/ipykernel_launcher.py:33: RuntimeWarning: divide by zero encountered in double_scalars\n",
      "/Users/fivecentsly/anaconda3/lib/python3.7/site-packages/ipykernel_launcher.py:34: RuntimeWarning: invalid value encountered in double_scalars\n",
      "/Users/fivecentsly/anaconda3/lib/python3.7/site-packages/ipykernel_launcher.py:33: RuntimeWarning: divide by zero encountered in double_scalars\n",
      "/Users/fivecentsly/anaconda3/lib/python3.7/site-packages/ipykernel_launcher.py:34: RuntimeWarning: invalid value encountered in double_scalars\n",
      "/Users/fivecentsly/anaconda3/lib/python3.7/site-packages/ipykernel_launcher.py:33: RuntimeWarning: divide by zero encountered in double_scalars\n",
      "/Users/fivecentsly/anaconda3/lib/python3.7/site-packages/ipykernel_launcher.py:34: RuntimeWarning: invalid value encountered in double_scalars\n",
      "/Users/fivecentsly/anaconda3/lib/python3.7/site-packages/ipykernel_launcher.py:33: RuntimeWarning: divide by zero encountered in double_scalars\n",
      "/Users/fivecentsly/anaconda3/lib/python3.7/site-packages/ipykernel_launcher.py:34: RuntimeWarning: invalid value encountered in double_scalars\n",
      "/Users/fivecentsly/anaconda3/lib/python3.7/site-packages/ipykernel_launcher.py:33: RuntimeWarning: divide by zero encountered in double_scalars\n",
      "/Users/fivecentsly/anaconda3/lib/python3.7/site-packages/ipykernel_launcher.py:34: RuntimeWarning: invalid value encountered in double_scalars\n",
      "/Users/fivecentsly/anaconda3/lib/python3.7/site-packages/ipykernel_launcher.py:33: RuntimeWarning: divide by zero encountered in double_scalars\n",
      "/Users/fivecentsly/anaconda3/lib/python3.7/site-packages/ipykernel_launcher.py:34: RuntimeWarning: invalid value encountered in double_scalars\n",
      "/Users/fivecentsly/anaconda3/lib/python3.7/site-packages/ipykernel_launcher.py:33: RuntimeWarning: divide by zero encountered in double_scalars\n",
      "/Users/fivecentsly/anaconda3/lib/python3.7/site-packages/ipykernel_launcher.py:34: RuntimeWarning: invalid value encountered in double_scalars\n",
      "/Users/fivecentsly/anaconda3/lib/python3.7/site-packages/ipykernel_launcher.py:33: RuntimeWarning: divide by zero encountered in double_scalars\n",
      "/Users/fivecentsly/anaconda3/lib/python3.7/site-packages/ipykernel_launcher.py:34: RuntimeWarning: invalid value encountered in double_scalars\n",
      "/Users/fivecentsly/anaconda3/lib/python3.7/site-packages/ipykernel_launcher.py:33: RuntimeWarning: divide by zero encountered in double_scalars\n",
      "/Users/fivecentsly/anaconda3/lib/python3.7/site-packages/ipykernel_launcher.py:34: RuntimeWarning: invalid value encountered in double_scalars\n",
      "/Users/fivecentsly/anaconda3/lib/python3.7/site-packages/ipykernel_launcher.py:33: RuntimeWarning: divide by zero encountered in double_scalars\n",
      "/Users/fivecentsly/anaconda3/lib/python3.7/site-packages/ipykernel_launcher.py:34: RuntimeWarning: invalid value encountered in double_scalars\n",
      "/Users/fivecentsly/anaconda3/lib/python3.7/site-packages/ipykernel_launcher.py:33: RuntimeWarning: divide by zero encountered in double_scalars\n",
      "/Users/fivecentsly/anaconda3/lib/python3.7/site-packages/ipykernel_launcher.py:34: RuntimeWarning: invalid value encountered in double_scalars\n",
      "/Users/fivecentsly/anaconda3/lib/python3.7/site-packages/ipykernel_launcher.py:33: RuntimeWarning: divide by zero encountered in double_scalars\n",
      "/Users/fivecentsly/anaconda3/lib/python3.7/site-packages/ipykernel_launcher.py:34: RuntimeWarning: invalid value encountered in double_scalars\n",
      "/Users/fivecentsly/anaconda3/lib/python3.7/site-packages/ipykernel_launcher.py:33: RuntimeWarning: divide by zero encountered in double_scalars\n",
      "/Users/fivecentsly/anaconda3/lib/python3.7/site-packages/ipykernel_launcher.py:34: RuntimeWarning: invalid value encountered in double_scalars\n",
      "/Users/fivecentsly/anaconda3/lib/python3.7/site-packages/ipykernel_launcher.py:33: RuntimeWarning: divide by zero encountered in double_scalars\n",
      "/Users/fivecentsly/anaconda3/lib/python3.7/site-packages/ipykernel_launcher.py:34: RuntimeWarning: invalid value encountered in double_scalars\n",
      "/Users/fivecentsly/anaconda3/lib/python3.7/site-packages/ipykernel_launcher.py:33: RuntimeWarning: divide by zero encountered in double_scalars\n",
      "/Users/fivecentsly/anaconda3/lib/python3.7/site-packages/ipykernel_launcher.py:34: RuntimeWarning: invalid value encountered in double_scalars\n",
      "/Users/fivecentsly/anaconda3/lib/python3.7/site-packages/ipykernel_launcher.py:33: RuntimeWarning: divide by zero encountered in double_scalars\n",
      "/Users/fivecentsly/anaconda3/lib/python3.7/site-packages/ipykernel_launcher.py:34: RuntimeWarning: invalid value encountered in double_scalars\n",
      "/Users/fivecentsly/anaconda3/lib/python3.7/site-packages/ipykernel_launcher.py:33: RuntimeWarning: divide by zero encountered in double_scalars\n",
      "/Users/fivecentsly/anaconda3/lib/python3.7/site-packages/ipykernel_launcher.py:34: RuntimeWarning: invalid value encountered in double_scalars\n",
      "/Users/fivecentsly/anaconda3/lib/python3.7/site-packages/ipykernel_launcher.py:33: RuntimeWarning: divide by zero encountered in double_scalars\n",
      "/Users/fivecentsly/anaconda3/lib/python3.7/site-packages/ipykernel_launcher.py:34: RuntimeWarning: invalid value encountered in double_scalars\n",
      "/Users/fivecentsly/anaconda3/lib/python3.7/site-packages/ipykernel_launcher.py:33: RuntimeWarning: divide by zero encountered in double_scalars\n",
      "/Users/fivecentsly/anaconda3/lib/python3.7/site-packages/ipykernel_launcher.py:34: RuntimeWarning: invalid value encountered in double_scalars\n",
      "/Users/fivecentsly/anaconda3/lib/python3.7/site-packages/ipykernel_launcher.py:33: RuntimeWarning: divide by zero encountered in double_scalars\n",
      "/Users/fivecentsly/anaconda3/lib/python3.7/site-packages/ipykernel_launcher.py:34: RuntimeWarning: invalid value encountered in double_scalars\n",
      "/Users/fivecentsly/anaconda3/lib/python3.7/site-packages/ipykernel_launcher.py:33: RuntimeWarning: divide by zero encountered in double_scalars\n",
      "/Users/fivecentsly/anaconda3/lib/python3.7/site-packages/ipykernel_launcher.py:34: RuntimeWarning: invalid value encountered in double_scalars\n",
      "/Users/fivecentsly/anaconda3/lib/python3.7/site-packages/ipykernel_launcher.py:33: RuntimeWarning: divide by zero encountered in double_scalars\n",
      "/Users/fivecentsly/anaconda3/lib/python3.7/site-packages/ipykernel_launcher.py:34: RuntimeWarning: invalid value encountered in double_scalars\n",
      "/Users/fivecentsly/anaconda3/lib/python3.7/site-packages/ipykernel_launcher.py:33: RuntimeWarning: divide by zero encountered in double_scalars\n",
      "/Users/fivecentsly/anaconda3/lib/python3.7/site-packages/ipykernel_launcher.py:34: RuntimeWarning: invalid value encountered in double_scalars\n",
      "/Users/fivecentsly/anaconda3/lib/python3.7/site-packages/ipykernel_launcher.py:33: RuntimeWarning: divide by zero encountered in double_scalars\n",
      "/Users/fivecentsly/anaconda3/lib/python3.7/site-packages/ipykernel_launcher.py:34: RuntimeWarning: invalid value encountered in double_scalars\n",
      "/Users/fivecentsly/anaconda3/lib/python3.7/site-packages/ipykernel_launcher.py:33: RuntimeWarning: divide by zero encountered in double_scalars\n",
      "/Users/fivecentsly/anaconda3/lib/python3.7/site-packages/ipykernel_launcher.py:34: RuntimeWarning: invalid value encountered in double_scalars\n"
     ]
    },
    {
     "name": "stderr",
     "output_type": "stream",
     "text": [
      "/Users/fivecentsly/anaconda3/lib/python3.7/site-packages/ipykernel_launcher.py:33: RuntimeWarning: divide by zero encountered in double_scalars\n",
      "/Users/fivecentsly/anaconda3/lib/python3.7/site-packages/ipykernel_launcher.py:34: RuntimeWarning: invalid value encountered in double_scalars\n",
      "/Users/fivecentsly/anaconda3/lib/python3.7/site-packages/ipykernel_launcher.py:33: RuntimeWarning: divide by zero encountered in double_scalars\n",
      "/Users/fivecentsly/anaconda3/lib/python3.7/site-packages/ipykernel_launcher.py:34: RuntimeWarning: invalid value encountered in double_scalars\n",
      "/Users/fivecentsly/anaconda3/lib/python3.7/site-packages/ipykernel_launcher.py:33: RuntimeWarning: divide by zero encountered in double_scalars\n",
      "/Users/fivecentsly/anaconda3/lib/python3.7/site-packages/ipykernel_launcher.py:34: RuntimeWarning: invalid value encountered in double_scalars\n",
      "/Users/fivecentsly/anaconda3/lib/python3.7/site-packages/ipykernel_launcher.py:33: RuntimeWarning: divide by zero encountered in double_scalars\n",
      "/Users/fivecentsly/anaconda3/lib/python3.7/site-packages/ipykernel_launcher.py:34: RuntimeWarning: invalid value encountered in double_scalars\n",
      "/Users/fivecentsly/anaconda3/lib/python3.7/site-packages/ipykernel_launcher.py:33: RuntimeWarning: divide by zero encountered in double_scalars\n",
      "/Users/fivecentsly/anaconda3/lib/python3.7/site-packages/ipykernel_launcher.py:34: RuntimeWarning: invalid value encountered in double_scalars\n",
      "/Users/fivecentsly/anaconda3/lib/python3.7/site-packages/ipykernel_launcher.py:33: RuntimeWarning: divide by zero encountered in double_scalars\n",
      "/Users/fivecentsly/anaconda3/lib/python3.7/site-packages/ipykernel_launcher.py:34: RuntimeWarning: invalid value encountered in double_scalars\n",
      "/Users/fivecentsly/anaconda3/lib/python3.7/site-packages/ipykernel_launcher.py:33: RuntimeWarning: divide by zero encountered in double_scalars\n",
      "/Users/fivecentsly/anaconda3/lib/python3.7/site-packages/ipykernel_launcher.py:34: RuntimeWarning: invalid value encountered in double_scalars\n",
      "/Users/fivecentsly/anaconda3/lib/python3.7/site-packages/ipykernel_launcher.py:33: RuntimeWarning: divide by zero encountered in double_scalars\n",
      "/Users/fivecentsly/anaconda3/lib/python3.7/site-packages/ipykernel_launcher.py:34: RuntimeWarning: invalid value encountered in double_scalars\n",
      "/Users/fivecentsly/anaconda3/lib/python3.7/site-packages/ipykernel_launcher.py:33: RuntimeWarning: divide by zero encountered in double_scalars\n",
      "/Users/fivecentsly/anaconda3/lib/python3.7/site-packages/ipykernel_launcher.py:34: RuntimeWarning: invalid value encountered in double_scalars\n",
      "/Users/fivecentsly/anaconda3/lib/python3.7/site-packages/ipykernel_launcher.py:33: RuntimeWarning: divide by zero encountered in double_scalars\n",
      "/Users/fivecentsly/anaconda3/lib/python3.7/site-packages/ipykernel_launcher.py:34: RuntimeWarning: invalid value encountered in double_scalars\n",
      "/Users/fivecentsly/anaconda3/lib/python3.7/site-packages/ipykernel_launcher.py:33: RuntimeWarning: divide by zero encountered in double_scalars\n",
      "/Users/fivecentsly/anaconda3/lib/python3.7/site-packages/ipykernel_launcher.py:34: RuntimeWarning: invalid value encountered in double_scalars\n"
     ]
    }
   ],
   "source": [
    "content_means = []\n",
    "rank_means = []\n",
    "for _ in range(1000):\n",
    "    try:\n",
    "        content_mean, rank_mean = validation()\n",
    "        content_means.append(content_mean)\n",
    "        rank_means.append(rank_mean)\n",
    "    except AttributeError:\n",
    "        pass"
   ]
  },
  {
   "cell_type": "code",
   "execution_count": 40,
   "metadata": {
    "scrolled": false
   },
   "outputs": [
    {
     "data": {
      "text/plain": [
       "(1000, 1000)"
      ]
     },
     "execution_count": 40,
     "metadata": {},
     "output_type": "execute_result"
    }
   ],
   "source": [
    "len(content_means), len(rank_means)"
   ]
  },
  {
   "cell_type": "code",
   "execution_count": 41,
   "metadata": {},
   "outputs": [
    {
     "data": {
      "image/png": "[encoded data removed]",
      "text/plain": [
       "<Figure size 720x720 with 1 Axes>"
      ]
     },
     "metadata": {
      "needs_background": "light"
     },
     "output_type": "display_data"
    }
   ],
   "source": [
    "# plot the result\n",
    "x = ['Content-based', 'Rank-based']\n",
    "y = [np.mean(content_means), np.mean(rank_means)]\n",
    "\n",
    "plt.figure(figsize=(10,10))\n",
    "sns.barplot(x, y, color='salmon', saturation=.5)\n",
    "plt.title('Mean Similarity Score Comparison among 1000 Simulations\\n', fontsize='22')\n",
    "plt.xticks([0, 1], ['Content-based', 'Rank-based'], fontsize='22')\n",
    "plt.yticks(np.arange(0, 0.6, 0.1), fontsize='22')\n",
    "plt.ylabel('Mean Similarity Score', fontsize='22');"
   ]
  },
  {
   "cell_type": "code",
   "execution_count": 42,
   "metadata": {},
   "outputs": [
    {
     "data": {
      "text/plain": [
       "Ttest_indResult(statistic=26.3806736864048, pvalue=7.625026853540896e-132)"
      ]
     },
     "execution_count": 42,
     "metadata": {},
     "output_type": "execute_result"
    }
   ],
   "source": [
    "# calculate p value using t-test\n",
    "ttest_ind(content_means, rank_means)"
   ]
  },
  {
   "cell_type": "code",
   "execution_count": 44,
   "metadata": {},
   "outputs": [
    {
     "name": "stdout",
     "output_type": "stream",
     "text": [
      "Mean similarity of content-based recommender: 0.5\n",
      "Mean similarity of rank-based recommender: 0.29\n"
     ]
    }
   ],
   "source": [
    "print(f'Mean similarity of content-based recommender: {np.round(np.mean(content_means), 2)}')\n",
    "print(f'Mean similarity of rank-based recommender: {np.round(np.mean(rank_means), 2)}')"
   ]
  },
  {
   "cell_type": "markdown",
   "metadata": {},
   "source": [
    "# Optimizaiton"
   ]
  },
  {
   "cell_type": "code",
   "execution_count": 25,
   "metadata": {},
   "outputs": [
    {
     "data": {
      "text/html": [
       "<div>\n",
       "<style scoped>\n",
       "    .dataframe tbody tr th:only-of-type {\n",
       "        vertical-align: middle;\n",
       "    }\n",
       "\n",
       "    .dataframe tbody tr th {\n",
       "        vertical-align: top;\n",
       "    }\n",
       "\n",
       "    .dataframe thead th {\n",
       "        text-align: right;\n",
       "    }\n",
       "</style>\n",
       "<table border=\"1\" class=\"dataframe\">\n",
       "  <thead>\n",
       "    <tr style=\"text-align: right;\">\n",
       "      <th></th>\n",
       "      <th>link</th>\n",
       "      <th>title</th>\n",
       "      <th>ratings</th>\n",
       "      <th>num_reviews</th>\n",
       "      <th>ingredients</th>\n",
       "      <th>servings</th>\n",
       "      <th>cook_time</th>\n",
       "      <th>calorie</th>\n",
       "      <th>fat_g</th>\n",
       "      <th>carb_g</th>\n",
       "      <th>protein_g</th>\n",
       "      <th>cholesterol_mg</th>\n",
       "      <th>sodium_mg</th>\n",
       "    </tr>\n",
       "  </thead>\n",
       "  <tbody>\n",
       "    <tr>\n",
       "      <th>0</th>\n",
       "      <td>https://www.allrecipes.com/recipe/100164/chip-...</td>\n",
       "      <td>Chip Truck Fries</td>\n",
       "      <td>4.44</td>\n",
       "      <td>44</td>\n",
       "      <td>['6 baking potatoes, cut into 1/4 inch slices'...</td>\n",
       "      <td>4.0</td>\n",
       "      <td>60</td>\n",
       "      <td>369.0</td>\n",
       "      <td>14.0</td>\n",
       "      <td>56.3</td>\n",
       "      <td>6.5</td>\n",
       "      <td>0.0</td>\n",
       "      <td>478.0</td>\n",
       "    </tr>\n",
       "  </tbody>\n",
       "</table>\n",
       "</div>"
      ],
      "text/plain": [
       "                                                link             title  \\\n",
       "0  https://www.allrecipes.com/recipe/100164/chip-...  Chip Truck Fries   \n",
       "\n",
       "   ratings  num_reviews                                        ingredients  \\\n",
       "0     4.44           44  ['6 baking potatoes, cut into 1/4 inch slices'...   \n",
       "\n",
       "   servings  cook_time  calorie  fat_g  carb_g  protein_g  cholesterol_mg  \\\n",
       "0       4.0         60    369.0   14.0    56.3        6.5             0.0   \n",
       "\n",
       "   sodium_mg  \n",
       "0      478.0  "
      ]
     },
     "execution_count": 25,
     "metadata": {},
     "output_type": "execute_result"
    }
   ],
   "source": [
    "df = pd.read_csv('recipe_clean.csv')\n",
    "df.head(1)"
   ]
  },
  {
   "cell_type": "code",
   "execution_count": 26,
   "metadata": {},
   "outputs": [
    {
     "data": {
      "text/plain": [
       "(4775, 13)"
      ]
     },
     "execution_count": 26,
     "metadata": {},
     "output_type": "execute_result"
    }
   ],
   "source": [
    "df.shape"
   ]
  },
  {
   "cell_type": "code",
   "execution_count": 27,
   "metadata": {
    "scrolled": true
   },
   "outputs": [
    {
     "data": {
      "text/html": [
       "<div>\n",
       "<style scoped>\n",
       "    .dataframe tbody tr th:only-of-type {\n",
       "        vertical-align: middle;\n",
       "    }\n",
       "\n",
       "    .dataframe tbody tr th {\n",
       "        vertical-align: top;\n",
       "    }\n",
       "\n",
       "    .dataframe thead th {\n",
       "        text-align: right;\n",
       "    }\n",
       "</style>\n",
       "<table border=\"1\" class=\"dataframe\">\n",
       "  <thead>\n",
       "    <tr style=\"text-align: right;\">\n",
       "      <th></th>\n",
       "      <th>link</th>\n",
       "      <th>title</th>\n",
       "      <th>ratings</th>\n",
       "      <th>num_reviews</th>\n",
       "      <th>ingredients</th>\n",
       "      <th>servings</th>\n",
       "      <th>cook_time</th>\n",
       "      <th>calorie</th>\n",
       "      <th>fat_g</th>\n",
       "      <th>carb_g</th>\n",
       "      <th>protein_g</th>\n",
       "      <th>cholesterol_mg</th>\n",
       "      <th>sodium_mg</th>\n",
       "      <th>fat_ratio</th>\n",
       "      <th>protein_ratio</th>\n",
       "      <th>carb_ratio</th>\n",
       "    </tr>\n",
       "  </thead>\n",
       "  <tbody>\n",
       "    <tr>\n",
       "      <th>0</th>\n",
       "      <td>https://www.allrecipes.com/recipe/100164/chip-...</td>\n",
       "      <td>Chip Truck Fries</td>\n",
       "      <td>4.44</td>\n",
       "      <td>44</td>\n",
       "      <td>['6 baking potatoes, cut into 1/4 inch slices'...</td>\n",
       "      <td>4.0</td>\n",
       "      <td>60</td>\n",
       "      <td>369.0</td>\n",
       "      <td>14.0</td>\n",
       "      <td>56.3</td>\n",
       "      <td>6.5</td>\n",
       "      <td>0.0</td>\n",
       "      <td>478.0</td>\n",
       "      <td>0.34</td>\n",
       "      <td>0.07</td>\n",
       "      <td>0.59</td>\n",
       "    </tr>\n",
       "  </tbody>\n",
       "</table>\n",
       "</div>"
      ],
      "text/plain": [
       "                                                link             title  \\\n",
       "0  https://www.allrecipes.com/recipe/100164/chip-...  Chip Truck Fries   \n",
       "\n",
       "   ratings  num_reviews                                        ingredients  \\\n",
       "0     4.44           44  ['6 baking potatoes, cut into 1/4 inch slices'...   \n",
       "\n",
       "   servings  cook_time  calorie  fat_g  carb_g  protein_g  cholesterol_mg  \\\n",
       "0       4.0         60    369.0   14.0    56.3        6.5             0.0   \n",
       "\n",
       "   sodium_mg  fat_ratio  protein_ratio  carb_ratio  \n",
       "0      478.0       0.34           0.07        0.59  "
      ]
     },
     "execution_count": 27,
     "metadata": {},
     "output_type": "execute_result"
    }
   ],
   "source": [
    "# add macronutrient ratios\n",
    "df['fat_ratio'] = np.round(df.fat_g * 9 / df.calorie, 2)\n",
    "df['protein_ratio'] = np.round(df.protein_g * 4 / df.calorie, 2)\n",
    "df['carb_ratio'] = 1 - df['fat_ratio'] - df['protein_ratio']\n",
    "df.head(1)"
   ]
  },
  {
   "cell_type": "code",
   "execution_count": 28,
   "metadata": {
    "scrolled": true
   },
   "outputs": [
    {
     "data": {
      "text/html": [
       "<div>\n",
       "<style scoped>\n",
       "    .dataframe tbody tr th:only-of-type {\n",
       "        vertical-align: middle;\n",
       "    }\n",
       "\n",
       "    .dataframe tbody tr th {\n",
       "        vertical-align: top;\n",
       "    }\n",
       "\n",
       "    .dataframe thead th {\n",
       "        text-align: right;\n",
       "    }\n",
       "</style>\n",
       "<table border=\"1\" class=\"dataframe\">\n",
       "  <thead>\n",
       "    <tr style=\"text-align: right;\">\n",
       "      <th></th>\n",
       "      <th>title</th>\n",
       "      <th>ratings</th>\n",
       "      <th>cook_time</th>\n",
       "      <th>servings</th>\n",
       "      <th>calorie</th>\n",
       "      <th>fat_g</th>\n",
       "      <th>protein_g</th>\n",
       "      <th>carb_g</th>\n",
       "      <th>fat_ratio</th>\n",
       "      <th>protein_ratio</th>\n",
       "      <th>carb_ratio</th>\n",
       "      <th>link</th>\n",
       "    </tr>\n",
       "  </thead>\n",
       "  <tbody>\n",
       "    <tr>\n",
       "      <th>0</th>\n",
       "      <td>Chip Truck Fries</td>\n",
       "      <td>4.44</td>\n",
       "      <td>60</td>\n",
       "      <td>4.0</td>\n",
       "      <td>369.0</td>\n",
       "      <td>14.0</td>\n",
       "      <td>6.5</td>\n",
       "      <td>56.3</td>\n",
       "      <td>0.34</td>\n",
       "      <td>0.07</td>\n",
       "      <td>0.59</td>\n",
       "      <td>https://www.allrecipes.com/recipe/100164/chip-...</td>\n",
       "    </tr>\n",
       "  </tbody>\n",
       "</table>\n",
       "</div>"
      ],
      "text/plain": [
       "              title  ratings  cook_time  servings  calorie  fat_g  protein_g  \\\n",
       "0  Chip Truck Fries     4.44         60       4.0    369.0   14.0        6.5   \n",
       "\n",
       "   carb_g  fat_ratio  protein_ratio  carb_ratio  \\\n",
       "0    56.3       0.34           0.07        0.59   \n",
       "\n",
       "                                                link  \n",
       "0  https://www.allrecipes.com/recipe/100164/chip-...  "
      ]
     },
     "execution_count": 28,
     "metadata": {},
     "output_type": "execute_result"
    }
   ],
   "source": [
    "# create a new df holding essential info \n",
    "df_nutrient = df[['title','ratings','cook_time','servings','calorie','fat_g','protein_g','carb_g',\n",
    "                  'fat_ratio','protein_ratio','carb_ratio','link']]\n",
    "df_nutrient.head(1)"
   ]
  },
  {
   "cell_type": "code",
   "execution_count": 29,
   "metadata": {},
   "outputs": [
    {
     "data": {
      "text/html": [
       "<div>\n",
       "<style scoped>\n",
       "    .dataframe tbody tr th:only-of-type {\n",
       "        vertical-align: middle;\n",
       "    }\n",
       "\n",
       "    .dataframe tbody tr th {\n",
       "        vertical-align: top;\n",
       "    }\n",
       "\n",
       "    .dataframe thead th {\n",
       "        text-align: right;\n",
       "    }\n",
       "</style>\n",
       "<table border=\"1\" class=\"dataframe\">\n",
       "  <thead>\n",
       "    <tr style=\"text-align: right;\">\n",
       "      <th></th>\n",
       "      <th>ratings</th>\n",
       "      <th>cook_time</th>\n",
       "      <th>servings</th>\n",
       "      <th>calorie</th>\n",
       "      <th>fat_g</th>\n",
       "      <th>protein_g</th>\n",
       "      <th>carb_g</th>\n",
       "      <th>fat_ratio</th>\n",
       "      <th>protein_ratio</th>\n",
       "      <th>carb_ratio</th>\n",
       "      <th>link</th>\n",
       "    </tr>\n",
       "    <tr>\n",
       "      <th>title</th>\n",
       "      <th></th>\n",
       "      <th></th>\n",
       "      <th></th>\n",
       "      <th></th>\n",
       "      <th></th>\n",
       "      <th></th>\n",
       "      <th></th>\n",
       "      <th></th>\n",
       "      <th></th>\n",
       "      <th></th>\n",
       "      <th></th>\n",
       "    </tr>\n",
       "  </thead>\n",
       "  <tbody>\n",
       "    <tr>\n",
       "      <th>Chip Truck Fries</th>\n",
       "      <td>4.44</td>\n",
       "      <td>60</td>\n",
       "      <td>4.0</td>\n",
       "      <td>369.0</td>\n",
       "      <td>14.0</td>\n",
       "      <td>6.5</td>\n",
       "      <td>56.3</td>\n",
       "      <td>0.34</td>\n",
       "      <td>0.07</td>\n",
       "      <td>0.59</td>\n",
       "      <td>https://www.allrecipes.com/recipe/100164/chip-...</td>\n",
       "    </tr>\n",
       "  </tbody>\n",
       "</table>\n",
       "</div>"
      ],
      "text/plain": [
       "                  ratings  cook_time  servings  calorie  fat_g  protein_g  \\\n",
       "title                                                                       \n",
       "Chip Truck Fries     4.44         60       4.0    369.0   14.0        6.5   \n",
       "\n",
       "                  carb_g  fat_ratio  protein_ratio  carb_ratio  \\\n",
       "title                                                            \n",
       "Chip Truck Fries    56.3       0.34           0.07        0.59   \n",
       "\n",
       "                                                               link  \n",
       "title                                                                \n",
       "Chip Truck Fries  https://www.allrecipes.com/recipe/100164/chip-...  "
      ]
     },
     "execution_count": 29,
     "metadata": {},
     "output_type": "execute_result"
    }
   ],
   "source": [
    "df_nutrient.set_index('title', inplace=True)\n",
    "df_nutrient.head(1)"
   ]
  },
  {
   "cell_type": "code",
   "execution_count": 30,
   "metadata": {},
   "outputs": [],
   "source": [
    "# save df_nutrient\n",
    "df_nutrient.to_csv('recipe_nutrient.csv')"
   ]
  },
  {
   "cell_type": "code",
   "execution_count": 31,
   "metadata": {},
   "outputs": [],
   "source": [
    "def print_rec(df, i):\n",
    "    recipe = df['recipe'][i]\n",
    "    serving = df['serving'][i]    \n",
    "    calorie = df['calorie'][i]\n",
    "    link = df['link'][i]\n",
    "    print(f'Day {i+1} : {recipe}')\n",
    "    print(f'Your serving: {serving}')\n",
    "    print(f'Calorie: {calorie}')\n",
    "    print(link)"
   ]
  },
  {
   "cell_type": "code",
   "execution_count": 32,
   "metadata": {},
   "outputs": [],
   "source": [
    "def plot_nutrient(df, i):\n",
    "    labels = ['Carbohydrate', 'Protein', 'Fat']\n",
    "    sizes = [df['carb ratio'][i], df['protein ratio'][i], df['fat ratio'][i]]\n",
    "    colors = ['lightcoral', 'lightskyblue', 'gold']\n",
    "\n",
    "    # plot\n",
    "    plt.pie(sizes, labels=labels, colors=colors, autopct='%1.1f%%', \n",
    "            startangle=90, counterclock=False)\n",
    "    plt.axis('square')\n",
    "    plt.show();"
   ]
  },
  {
   "cell_type": "code",
   "execution_count": 33,
   "metadata": {},
   "outputs": [],
   "source": [
    "# define a function to take in recommended recipe list and\n",
    "# filter for appropriate nutrition and cook time\n",
    "def optimizer(rec_recipes, protein_lower, protein_upper, calorie, df=df_nutrient, time='off'):\n",
    "    \"\"\"\n",
    "    Optimize recommended recipes based on nutrition values and cook time\n",
    "    \"\"\"\n",
    "    protein_lower = protein_lower # set protein min\n",
    "    protein_upper = protein_upper # set protein max \n",
    "    fat_limit = 0.35 # set fat_ratio limit\n",
    "    calorie_limit = calorie # set calorie limit \n",
    "\n",
    "    # create a new rec dict\n",
    "    new_rec = {'recipe': [], 'link': [], 'serving': [], 'calorie': [], 'protein': [], \n",
    "               'fat ratio': [], 'protein ratio': [], 'carb ratio': []}\n",
    "\n",
    "    while len(rec_recipes) > 0:\n",
    "        if len(new_rec['recipe']) == 5:\n",
    "            df = pd.DataFrame(new_rec, index=[['Day 1','Day 2','Day 3', 'Day 4', 'Day 5']])\n",
    "            print('Your 5-day dinner plan is ready.')\n",
    "            for i in range(5):\n",
    "                print_rec(df, i)\n",
    "                plot_nutrient(df, i)\n",
    "            return \n",
    "\n",
    "        recipe = np.random.choice(rec_recipes)\n",
    "        rec_recipes.remove(recipe)\n",
    "        \n",
    "        # check time\n",
    "        if time == 'on':\n",
    "            if df.loc[recipe].cook_time > 30 or df.loc[recipe].cook_time == 0:\n",
    "                continue\n",
    "            \n",
    "        # check fat\n",
    "        if df.loc[recipe].fat_ratio > fat_limit:\n",
    "            continue\n",
    "            \n",
    "        # check calorie\n",
    "        if df.loc[recipe].calorie > calorie_limit:\n",
    "            portion = np.round(calorie_limit/df.loc[recipe].calorie, 2) \n",
    "            protein = np.round(df.loc[recipe].protein_g * portion)\n",
    "            \n",
    "            # check protein\n",
    "            if protein < protein_lower or protein > protein_upper:\n",
    "                continue\n",
    "            calorie = np.round(df.loc[recipe].calorie * portion) \n",
    "            serving = np.round(portion/df.loc[recipe].servings, 1)\n",
    "            fat_ratio = df.loc[recipe].fat_ratio\n",
    "            protein_ratio = df.loc[recipe].protein_ratio            \n",
    "            carb_ratio = df.loc[recipe].carb_ratio            \n",
    "            link = df.loc[recipe].link            \n",
    "            new_rec['recipe'].append(recipe)\n",
    "            new_rec['link'].append(link)\n",
    "            new_rec['serving'].append(serving)\n",
    "            new_rec['calorie'].append(calorie)\n",
    "            new_rec['protein'].append(protein)\n",
    "            new_rec['fat ratio'].append(fat_ratio)\n",
    "            new_rec['protein ratio'].append(protein_ratio)\n",
    "            new_rec['carb ratio'].append(carb_ratio)\n",
    "            \n",
    "        else:\n",
    "            portion = np.round(calorie_limit/df.loc[recipe].calorie, 2) \n",
    "            protein = np.round(df.loc[recipe].protein_g * portion)\n",
    "            \n",
    "            # check protein\n",
    "            if protein < protein_lower or protein > protein_upper:\n",
    "                continue\n",
    "            calorie = np.round(df.loc[recipe].calorie * portion) \n",
    "            serving = np.round(portion/df.loc[recipe].servings, 1)\n",
    "            fat_ratio = df.loc[recipe].fat_ratio\n",
    "            protein_ratio = df.loc[recipe].protein_ratio            \n",
    "            carb_ratio = df.loc[recipe].carb_ratio            \n",
    "            link = df.loc[recipe].link\n",
    "            new_rec['recipe'].append(recipe)\n",
    "            new_rec['link'].append(link)\n",
    "            new_rec['serving'].append(serving)\n",
    "            new_rec['calorie'].append(calorie)\n",
    "            new_rec['protein'].append(protein)\n",
    "            new_rec['fat ratio'].append(fat_ratio)\n",
    "            new_rec['protein ratio'].append(protein_ratio)\n",
    "            new_rec['carb ratio'].append(carb_ratio)\n",
    "\n",
    "    print('Running out of recipes. Please start over and choose more preferred meals.')\n",
    "    return"
   ]
  },
  {
   "cell_type": "code",
   "execution_count": 34,
   "metadata": {
    "scrolled": false
   },
   "outputs": [
    {
     "name": "stdout",
     "output_type": "stream",
     "text": [
      "Your 5-day dinner plan is ready.\n",
      "Day 1 : Quick And Easy Shrimp Scampi\n",
      "Your serving: 0.1\n",
      "Calorie: 500.0\n",
      "https://www.allrecipes.com/recipe/12814/quick-and-easy-shrimp-scampi/\n"
     ]
    },
    {
     "data": {
      "image/png": "[encoded data removed]",
      "text/plain": [
       "<Figure size 432x288 with 1 Axes>"
      ]
     },
     "metadata": {},
     "output_type": "display_data"
    },
    {
     "name": "stdout",
     "output_type": "stream",
     "text": [
      "Day 2 : Creamy Tomato Tuna Penne Pasta\n",
      "Your serving: 0.2\n",
      "Calorie: 495.0\n",
      "https://www.allrecipes.com/recipe/221152/creamy-tomato-tuna-penne-pasta/\n"
     ]
    },
    {
     "data": {
      "image/png": "[encoded data removed]",
      "text/plain": [
       "<Figure size 432x288 with 1 Axes>"
      ]
     },
     "metadata": {},
     "output_type": "display_data"
    },
    {
     "name": "stdout",
     "output_type": "stream",
     "text": [
      "Day 3 : Chef Johns Beans And Greens\n",
      "Your serving: 0.4\n",
      "Calorie: 499.0\n",
      "https://www.allrecipes.com/recipe/222333/chef-johns-beans-and-greens/\n"
     ]
    },
    {
     "data": {
      "image/png": "[encoded data removed]",
      "text/plain": [
       "<Figure size 432x288 with 1 Axes>"
      ]
     },
     "metadata": {},
     "output_type": "display_data"
    },
    {
     "name": "stdout",
     "output_type": "stream",
     "text": [
      "Day 4 : Shrimp With Penne And Squash\n",
      "Your serving: 0.3\n",
      "Calorie: 500.0\n",
      "https://www.allrecipes.com/recipe/88102/shrimp-with-penne-and-squash/\n"
     ]
    },
    {
     "data": {
      "image/png": "[encoded data removed]",
      "text/plain": [
       "<Figure size 432x288 with 1 Axes>"
      ]
     },
     "metadata": {},
     "output_type": "display_data"
    },
    {
     "name": "stdout",
     "output_type": "stream",
     "text": [
      "Day 5 : Shrimp Fra Diavolo\n",
      "Your serving: 0.2\n",
      "Calorie: 498.0\n",
      "https://www.allrecipes.com/recipe/11731/shrimp-fra-diavolo/\n"
     ]
    },
    {
     "data": {
      "image/png": "[encoded data removed]",
      "text/plain": [
       "<Figure size 432x288 with 1 Axes>"
      ]
     },
     "metadata": {},
     "output_type": "display_data"
    }
   ],
   "source": [
    "optimizer(rec_recipes, 16, 44, 500, df_nutrient)"
   ]
  },
  {
   "cell_type": "markdown",
   "metadata": {},
   "source": [
    "References: \n",
    "\n",
    "https://towardsdatascience.com/how-to-build-from-scratch-a-content-based-movie-recommender-with-natural-language-processing-25ad400eb243\n",
    "\n",
    "https://towardsdatascience.com/end-to-end-topic-modeling-in-python-latent-dirichlet-allocation-lda-35ce4ed6b3e0\n",
    "\n",
    "https://health.gov/dietaryguidelines/2015/guidelines/appendix-7/\n",
    "\n",
    "https://www.ncbi.nlm.nih.gov/books/NBK56068/table/summarytables.t4/?report=objectonly\n",
    "\n",
    "https://www.cdc.gov/healthyweight/losing_weight/index.html"
   ]
  }
 ],
 "metadata": {
  "kernelspec": {
   "display_name": "Python 3",
   "language": "python",
   "name": "python3"
  },
  "language_info": {
   "codemirror_mode": {
    "name": "ipython",
    "version": 3
   },
   "file_extension": ".py",
   "mimetype": "text/x-python",
   "name": "python",
   "nbconvert_exporter": "python",
   "pygments_lexer": "ipython3",
   "version": "3.7.3"
  }
 },
 "nbformat": 4,
 "nbformat_minor": 2
}
