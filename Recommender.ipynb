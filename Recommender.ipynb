{
 "cells": [
  {
   "cell_type": "code",
   "execution_count": 127,
   "metadata": {},
   "outputs": [],
   "source": [
    "import numpy as np\n",
    "import pandas as pd\n",
    "import matplotlib.pyplot as plt\n",
    "import seaborn as sns\n",
    "%matplotlib inline"
   ]
  },
  {
   "cell_type": "code",
   "execution_count": 2,
   "metadata": {},
   "outputs": [
    {
     "data": {
      "text/html": [
       "<div>\n",
       "<style scoped>\n",
       "    .dataframe tbody tr th:only-of-type {\n",
       "        vertical-align: middle;\n",
       "    }\n",
       "\n",
       "    .dataframe tbody tr th {\n",
       "        vertical-align: top;\n",
       "    }\n",
       "\n",
       "    .dataframe thead th {\n",
       "        text-align: right;\n",
       "    }\n",
       "</style>\n",
       "<table border=\"1\" class=\"dataframe\">\n",
       "  <thead>\n",
       "    <tr style=\"text-align: right;\">\n",
       "      <th></th>\n",
       "      <th>veggie_seafood</th>\n",
       "      <th>soup</th>\n",
       "      <th>italian</th>\n",
       "      <th>asian</th>\n",
       "      <th>bread_cookie</th>\n",
       "    </tr>\n",
       "    <tr>\n",
       "      <th>title</th>\n",
       "      <th></th>\n",
       "      <th></th>\n",
       "      <th></th>\n",
       "      <th></th>\n",
       "      <th></th>\n",
       "    </tr>\n",
       "  </thead>\n",
       "  <tbody>\n",
       "    <tr>\n",
       "      <th>1 Pea Salad Most Requested</th>\n",
       "      <td>0.924249</td>\n",
       "      <td>0.026679</td>\n",
       "      <td>0.019934</td>\n",
       "      <td>0.015853</td>\n",
       "      <td>0.013285</td>\n",
       "    </tr>\n",
       "    <tr>\n",
       "      <th>10 Minute Tomato Basil Salad</th>\n",
       "      <td>0.948437</td>\n",
       "      <td>0.017808</td>\n",
       "      <td>0.013628</td>\n",
       "      <td>0.010946</td>\n",
       "      <td>0.000000</td>\n",
       "    </tr>\n",
       "    <tr>\n",
       "      <th>5 Cup Salad</th>\n",
       "      <td>0.034310</td>\n",
       "      <td>0.282062</td>\n",
       "      <td>0.017625</td>\n",
       "      <td>0.014268</td>\n",
       "      <td>0.651734</td>\n",
       "    </tr>\n",
       "    <tr>\n",
       "      <th>5 Minute Microwave Cornbread</th>\n",
       "      <td>0.041864</td>\n",
       "      <td>0.019712</td>\n",
       "      <td>0.014704</td>\n",
       "      <td>0.011895</td>\n",
       "      <td>0.911825</td>\n",
       "    </tr>\n",
       "    <tr>\n",
       "      <th>7 Layer Salad</th>\n",
       "      <td>0.269594</td>\n",
       "      <td>0.412651</td>\n",
       "      <td>0.222569</td>\n",
       "      <td>0.000000</td>\n",
       "      <td>0.087669</td>\n",
       "    </tr>\n",
       "  </tbody>\n",
       "</table>\n",
       "</div>"
      ],
      "text/plain": [
       "                              veggie_seafood      soup   italian     asian  \\\n",
       "title                                                                        \n",
       "1 Pea Salad Most Requested          0.924249  0.026679  0.019934  0.015853   \n",
       "10 Minute Tomato Basil Salad        0.948437  0.017808  0.013628  0.010946   \n",
       "5 Cup Salad                         0.034310  0.282062  0.017625  0.014268   \n",
       "5 Minute Microwave Cornbread        0.041864  0.019712  0.014704  0.011895   \n",
       "7 Layer Salad                       0.269594  0.412651  0.222569  0.000000   \n",
       "\n",
       "                              bread_cookie  \n",
       "title                                       \n",
       "1 Pea Salad Most Requested        0.013285  \n",
       "10 Minute Tomato Basil Salad      0.000000  \n",
       "5 Cup Salad                       0.651734  \n",
       "5 Minute Microwave Cornbread      0.911825  \n",
       "7 Layer Salad                     0.087669  "
      ]
     },
     "execution_count": 2,
     "metadata": {},
     "output_type": "execute_result"
    }
   ],
   "source": [
    "lda_matrix = pd.read_csv('lda_matrix.csv')\n",
    "lda_matrix.set_index('title', inplace=True)\n",
    "lda_matrix.head()"
   ]
  },
  {
   "cell_type": "markdown",
   "metadata": {},
   "source": [
    "# Content-based Recommender \n",
    "## Cosine Similarity"
   ]
  },
  {
   "cell_type": "code",
   "execution_count": 3,
   "metadata": {},
   "outputs": [],
   "source": [
    "from sklearn.metrics.pairwise import cosine_similarity"
   ]
  },
  {
   "cell_type": "code",
   "execution_count": 4,
   "metadata": {},
   "outputs": [],
   "source": [
    "lda_array = lda_matrix.to_numpy()"
   ]
  },
  {
   "cell_type": "code",
   "execution_count": 5,
   "metadata": {},
   "outputs": [
    {
     "data": {
      "text/plain": [
       "array([[0.92424917, 0.02667881, 0.01993443, 0.01585265, 0.01328492],\n",
       "       [0.94843704, 0.01780761, 0.01362788, 0.01094616, 0.        ],\n",
       "       [0.03431042, 0.28206185, 0.01762547, 0.0142685 , 0.65173376],\n",
       "       ...,\n",
       "       [0.65090382, 0.0184241 , 0.31054133, 0.01094916, 0.        ],\n",
       "       [0.96003896, 0.0141366 , 0.01041716, 0.        , 0.        ],\n",
       "       [0.03192278, 0.93667972, 0.01268041, 0.01018789, 0.        ]])"
      ]
     },
     "execution_count": 5,
     "metadata": {},
     "output_type": "execute_result"
    }
   ],
   "source": [
    "lda_array"
   ]
  },
  {
   "cell_type": "code",
   "execution_count": 6,
   "metadata": {
    "scrolled": true
   },
   "outputs": [
    {
     "data": {
      "text/plain": [
       "(3954, 5)"
      ]
     },
     "execution_count": 6,
     "metadata": {},
     "output_type": "execute_result"
    }
   ],
   "source": [
    "lda_array.shape"
   ]
  },
  {
   "cell_type": "code",
   "execution_count": 7,
   "metadata": {},
   "outputs": [],
   "source": [
    "cosine_sim = cosine_similarity(lda_array)"
   ]
  },
  {
   "cell_type": "code",
   "execution_count": 8,
   "metadata": {
    "scrolled": true
   },
   "outputs": [
    {
     "data": {
      "text/plain": [
       "(3954, 3954)"
      ]
     },
     "execution_count": 8,
     "metadata": {},
     "output_type": "execute_result"
    }
   ],
   "source": [
    "cosine_sim.shape"
   ]
  },
  {
   "cell_type": "code",
   "execution_count": 9,
   "metadata": {},
   "outputs": [],
   "source": [
    "# creating a Series for recipe titles\n",
    "indices = pd.Series(lda_matrix.index)"
   ]
  },
  {
   "cell_type": "code",
   "execution_count": 10,
   "metadata": {},
   "outputs": [],
   "source": [
    "# define a function to take in recipe title and return the top 10 recommended recipes\n",
    "def recommender(title, df=lda_matrix, cosine_sim=cosine_sim, top_n=10):\n",
    "    \n",
    "    # initialize an empty list of recommended recipes\n",
    "    rec_recipes = []\n",
    "    \n",
    "    # get the index of the movie that matches the title\n",
    "    idx = indices[indices == title].index[0]\n",
    "\n",
    "    # creating a Series with the similarity scores in descending order\n",
    "    score_series = pd.Series(cosine_sim[idx]).sort_values(ascending=False)\n",
    "\n",
    "    # getting the indexes of the n most similar movies\n",
    "    top_n_idx = score_series.iloc[1:top_n+1].index.tolist()\n",
    "    \n",
    "    # get the title of the top n matching recipes\n",
    "    for i in top_n_idx:\n",
    "        rec_recipes.append(df.index[i])\n",
    "        \n",
    "    return rec_recipes"
   ]
  },
  {
   "cell_type": "code",
   "execution_count": 128,
   "metadata": {},
   "outputs": [],
   "source": [
    "options = ['A Scotsmans Shepherd Pie']\n",
    "total_rec_recipes = []\n",
    "for title in options:\n",
    "    rec_recipes = recommender(title, top_n=100)\n",
    "    total_rec_recipes.extend(rec_recipes)"
   ]
  },
  {
   "cell_type": "code",
   "execution_count": 123,
   "metadata": {
    "scrolled": true
   },
   "outputs": [
    {
     "data": {
      "text/plain": [
       "100"
      ]
     },
     "execution_count": 123,
     "metadata": {},
     "output_type": "execute_result"
    }
   ],
   "source": [
    "len(total_rec_recipes)"
   ]
  },
  {
   "cell_type": "markdown",
   "metadata": {},
   "source": [
    "# Validation \n",
    "## Mean Similarity"
   ]
  },
  {
   "cell_type": "code",
   "execution_count": 337,
   "metadata": {},
   "outputs": [],
   "source": [
    "def mean_similarity(title_list, df=lda_matrix):\n",
    "    \"\"\"\n",
    "    Calculate mean cosine similarity of two or more recipes\n",
    "    \"\"\"\n",
    "    array = lda_matrix.loc[title_list,:].to_numpy()\n",
    "    cosine_sim = cosine_similarity(array)\n",
    "    n_recipe = len(title_list)\n",
    "    if n_recipe == 2:\n",
    "        sim_score = np.round(cosine_sim[0, 1], 2)\n",
    "    elif n_recipe > 2:\n",
    "        sim_score = np.round(cosine_sim[0, 1:n_recipe].mean(), 2)\n",
    "    else:\n",
    "        print('Please choose at least two recipes to compare.')\n",
    "    \n",
    "    return sim_score"
   ]
  },
  {
   "cell_type": "code",
   "execution_count": 341,
   "metadata": {},
   "outputs": [
    {
     "data": {
      "text/plain": [
       "0.98"
      ]
     },
     "execution_count": 341,
     "metadata": {},
     "output_type": "execute_result"
    }
   ],
   "source": [
    "mean_similarity(total_rec_recipes)"
   ]
  },
  {
   "cell_type": "markdown",
   "metadata": {},
   "source": [
    "# Optimizaiton"
   ]
  },
  {
   "cell_type": "code",
   "execution_count": 113,
   "metadata": {},
   "outputs": [
    {
     "data": {
      "text/html": [
       "<div>\n",
       "<style scoped>\n",
       "    .dataframe tbody tr th:only-of-type {\n",
       "        vertical-align: middle;\n",
       "    }\n",
       "\n",
       "    .dataframe tbody tr th {\n",
       "        vertical-align: top;\n",
       "    }\n",
       "\n",
       "    .dataframe thead th {\n",
       "        text-align: right;\n",
       "    }\n",
       "</style>\n",
       "<table border=\"1\" class=\"dataframe\">\n",
       "  <thead>\n",
       "    <tr style=\"text-align: right;\">\n",
       "      <th></th>\n",
       "      <th>link</th>\n",
       "      <th>title</th>\n",
       "      <th>ratings</th>\n",
       "      <th>num_reviews</th>\n",
       "      <th>ingredients</th>\n",
       "      <th>servings</th>\n",
       "      <th>cook_time</th>\n",
       "      <th>calorie</th>\n",
       "      <th>fat_g</th>\n",
       "      <th>carb_g</th>\n",
       "      <th>protein_g</th>\n",
       "      <th>cholesterol_mg</th>\n",
       "      <th>sodium_mg</th>\n",
       "    </tr>\n",
       "  </thead>\n",
       "  <tbody>\n",
       "    <tr>\n",
       "      <th>0</th>\n",
       "      <td>https://www.allrecipes.com/recipe/100195/baked...</td>\n",
       "      <td>Baked Haddock</td>\n",
       "      <td>4.59</td>\n",
       "      <td>731</td>\n",
       "      <td>['3/4 cup milk', '2 teaspoons salt', '3/4 cup ...</td>\n",
       "      <td>4.0</td>\n",
       "      <td>25</td>\n",
       "      <td>325.0</td>\n",
       "      <td>15.7</td>\n",
       "      <td>17.0</td>\n",
       "      <td>27.7</td>\n",
       "      <td>103.0</td>\n",
       "      <td>1565.0</td>\n",
       "    </tr>\n",
       "    <tr>\n",
       "      <th>1</th>\n",
       "      <td>https://www.allrecipes.com/recipe/100606/beef-...</td>\n",
       "      <td>Beef Bulgogi</td>\n",
       "      <td>4.79</td>\n",
       "      <td>664</td>\n",
       "      <td>['1 pound flank steak, thinly sliced', '5 tabl...</td>\n",
       "      <td>4.0</td>\n",
       "      <td>75</td>\n",
       "      <td>232.0</td>\n",
       "      <td>13.2</td>\n",
       "      <td>12.4</td>\n",
       "      <td>16.2</td>\n",
       "      <td>27.0</td>\n",
       "      <td>1157.0</td>\n",
       "    </tr>\n",
       "    <tr>\n",
       "      <th>2</th>\n",
       "      <td>https://www.allrecipes.com/recipe/102159/apric...</td>\n",
       "      <td>Apricot Brown Sugar Ham</td>\n",
       "      <td>4.72</td>\n",
       "      <td>210</td>\n",
       "      <td>['1 (10 pound) fully-cooked spiral cut ham', '...</td>\n",
       "      <td>15.0</td>\n",
       "      <td>120</td>\n",
       "      <td>801.0</td>\n",
       "      <td>56.2</td>\n",
       "      <td>14.4</td>\n",
       "      <td>56.1</td>\n",
       "      <td>170.0</td>\n",
       "      <td>3895.0</td>\n",
       "    </tr>\n",
       "    <tr>\n",
       "      <th>3</th>\n",
       "      <td>https://www.allrecipes.com/recipe/103503/taco-...</td>\n",
       "      <td>Taco Stuffed Shells</td>\n",
       "      <td>4.55</td>\n",
       "      <td>111</td>\n",
       "      <td>['16 jumbo pasta shells', '1 pound ground beef...</td>\n",
       "      <td>8.0</td>\n",
       "      <td>80</td>\n",
       "      <td>361.0</td>\n",
       "      <td>17.6</td>\n",
       "      <td>30.4</td>\n",
       "      <td>19.8</td>\n",
       "      <td>60.0</td>\n",
       "      <td>957.0</td>\n",
       "    </tr>\n",
       "    <tr>\n",
       "      <th>4</th>\n",
       "      <td>https://www.allrecipes.com/recipe/103535/black...</td>\n",
       "      <td>Blackened Tuna Steaks With Mango Salsa</td>\n",
       "      <td>4.85</td>\n",
       "      <td>238</td>\n",
       "      <td>['2 tablespoons olive oil', '2 tablespoons lim...</td>\n",
       "      <td>4.0</td>\n",
       "      <td>235</td>\n",
       "      <td>458.0</td>\n",
       "      <td>24.7</td>\n",
       "      <td>18.3</td>\n",
       "      <td>42.1</td>\n",
       "      <td>77.0</td>\n",
       "      <td>1233.0</td>\n",
       "    </tr>\n",
       "  </tbody>\n",
       "</table>\n",
       "</div>"
      ],
      "text/plain": [
       "                                                link  \\\n",
       "0  https://www.allrecipes.com/recipe/100195/baked...   \n",
       "1  https://www.allrecipes.com/recipe/100606/beef-...   \n",
       "2  https://www.allrecipes.com/recipe/102159/apric...   \n",
       "3  https://www.allrecipes.com/recipe/103503/taco-...   \n",
       "4  https://www.allrecipes.com/recipe/103535/black...   \n",
       "\n",
       "                                    title  ratings  num_reviews  \\\n",
       "0                           Baked Haddock     4.59          731   \n",
       "1                            Beef Bulgogi     4.79          664   \n",
       "2                 Apricot Brown Sugar Ham     4.72          210   \n",
       "3                     Taco Stuffed Shells     4.55          111   \n",
       "4  Blackened Tuna Steaks With Mango Salsa     4.85          238   \n",
       "\n",
       "                                         ingredients  servings  cook_time  \\\n",
       "0  ['3/4 cup milk', '2 teaspoons salt', '3/4 cup ...       4.0         25   \n",
       "1  ['1 pound flank steak, thinly sliced', '5 tabl...       4.0         75   \n",
       "2  ['1 (10 pound) fully-cooked spiral cut ham', '...      15.0        120   \n",
       "3  ['16 jumbo pasta shells', '1 pound ground beef...       8.0         80   \n",
       "4  ['2 tablespoons olive oil', '2 tablespoons lim...       4.0        235   \n",
       "\n",
       "   calorie  fat_g  carb_g  protein_g  cholesterol_mg  sodium_mg  \n",
       "0    325.0   15.7    17.0       27.7           103.0     1565.0  \n",
       "1    232.0   13.2    12.4       16.2            27.0     1157.0  \n",
       "2    801.0   56.2    14.4       56.1           170.0     3895.0  \n",
       "3    361.0   17.6    30.4       19.8            60.0      957.0  \n",
       "4    458.0   24.7    18.3       42.1            77.0     1233.0  "
      ]
     },
     "execution_count": 113,
     "metadata": {},
     "output_type": "execute_result"
    }
   ],
   "source": [
    "df = pd.read_csv('recipe_clean.csv')\n",
    "df.head()"
   ]
  },
  {
   "cell_type": "code",
   "execution_count": 114,
   "metadata": {
    "scrolled": true
   },
   "outputs": [
    {
     "data": {
      "text/html": [
       "<div>\n",
       "<style scoped>\n",
       "    .dataframe tbody tr th:only-of-type {\n",
       "        vertical-align: middle;\n",
       "    }\n",
       "\n",
       "    .dataframe tbody tr th {\n",
       "        vertical-align: top;\n",
       "    }\n",
       "\n",
       "    .dataframe thead th {\n",
       "        text-align: right;\n",
       "    }\n",
       "</style>\n",
       "<table border=\"1\" class=\"dataframe\">\n",
       "  <thead>\n",
       "    <tr style=\"text-align: right;\">\n",
       "      <th></th>\n",
       "      <th>cook_time</th>\n",
       "      <th>servings</th>\n",
       "      <th>ratings</th>\n",
       "      <th>calorie</th>\n",
       "      <th>fat_g</th>\n",
       "      <th>protein_g</th>\n",
       "      <th>carb_g</th>\n",
       "      <th>link</th>\n",
       "    </tr>\n",
       "    <tr>\n",
       "      <th>title</th>\n",
       "      <th></th>\n",
       "      <th></th>\n",
       "      <th></th>\n",
       "      <th></th>\n",
       "      <th></th>\n",
       "      <th></th>\n",
       "      <th></th>\n",
       "      <th></th>\n",
       "    </tr>\n",
       "  </thead>\n",
       "  <tbody>\n",
       "    <tr>\n",
       "      <th>Baked Haddock</th>\n",
       "      <td>25</td>\n",
       "      <td>4.0</td>\n",
       "      <td>4.59</td>\n",
       "      <td>325.0</td>\n",
       "      <td>15.7</td>\n",
       "      <td>27.7</td>\n",
       "      <td>17.0</td>\n",
       "      <td>https://www.allrecipes.com/recipe/100195/baked...</td>\n",
       "    </tr>\n",
       "    <tr>\n",
       "      <th>Beef Bulgogi</th>\n",
       "      <td>75</td>\n",
       "      <td>4.0</td>\n",
       "      <td>4.79</td>\n",
       "      <td>232.0</td>\n",
       "      <td>13.2</td>\n",
       "      <td>16.2</td>\n",
       "      <td>12.4</td>\n",
       "      <td>https://www.allrecipes.com/recipe/100606/beef-...</td>\n",
       "    </tr>\n",
       "    <tr>\n",
       "      <th>Apricot Brown Sugar Ham</th>\n",
       "      <td>120</td>\n",
       "      <td>15.0</td>\n",
       "      <td>4.72</td>\n",
       "      <td>801.0</td>\n",
       "      <td>56.2</td>\n",
       "      <td>56.1</td>\n",
       "      <td>14.4</td>\n",
       "      <td>https://www.allrecipes.com/recipe/102159/apric...</td>\n",
       "    </tr>\n",
       "    <tr>\n",
       "      <th>Taco Stuffed Shells</th>\n",
       "      <td>80</td>\n",
       "      <td>8.0</td>\n",
       "      <td>4.55</td>\n",
       "      <td>361.0</td>\n",
       "      <td>17.6</td>\n",
       "      <td>19.8</td>\n",
       "      <td>30.4</td>\n",
       "      <td>https://www.allrecipes.com/recipe/103503/taco-...</td>\n",
       "    </tr>\n",
       "    <tr>\n",
       "      <th>Blackened Tuna Steaks With Mango Salsa</th>\n",
       "      <td>235</td>\n",
       "      <td>4.0</td>\n",
       "      <td>4.85</td>\n",
       "      <td>458.0</td>\n",
       "      <td>24.7</td>\n",
       "      <td>42.1</td>\n",
       "      <td>18.3</td>\n",
       "      <td>https://www.allrecipes.com/recipe/103535/black...</td>\n",
       "    </tr>\n",
       "  </tbody>\n",
       "</table>\n",
       "</div>"
      ],
      "text/plain": [
       "                                        cook_time  servings  ratings  calorie  \\\n",
       "title                                                                           \n",
       "Baked Haddock                                  25       4.0     4.59    325.0   \n",
       "Beef Bulgogi                                   75       4.0     4.79    232.0   \n",
       "Apricot Brown Sugar Ham                       120      15.0     4.72    801.0   \n",
       "Taco Stuffed Shells                            80       8.0     4.55    361.0   \n",
       "Blackened Tuna Steaks With Mango Salsa        235       4.0     4.85    458.0   \n",
       "\n",
       "                                        fat_g  protein_g  carb_g  \\\n",
       "title                                                              \n",
       "Baked Haddock                            15.7       27.7    17.0   \n",
       "Beef Bulgogi                             13.2       16.2    12.4   \n",
       "Apricot Brown Sugar Ham                  56.2       56.1    14.4   \n",
       "Taco Stuffed Shells                      17.6       19.8    30.4   \n",
       "Blackened Tuna Steaks With Mango Salsa   24.7       42.1    18.3   \n",
       "\n",
       "                                                                                     link  \n",
       "title                                                                                      \n",
       "Baked Haddock                           https://www.allrecipes.com/recipe/100195/baked...  \n",
       "Beef Bulgogi                            https://www.allrecipes.com/recipe/100606/beef-...  \n",
       "Apricot Brown Sugar Ham                 https://www.allrecipes.com/recipe/102159/apric...  \n",
       "Taco Stuffed Shells                     https://www.allrecipes.com/recipe/103503/taco-...  \n",
       "Blackened Tuna Steaks With Mango Salsa  https://www.allrecipes.com/recipe/103535/black...  "
      ]
     },
     "execution_count": 114,
     "metadata": {},
     "output_type": "execute_result"
    }
   ],
   "source": [
    "df_nutrient = df[['title','cook_time','servings','ratings','calorie','fat_g','protein_g','carb_g','link']]\n",
    "df_nutrient.set_index('title', inplace=True)\n",
    "df_nutrient.head()"
   ]
  },
  {
   "cell_type": "code",
   "execution_count": 115,
   "metadata": {},
   "outputs": [
    {
     "name": "stderr",
     "output_type": "stream",
     "text": [
      "/Users/fivecentsly/anaconda3/lib/python3.7/site-packages/ipykernel_launcher.py:1: SettingWithCopyWarning: \n",
      "A value is trying to be set on a copy of a slice from a DataFrame.\n",
      "Try using .loc[row_indexer,col_indexer] = value instead\n",
      "\n",
      "See the caveats in the documentation: http://pandas.pydata.org/pandas-docs/stable/indexing.html#indexing-view-versus-copy\n",
      "  \"\"\"Entry point for launching an IPython kernel.\n",
      "/Users/fivecentsly/anaconda3/lib/python3.7/site-packages/ipykernel_launcher.py:2: SettingWithCopyWarning: \n",
      "A value is trying to be set on a copy of a slice from a DataFrame.\n",
      "Try using .loc[row_indexer,col_indexer] = value instead\n",
      "\n",
      "See the caveats in the documentation: http://pandas.pydata.org/pandas-docs/stable/indexing.html#indexing-view-versus-copy\n",
      "  \n",
      "/Users/fivecentsly/anaconda3/lib/python3.7/site-packages/ipykernel_launcher.py:3: SettingWithCopyWarning: \n",
      "A value is trying to be set on a copy of a slice from a DataFrame.\n",
      "Try using .loc[row_indexer,col_indexer] = value instead\n",
      "\n",
      "See the caveats in the documentation: http://pandas.pydata.org/pandas-docs/stable/indexing.html#indexing-view-versus-copy\n",
      "  This is separate from the ipykernel package so we can avoid doing imports until\n"
     ]
    },
    {
     "data": {
      "text/html": [
       "<div>\n",
       "<style scoped>\n",
       "    .dataframe tbody tr th:only-of-type {\n",
       "        vertical-align: middle;\n",
       "    }\n",
       "\n",
       "    .dataframe tbody tr th {\n",
       "        vertical-align: top;\n",
       "    }\n",
       "\n",
       "    .dataframe thead th {\n",
       "        text-align: right;\n",
       "    }\n",
       "</style>\n",
       "<table border=\"1\" class=\"dataframe\">\n",
       "  <thead>\n",
       "    <tr style=\"text-align: right;\">\n",
       "      <th></th>\n",
       "      <th>cook_time</th>\n",
       "      <th>servings</th>\n",
       "      <th>ratings</th>\n",
       "      <th>calorie</th>\n",
       "      <th>fat_g</th>\n",
       "      <th>protein_g</th>\n",
       "      <th>carb_g</th>\n",
       "      <th>link</th>\n",
       "      <th>fat_ratio</th>\n",
       "      <th>protein_ratio</th>\n",
       "      <th>carb_ratio</th>\n",
       "    </tr>\n",
       "    <tr>\n",
       "      <th>title</th>\n",
       "      <th></th>\n",
       "      <th></th>\n",
       "      <th></th>\n",
       "      <th></th>\n",
       "      <th></th>\n",
       "      <th></th>\n",
       "      <th></th>\n",
       "      <th></th>\n",
       "      <th></th>\n",
       "      <th></th>\n",
       "      <th></th>\n",
       "    </tr>\n",
       "  </thead>\n",
       "  <tbody>\n",
       "    <tr>\n",
       "      <th>Baked Haddock</th>\n",
       "      <td>25</td>\n",
       "      <td>4.0</td>\n",
       "      <td>4.59</td>\n",
       "      <td>325.0</td>\n",
       "      <td>15.7</td>\n",
       "      <td>27.7</td>\n",
       "      <td>17.0</td>\n",
       "      <td>https://www.allrecipes.com/recipe/100195/baked...</td>\n",
       "      <td>0.43</td>\n",
       "      <td>0.34</td>\n",
       "      <td>0.23</td>\n",
       "    </tr>\n",
       "    <tr>\n",
       "      <th>Beef Bulgogi</th>\n",
       "      <td>75</td>\n",
       "      <td>4.0</td>\n",
       "      <td>4.79</td>\n",
       "      <td>232.0</td>\n",
       "      <td>13.2</td>\n",
       "      <td>16.2</td>\n",
       "      <td>12.4</td>\n",
       "      <td>https://www.allrecipes.com/recipe/100606/beef-...</td>\n",
       "      <td>0.51</td>\n",
       "      <td>0.28</td>\n",
       "      <td>0.21</td>\n",
       "    </tr>\n",
       "    <tr>\n",
       "      <th>Apricot Brown Sugar Ham</th>\n",
       "      <td>120</td>\n",
       "      <td>15.0</td>\n",
       "      <td>4.72</td>\n",
       "      <td>801.0</td>\n",
       "      <td>56.2</td>\n",
       "      <td>56.1</td>\n",
       "      <td>14.4</td>\n",
       "      <td>https://www.allrecipes.com/recipe/102159/apric...</td>\n",
       "      <td>0.63</td>\n",
       "      <td>0.28</td>\n",
       "      <td>0.09</td>\n",
       "    </tr>\n",
       "    <tr>\n",
       "      <th>Taco Stuffed Shells</th>\n",
       "      <td>80</td>\n",
       "      <td>8.0</td>\n",
       "      <td>4.55</td>\n",
       "      <td>361.0</td>\n",
       "      <td>17.6</td>\n",
       "      <td>19.8</td>\n",
       "      <td>30.4</td>\n",
       "      <td>https://www.allrecipes.com/recipe/103503/taco-...</td>\n",
       "      <td>0.44</td>\n",
       "      <td>0.22</td>\n",
       "      <td>0.34</td>\n",
       "    </tr>\n",
       "    <tr>\n",
       "      <th>Blackened Tuna Steaks With Mango Salsa</th>\n",
       "      <td>235</td>\n",
       "      <td>4.0</td>\n",
       "      <td>4.85</td>\n",
       "      <td>458.0</td>\n",
       "      <td>24.7</td>\n",
       "      <td>42.1</td>\n",
       "      <td>18.3</td>\n",
       "      <td>https://www.allrecipes.com/recipe/103535/black...</td>\n",
       "      <td>0.49</td>\n",
       "      <td>0.37</td>\n",
       "      <td>0.14</td>\n",
       "    </tr>\n",
       "  </tbody>\n",
       "</table>\n",
       "</div>"
      ],
      "text/plain": [
       "                                        cook_time  servings  ratings  calorie  \\\n",
       "title                                                                           \n",
       "Baked Haddock                                  25       4.0     4.59    325.0   \n",
       "Beef Bulgogi                                   75       4.0     4.79    232.0   \n",
       "Apricot Brown Sugar Ham                       120      15.0     4.72    801.0   \n",
       "Taco Stuffed Shells                            80       8.0     4.55    361.0   \n",
       "Blackened Tuna Steaks With Mango Salsa        235       4.0     4.85    458.0   \n",
       "\n",
       "                                        fat_g  protein_g  carb_g  \\\n",
       "title                                                              \n",
       "Baked Haddock                            15.7       27.7    17.0   \n",
       "Beef Bulgogi                             13.2       16.2    12.4   \n",
       "Apricot Brown Sugar Ham                  56.2       56.1    14.4   \n",
       "Taco Stuffed Shells                      17.6       19.8    30.4   \n",
       "Blackened Tuna Steaks With Mango Salsa   24.7       42.1    18.3   \n",
       "\n",
       "                                                                                     link  \\\n",
       "title                                                                                       \n",
       "Baked Haddock                           https://www.allrecipes.com/recipe/100195/baked...   \n",
       "Beef Bulgogi                            https://www.allrecipes.com/recipe/100606/beef-...   \n",
       "Apricot Brown Sugar Ham                 https://www.allrecipes.com/recipe/102159/apric...   \n",
       "Taco Stuffed Shells                     https://www.allrecipes.com/recipe/103503/taco-...   \n",
       "Blackened Tuna Steaks With Mango Salsa  https://www.allrecipes.com/recipe/103535/black...   \n",
       "\n",
       "                                        fat_ratio  protein_ratio  carb_ratio  \n",
       "title                                                                         \n",
       "Baked Haddock                                0.43           0.34        0.23  \n",
       "Beef Bulgogi                                 0.51           0.28        0.21  \n",
       "Apricot Brown Sugar Ham                      0.63           0.28        0.09  \n",
       "Taco Stuffed Shells                          0.44           0.22        0.34  \n",
       "Blackened Tuna Steaks With Mango Salsa       0.49           0.37        0.14  "
      ]
     },
     "execution_count": 115,
     "metadata": {},
     "output_type": "execute_result"
    }
   ],
   "source": [
    "df_nutrient['fat_ratio'] = np.round(df_nutrient.fat_g * 9 / df_nutrient.calorie, 2)\n",
    "df_nutrient['protein_ratio'] = np.round(df_nutrient.protein_g * 4 / df_nutrient.calorie, 2)\n",
    "df_nutrient['carb_ratio'] = 1 - df_nutrient['fat_ratio'] - df_nutrient['protein_ratio']\n",
    "df_nutrient.head()"
   ]
  },
  {
   "cell_type": "code",
   "execution_count": 116,
   "metadata": {},
   "outputs": [
    {
     "data": {
      "text/html": [
       "<div>\n",
       "<style scoped>\n",
       "    .dataframe tbody tr th:only-of-type {\n",
       "        vertical-align: middle;\n",
       "    }\n",
       "\n",
       "    .dataframe tbody tr th {\n",
       "        vertical-align: top;\n",
       "    }\n",
       "\n",
       "    .dataframe thead th {\n",
       "        text-align: right;\n",
       "    }\n",
       "</style>\n",
       "<table border=\"1\" class=\"dataframe\">\n",
       "  <thead>\n",
       "    <tr style=\"text-align: right;\">\n",
       "      <th></th>\n",
       "      <th>calorie</th>\n",
       "      <th>cook_time</th>\n",
       "      <th>servings</th>\n",
       "      <th>ratings</th>\n",
       "      <th>fat_g</th>\n",
       "      <th>protein_g</th>\n",
       "      <th>carb_g</th>\n",
       "      <th>fat_ratio</th>\n",
       "      <th>protein_ratio</th>\n",
       "      <th>carb_ratio</th>\n",
       "      <th>link</th>\n",
       "    </tr>\n",
       "    <tr>\n",
       "      <th>title</th>\n",
       "      <th></th>\n",
       "      <th></th>\n",
       "      <th></th>\n",
       "      <th></th>\n",
       "      <th></th>\n",
       "      <th></th>\n",
       "      <th></th>\n",
       "      <th></th>\n",
       "      <th></th>\n",
       "      <th></th>\n",
       "      <th></th>\n",
       "    </tr>\n",
       "  </thead>\n",
       "  <tbody>\n",
       "    <tr>\n",
       "      <th>Baked Haddock</th>\n",
       "      <td>325.0</td>\n",
       "      <td>25</td>\n",
       "      <td>4.0</td>\n",
       "      <td>4.59</td>\n",
       "      <td>15.7</td>\n",
       "      <td>27.7</td>\n",
       "      <td>17.0</td>\n",
       "      <td>0.43</td>\n",
       "      <td>0.34</td>\n",
       "      <td>0.23</td>\n",
       "      <td>https://www.allrecipes.com/recipe/100195/baked...</td>\n",
       "    </tr>\n",
       "  </tbody>\n",
       "</table>\n",
       "</div>"
      ],
      "text/plain": [
       "               calorie  cook_time  servings  ratings  fat_g  protein_g  \\\n",
       "title                                                                    \n",
       "Baked Haddock    325.0         25       4.0     4.59   15.7       27.7   \n",
       "\n",
       "               carb_g  fat_ratio  protein_ratio  carb_ratio  \\\n",
       "title                                                         \n",
       "Baked Haddock    17.0       0.43           0.34        0.23   \n",
       "\n",
       "                                                            link  \n",
       "title                                                             \n",
       "Baked Haddock  https://www.allrecipes.com/recipe/100195/baked...  "
      ]
     },
     "execution_count": 116,
     "metadata": {},
     "output_type": "execute_result"
    }
   ],
   "source": [
    "df_nutrient = df_nutrient[['calorie','cook_time','servings','ratings','fat_g','protein_g','carb_g',\n",
    "                           'fat_ratio','protein_ratio','carb_ratio','link']]\n",
    "df_nutrient.head(1)"
   ]
  },
  {
   "cell_type": "code",
   "execution_count": 117,
   "metadata": {},
   "outputs": [
    {
     "data": {
      "text/plain": [
       "(3954, 11)"
      ]
     },
     "execution_count": 117,
     "metadata": {},
     "output_type": "execute_result"
    }
   ],
   "source": [
    "df_nutrient.shape"
   ]
  },
  {
   "cell_type": "code",
   "execution_count": 118,
   "metadata": {},
   "outputs": [],
   "source": [
    "# save df_nutrient\n",
    "df_nutrient.to_csv('recipe_nutrient.csv')"
   ]
  },
  {
   "cell_type": "code",
   "execution_count": 93,
   "metadata": {},
   "outputs": [],
   "source": [
    "def optimizer(rec_recipes, df, protein_lower, protein_upper, calorie, time='off'):\n",
    "    protein_lower = protein_lower # set protein min\n",
    "    protein_upper = protein_upper # set protein max \n",
    "    fat_limit = 0.35 # set fat_ratio limit\n",
    "    calorie_limit = calorie # set calorie limit \n",
    "\n",
    "    # create a new rec dict\n",
    "    new_rec = {'recipe': [], 'link': [], 'calorie': [], 'protein': [], 'protein ratio': [], 'fat ratio': [], \n",
    "               'carb ratio': [], 'serving': []}\n",
    "\n",
    "    while len(rec_recipes) > 0:\n",
    "        if len(new_rec['recipe']) == 5:\n",
    "            df = pd.DataFrame(new_rec, index=[['Day 1','Day 2','Day 3', 'Day 4', 'Day 5']])\n",
    "            print('Your 5-day dinner plan is ready.')\n",
    "            for i in range(5):\n",
    "                print_rec(df, i)\n",
    "                plot_nutrient(df, i)\n",
    "            return \n",
    "\n",
    "        recipe = np.random.choice(rec_recipes)\n",
    "        rec_recipes.remove(recipe)      \n",
    "        \n",
    "        # check time\n",
    "        if time == 'on':\n",
    "            if df.loc[recipe].cook_time > 30 or df.loc[recipe].cook_time == 0:\n",
    "                continue\n",
    "            \n",
    "        # check fat\n",
    "        if df.loc[recipe].fat_ratio > fat_limit:\n",
    "            continue\n",
    "            \n",
    "        # check calorie\n",
    "        if df.loc[recipe].calorie > calorie_limit:\n",
    "            portion = np.round(calorie_limit/df.loc[recipe].calorie, 2) \n",
    "            protein = np.round(df.loc[recipe].protein_g * portion)\n",
    "            \n",
    "            # check protein\n",
    "            if protein < protein_lower or protein > protein_upper:\n",
    "                continue\n",
    "            calorie = np.round(df.loc[recipe].calorie * portion) \n",
    "            protein_ratio = df.loc[recipe].protein_ratio\n",
    "            fat_ratio = df.loc[recipe].fat_ratio\n",
    "            carb_ratio = df.loc[recipe].carb_ratio\n",
    "            serving = np.round(portion/df.loc[recipe].servings, 1)\n",
    "            link = df.loc[recipe].link\n",
    "            new_rec['recipe'].append(recipe)\n",
    "            new_rec['link'].append(link)\n",
    "            new_rec['calorie'].append(calorie)\n",
    "            new_rec['protein'].append(protein)\n",
    "            new_rec['protein ratio'].append(protein_ratio)\n",
    "            new_rec['fat ratio'].append(fat_ratio)\n",
    "            new_rec['carb ratio'].append(carb_ratio)\n",
    "            new_rec['serving'].append(serving)\n",
    "        else:\n",
    "            portion = np.round(calorie_limit/df.loc[recipe].calorie, 2) \n",
    "            protein = np.round(df.loc[recipe].protein_g * portion)\n",
    "            \n",
    "            # check protein\n",
    "            if protein < protein_lower or protein > protein_upper:\n",
    "                continue\n",
    "            calorie = np.round(df.loc[recipe].calorie * portion) \n",
    "            protein_ratio = df.loc[recipe].protein_ratio\n",
    "            fat_ratio = df.loc[recipe].fat_ratio\n",
    "            carb_ratio = df.loc[recipe].carb_ratio\n",
    "            serving = np.round(portion/df.loc[recipe].servings, 1)\n",
    "            link = df.loc[recipe].link\n",
    "            new_rec['recipe'].append(recipe)\n",
    "            new_rec['link'].append(link)\n",
    "            new_rec['calorie'].append(calorie)\n",
    "            new_rec['protein'].append(protein)\n",
    "            new_rec['protein ratio'].append(protein_ratio)\n",
    "            new_rec['fat ratio'].append(fat_ratio)\n",
    "            new_rec['carb ratio'].append(carb_ratio)\n",
    "            new_rec['serving'].append(serving)\n",
    "\n",
    "    print('Running out of recipes. Please start over and choose more preferred meals.')\n",
    "    return"
   ]
  },
  {
   "cell_type": "code",
   "execution_count": 94,
   "metadata": {},
   "outputs": [],
   "source": [
    "def print_rec(df, i):\n",
    "    serving = df['serving'][i]\n",
    "    recipe = df['recipe'][i]\n",
    "    calorie = df['calorie'][i]\n",
    "    link = df['link'][i]\n",
    "    print(f'Day {i+1} : {recipe}')\n",
    "    print(f'Your serving: {serving}')\n",
    "    print(f'Calorie: {calorie}')\n",
    "    print(link)"
   ]
  },
  {
   "cell_type": "code",
   "execution_count": 95,
   "metadata": {},
   "outputs": [],
   "source": [
    "def plot_nutrient(df, i):\n",
    "    labels = ['Carbohydrate', 'Protein', 'Fat']\n",
    "    sizes = [df['carb ratio'][i], df['protein ratio'][i], df['fat ratio'][i]]\n",
    "    colors = ['lightcoral', 'lightskyblue', 'gold']\n",
    "\n",
    "    # plot\n",
    "    plt.pie(sizes, labels=labels, colors=colors, autopct='%1.1f%%', \n",
    "            startangle=90, counterclock=False)\n",
    "    plt.axis('square')\n",
    "    plt.show();"
   ]
  },
  {
   "cell_type": "code",
   "execution_count": 129,
   "metadata": {
    "scrolled": false
   },
   "outputs": [
    {
     "name": "stdout",
     "output_type": "stream",
     "text": [
      "Your 5-day dinner plan is ready.\n",
      "Day 1 : Easy Seafood Fettucini\n",
      "Your serving: 0.2\n",
      "Calorie: 496.0\n",
      "https://www.allrecipes.com/recipe/21582/easy-seafood-fettucini/\n"
     ]
    },
    {
     "data": {
      "image/png": "[encoded data removed]",
      "text/plain": [
       "<Figure size 432x288 with 1 Axes>"
      ]
     },
     "metadata": {},
     "output_type": "display_data"
    },
    {
     "name": "stdout",
     "output_type": "stream",
     "text": [
      "Day 2 : Savory Turkey Gravy\n",
      "Your serving: 2.6\n",
      "Calorie: 500.0\n",
      "https://www.allrecipes.com/recipe/13527/savory-turkey-gravy/\n"
     ]
    },
    {
     "data": {
      "image/png": "[encoded data removed]",
      "text/plain": [
       "<Figure size 432x288 with 1 Axes>"
      ]
     },
     "metadata": {},
     "output_type": "display_data"
    },
    {
     "name": "stdout",
     "output_type": "stream",
     "text": [
      "Day 3 : Simple Salmon Chowder Ii\n",
      "Your serving: 0.2\n",
      "Calorie: 499.0\n",
      "https://www.allrecipes.com/recipe/18098/simple-salmon-chowder-ii/\n"
     ]
    },
    {
     "data": {
      "image/png": "[encoded data removed]",
      "text/plain": [
       "<Figure size 432x288 with 1 Axes>"
      ]
     },
     "metadata": {},
     "output_type": "display_data"
    },
    {
     "name": "stdout",
     "output_type": "stream",
     "text": [
      "Day 4 : Quick Gnocchi\n",
      "Your serving: 0.5\n",
      "Calorie: 499.0\n",
      "https://www.allrecipes.com/recipe/11760/quick-gnocchi/\n"
     ]
    },
    {
     "data": {
      "image/png": "[encoded data removed]",
      "text/plain": [
       "<Figure size 432x288 with 1 Axes>"
      ]
     },
     "metadata": {},
     "output_type": "display_data"
    },
    {
     "name": "stdout",
     "output_type": "stream",
     "text": [
      "Day 5 : Beef And Noodles\n",
      "Your serving: 0.3\n",
      "Calorie: 498.0\n",
      "https://www.allrecipes.com/recipe/236001/beef-and-noodles/\n"
     ]
    },
    {
     "data": {
      "image/png": "[encoded data removed]",
      "text/plain": [
       "<Figure size 432x288 with 1 Axes>"
      ]
     },
     "metadata": {},
     "output_type": "display_data"
    }
   ],
   "source": [
    "optimizer(total_rec_recipes, df_nutrient, 16, 44, 500)"
   ]
  },
  {
   "cell_type": "markdown",
   "metadata": {},
   "source": [
    "References: \n",
    "\n",
    "https://towardsdatascience.com/how-to-build-from-scratch-a-content-based-movie-recommender-with-natural-language-processing-25ad400eb243\n",
    "\n",
    "https://towardsdatascience.com/end-to-end-topic-modeling-in-python-latent-dirichlet-allocation-lda-35ce4ed6b3e0\n",
    "\n",
    "https://health.gov/dietaryguidelines/2015/resources/2015-2020_dietary_guidelines.pdf"
   ]
  }
 ],
 "metadata": {
  "kernelspec": {
   "display_name": "Python 3",
   "language": "python",
   "name": "python3"
  },
  "language_info": {
   "codemirror_mode": {
    "name": "ipython",
    "version": 3
   },
   "file_extension": ".py",
   "mimetype": "text/x-python",
   "name": "python",
   "nbconvert_exporter": "python",
   "pygments_lexer": "ipython3",
   "version": "3.7.3"
  }
 },
 "nbformat": 4,
 "nbformat_minor": 2
}
