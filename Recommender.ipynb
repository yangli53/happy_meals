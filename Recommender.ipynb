{
 "cells": [
  {
   "cell_type": "code",
   "execution_count": 10,
   "metadata": {},
   "outputs": [],
   "source": [
    "import numpy as np\n",
    "import pandas as pd"
   ]
  },
  {
   "cell_type": "code",
   "execution_count": 327,
   "metadata": {},
   "outputs": [
    {
     "data": {
      "text/html": [
       "<div>\n",
       "<style scoped>\n",
       "    .dataframe tbody tr th:only-of-type {\n",
       "        vertical-align: middle;\n",
       "    }\n",
       "\n",
       "    .dataframe tbody tr th {\n",
       "        vertical-align: top;\n",
       "    }\n",
       "\n",
       "    .dataframe thead th {\n",
       "        text-align: right;\n",
       "    }\n",
       "</style>\n",
       "<table border=\"1\" class=\"dataframe\">\n",
       "  <thead>\n",
       "    <tr style=\"text-align: right;\">\n",
       "      <th></th>\n",
       "      <th>topic_0</th>\n",
       "      <th>topic_1</th>\n",
       "      <th>topic_2</th>\n",
       "      <th>topic_3</th>\n",
       "      <th>topic_4</th>\n",
       "      <th>topic_5</th>\n",
       "    </tr>\n",
       "    <tr>\n",
       "      <th>title</th>\n",
       "      <th></th>\n",
       "      <th></th>\n",
       "      <th></th>\n",
       "      <th></th>\n",
       "      <th></th>\n",
       "      <th></th>\n",
       "    </tr>\n",
       "  </thead>\n",
       "  <tbody>\n",
       "    <tr>\n",
       "      <th>A Scotsmans Shepherd Pie</th>\n",
       "      <td>0.0</td>\n",
       "      <td>0.139167</td>\n",
       "      <td>0.850977</td>\n",
       "      <td>0.000000</td>\n",
       "      <td>0.0</td>\n",
       "      <td>0.000000</td>\n",
       "    </tr>\n",
       "    <tr>\n",
       "      <th>A Simply Perfect Roast Turkey</th>\n",
       "      <td>0.0</td>\n",
       "      <td>0.000000</td>\n",
       "      <td>0.000000</td>\n",
       "      <td>0.952821</td>\n",
       "      <td>0.0</td>\n",
       "      <td>0.000000</td>\n",
       "    </tr>\n",
       "    <tr>\n",
       "      <th>Absolute Best Liver And Onions</th>\n",
       "      <td>0.0</td>\n",
       "      <td>0.000000</td>\n",
       "      <td>0.960303</td>\n",
       "      <td>0.000000</td>\n",
       "      <td>0.0</td>\n",
       "      <td>0.000000</td>\n",
       "    </tr>\n",
       "    <tr>\n",
       "      <th>Accidental Fish</th>\n",
       "      <td>0.0</td>\n",
       "      <td>0.767655</td>\n",
       "      <td>0.000000</td>\n",
       "      <td>0.000000</td>\n",
       "      <td>0.0</td>\n",
       "      <td>0.210831</td>\n",
       "    </tr>\n",
       "    <tr>\n",
       "      <th>Actually Delicious Turkey Burgers</th>\n",
       "      <td>0.0</td>\n",
       "      <td>0.000000</td>\n",
       "      <td>0.952817</td>\n",
       "      <td>0.000000</td>\n",
       "      <td>0.0</td>\n",
       "      <td>0.000000</td>\n",
       "    </tr>\n",
       "  </tbody>\n",
       "</table>\n",
       "</div>"
      ],
      "text/plain": [
       "                                   topic_0   topic_1   topic_2   topic_3  \\\n",
       "title                                                                      \n",
       "A Scotsmans Shepherd Pie               0.0  0.139167  0.850977  0.000000   \n",
       "A Simply Perfect Roast Turkey          0.0  0.000000  0.000000  0.952821   \n",
       "Absolute Best Liver And Onions         0.0  0.000000  0.960303  0.000000   \n",
       "Accidental Fish                        0.0  0.767655  0.000000  0.000000   \n",
       "Actually Delicious Turkey Burgers      0.0  0.000000  0.952817  0.000000   \n",
       "\n",
       "                                   topic_4   topic_5  \n",
       "title                                                 \n",
       "A Scotsmans Shepherd Pie               0.0  0.000000  \n",
       "A Simply Perfect Roast Turkey          0.0  0.000000  \n",
       "Absolute Best Liver And Onions         0.0  0.000000  \n",
       "Accidental Fish                        0.0  0.210831  \n",
       "Actually Delicious Turkey Burgers      0.0  0.000000  "
      ]
     },
     "execution_count": 327,
     "metadata": {},
     "output_type": "execute_result"
    }
   ],
   "source": [
    "lda_matrix = pd.read_csv('lda_matrix.csv')\n",
    "lda_matrix.set_index('title', inplace=True)\n",
    "lda_matrix.head()"
   ]
  },
  {
   "cell_type": "markdown",
   "metadata": {},
   "source": [
    "# Content-based Recommender \n",
    "## Cosine Similarity"
   ]
  },
  {
   "cell_type": "code",
   "execution_count": 40,
   "metadata": {},
   "outputs": [],
   "source": [
    "from sklearn.metrics.pairwise import cosine_similarity"
   ]
  },
  {
   "cell_type": "code",
   "execution_count": 328,
   "metadata": {},
   "outputs": [],
   "source": [
    "lda_array = lda_matrix.to_numpy()"
   ]
  },
  {
   "cell_type": "code",
   "execution_count": 329,
   "metadata": {},
   "outputs": [
    {
     "data": {
      "text/plain": [
       "array([[0.        , 0.13916731, 0.85097736, 0.        , 0.        ,\n",
       "        0.        ],\n",
       "       [0.        , 0.        , 0.        , 0.95282054, 0.        ,\n",
       "        0.        ],\n",
       "       [0.        , 0.        , 0.96030283, 0.        , 0.        ,\n",
       "        0.        ],\n",
       "       ...,\n",
       "       [0.        , 0.7541129 , 0.2273636 , 0.        , 0.        ,\n",
       "        0.        ],\n",
       "       [0.        , 0.        , 0.61786526, 0.        , 0.        ,\n",
       "        0.3694734 ],\n",
       "       [0.95688057, 0.        , 0.        , 0.        , 0.        ,\n",
       "        0.        ]])"
      ]
     },
     "execution_count": 329,
     "metadata": {},
     "output_type": "execute_result"
    }
   ],
   "source": [
    "lda_array"
   ]
  },
  {
   "cell_type": "code",
   "execution_count": 330,
   "metadata": {
    "scrolled": true
   },
   "outputs": [
    {
     "data": {
      "text/plain": [
       "(958, 6)"
      ]
     },
     "execution_count": 330,
     "metadata": {},
     "output_type": "execute_result"
    }
   ],
   "source": [
    "lda_array.shape"
   ]
  },
  {
   "cell_type": "code",
   "execution_count": 331,
   "metadata": {},
   "outputs": [],
   "source": [
    "cosine_sim = cosine_similarity(lda_array)"
   ]
  },
  {
   "cell_type": "code",
   "execution_count": 332,
   "metadata": {
    "scrolled": true
   },
   "outputs": [
    {
     "data": {
      "text/plain": [
       "(958, 958)"
      ]
     },
     "execution_count": 332,
     "metadata": {},
     "output_type": "execute_result"
    }
   ],
   "source": [
    "cosine_sim.shape"
   ]
  },
  {
   "cell_type": "code",
   "execution_count": 333,
   "metadata": {},
   "outputs": [],
   "source": [
    "# creating a Series for recipe titles\n",
    "indices = pd.Series(lda_matrix.index)"
   ]
  },
  {
   "cell_type": "code",
   "execution_count": 334,
   "metadata": {},
   "outputs": [],
   "source": [
    "# define a function to take in recipe title and return the top 10 recommended recipes\n",
    "def recommender(title, df=lda_matrix, cosine_sim=cosine_sim, top_n=10):\n",
    "    \n",
    "    # initialize an empty list of recommended recipes\n",
    "    rec_recipes = []\n",
    "    \n",
    "    # get the index of the movie that matches the title\n",
    "    idx = indices[indices == title].index[0]\n",
    "\n",
    "    # creating a Series with the similarity scores in descending order\n",
    "    score_series = pd.Series(cosine_sim[idx]).sort_values(ascending=False)\n",
    "\n",
    "    # getting the indexes of the n most similar movies\n",
    "    top_n_idx = score_series.iloc[1:top_n+1].index.tolist()\n",
    "    \n",
    "    # get the title of the top n matching recipes\n",
    "    for i in top_n_idx:\n",
    "        rec_recipes.append(df.index[i])\n",
    "        \n",
    "    return rec_recipes"
   ]
  },
  {
   "cell_type": "code",
   "execution_count": 427,
   "metadata": {},
   "outputs": [],
   "source": [
    "options = ['A Scotsmans Shepherd Pie']\n",
    "total_rec_recipes = []\n",
    "for title in options:\n",
    "    rec_recipes = recommender(title, top_n=100)\n",
    "    total_rec_recipes.extend(rec_recipes)"
   ]
  },
  {
   "cell_type": "code",
   "execution_count": 374,
   "metadata": {},
   "outputs": [
    {
     "data": {
      "text/plain": [
       "100"
      ]
     },
     "execution_count": 374,
     "metadata": {},
     "output_type": "execute_result"
    }
   ],
   "source": [
    "len(total_rec_recipes)"
   ]
  },
  {
   "cell_type": "markdown",
   "metadata": {},
   "source": [
    "# Validation \n",
    "## Mean Similarity"
   ]
  },
  {
   "cell_type": "code",
   "execution_count": 337,
   "metadata": {},
   "outputs": [],
   "source": [
    "def mean_similarity(title_list, df=lda_matrix):\n",
    "    \"\"\"\n",
    "    Calculate mean cosine similarity of two or more recipes\n",
    "    \"\"\"\n",
    "    array = lda_matrix.loc[title_list,:].to_numpy()\n",
    "    cosine_sim = cosine_similarity(array)\n",
    "    n_recipe = len(title_list)\n",
    "    if n_recipe == 2:\n",
    "        sim_score = np.round(cosine_sim[0, 1], 2)\n",
    "    elif n_recipe > 2:\n",
    "        sim_score = np.round(cosine_sim[0, 1:n_recipe].mean(), 2)\n",
    "    else:\n",
    "        print('Please choose at least two recipes to compare.')\n",
    "    \n",
    "    return sim_score"
   ]
  },
  {
   "cell_type": "code",
   "execution_count": 341,
   "metadata": {},
   "outputs": [
    {
     "data": {
      "text/plain": [
       "0.98"
      ]
     },
     "execution_count": 341,
     "metadata": {},
     "output_type": "execute_result"
    }
   ],
   "source": [
    "mean_similarity(total_rec_recipes)"
   ]
  },
  {
   "cell_type": "markdown",
   "metadata": {},
   "source": [
    "# Optimizaiton"
   ]
  },
  {
   "cell_type": "code",
   "execution_count": 179,
   "metadata": {},
   "outputs": [
    {
     "data": {
      "text/html": [
       "<div>\n",
       "<style scoped>\n",
       "    .dataframe tbody tr th:only-of-type {\n",
       "        vertical-align: middle;\n",
       "    }\n",
       "\n",
       "    .dataframe tbody tr th {\n",
       "        vertical-align: top;\n",
       "    }\n",
       "\n",
       "    .dataframe thead th {\n",
       "        text-align: right;\n",
       "    }\n",
       "</style>\n",
       "<table border=\"1\" class=\"dataframe\">\n",
       "  <thead>\n",
       "    <tr style=\"text-align: right;\">\n",
       "      <th></th>\n",
       "      <th>calorie</th>\n",
       "      <th>protein_g</th>\n",
       "      <th>carb_g</th>\n",
       "      <th>fat_g</th>\n",
       "      <th>servings</th>\n",
       "      <th>ratings</th>\n",
       "      <th>cook_time</th>\n",
       "      <th>link</th>\n",
       "    </tr>\n",
       "    <tr>\n",
       "      <th>title</th>\n",
       "      <th></th>\n",
       "      <th></th>\n",
       "      <th></th>\n",
       "      <th></th>\n",
       "      <th></th>\n",
       "      <th></th>\n",
       "      <th></th>\n",
       "      <th></th>\n",
       "    </tr>\n",
       "  </thead>\n",
       "  <tbody>\n",
       "    <tr>\n",
       "      <th>Baked Haddock</th>\n",
       "      <td>325.0</td>\n",
       "      <td>27.7</td>\n",
       "      <td>17.0</td>\n",
       "      <td>15.7</td>\n",
       "      <td>4.0</td>\n",
       "      <td>4.59</td>\n",
       "      <td>25</td>\n",
       "      <td>https://www.allrecipes.com/recipe/100195/baked...</td>\n",
       "    </tr>\n",
       "    <tr>\n",
       "      <th>Beef Bulgogi</th>\n",
       "      <td>232.0</td>\n",
       "      <td>16.2</td>\n",
       "      <td>12.4</td>\n",
       "      <td>13.2</td>\n",
       "      <td>4.0</td>\n",
       "      <td>4.79</td>\n",
       "      <td>75</td>\n",
       "      <td>https://www.allrecipes.com/recipe/100606/beef-...</td>\n",
       "    </tr>\n",
       "    <tr>\n",
       "      <th>Apricot Brown Sugar Ham</th>\n",
       "      <td>801.0</td>\n",
       "      <td>56.1</td>\n",
       "      <td>14.4</td>\n",
       "      <td>56.2</td>\n",
       "      <td>15.0</td>\n",
       "      <td>4.72</td>\n",
       "      <td>120</td>\n",
       "      <td>https://www.allrecipes.com/recipe/102159/apric...</td>\n",
       "    </tr>\n",
       "    <tr>\n",
       "      <th>Taco Stuffed Shells</th>\n",
       "      <td>361.0</td>\n",
       "      <td>19.8</td>\n",
       "      <td>30.4</td>\n",
       "      <td>17.6</td>\n",
       "      <td>8.0</td>\n",
       "      <td>4.55</td>\n",
       "      <td>80</td>\n",
       "      <td>https://www.allrecipes.com/recipe/103503/taco-...</td>\n",
       "    </tr>\n",
       "    <tr>\n",
       "      <th>Blackened Tuna Steaks With Mango Salsa</th>\n",
       "      <td>458.0</td>\n",
       "      <td>42.1</td>\n",
       "      <td>18.3</td>\n",
       "      <td>24.7</td>\n",
       "      <td>4.0</td>\n",
       "      <td>4.85</td>\n",
       "      <td>235</td>\n",
       "      <td>https://www.allrecipes.com/recipe/103535/black...</td>\n",
       "    </tr>\n",
       "  </tbody>\n",
       "</table>\n",
       "</div>"
      ],
      "text/plain": [
       "                                        calorie  protein_g  carb_g  fat_g  \\\n",
       "title                                                                       \n",
       "Baked Haddock                             325.0       27.7    17.0   15.7   \n",
       "Beef Bulgogi                              232.0       16.2    12.4   13.2   \n",
       "Apricot Brown Sugar Ham                   801.0       56.1    14.4   56.2   \n",
       "Taco Stuffed Shells                       361.0       19.8    30.4   17.6   \n",
       "Blackened Tuna Steaks With Mango Salsa    458.0       42.1    18.3   24.7   \n",
       "\n",
       "                                        servings  ratings  cook_time  \\\n",
       "title                                                                  \n",
       "Baked Haddock                                4.0     4.59         25   \n",
       "Beef Bulgogi                                 4.0     4.79         75   \n",
       "Apricot Brown Sugar Ham                     15.0     4.72        120   \n",
       "Taco Stuffed Shells                          8.0     4.55         80   \n",
       "Blackened Tuna Steaks With Mango Salsa       4.0     4.85        235   \n",
       "\n",
       "                                                                                     link  \n",
       "title                                                                                      \n",
       "Baked Haddock                           https://www.allrecipes.com/recipe/100195/baked...  \n",
       "Beef Bulgogi                            https://www.allrecipes.com/recipe/100606/beef-...  \n",
       "Apricot Brown Sugar Ham                 https://www.allrecipes.com/recipe/102159/apric...  \n",
       "Taco Stuffed Shells                     https://www.allrecipes.com/recipe/103503/taco-...  \n",
       "Blackened Tuna Steaks With Mango Salsa  https://www.allrecipes.com/recipe/103535/black...  "
      ]
     },
     "execution_count": 179,
     "metadata": {},
     "output_type": "execute_result"
    }
   ],
   "source": [
    "df_nutrient = df[['title','calorie','protein_g','carb_g','fat_g','servings','ratings','cook_time','link']]\n",
    "df_nutrient.set_index('title', inplace=True)\n",
    "df_nutrient.head()"
   ]
  },
  {
   "cell_type": "code",
   "execution_count": 238,
   "metadata": {},
   "outputs": [
    {
     "data": {
      "text/html": [
       "<div>\n",
       "<style scoped>\n",
       "    .dataframe tbody tr th:only-of-type {\n",
       "        vertical-align: middle;\n",
       "    }\n",
       "\n",
       "    .dataframe tbody tr th {\n",
       "        vertical-align: top;\n",
       "    }\n",
       "\n",
       "    .dataframe thead th {\n",
       "        text-align: right;\n",
       "    }\n",
       "</style>\n",
       "<table border=\"1\" class=\"dataframe\">\n",
       "  <thead>\n",
       "    <tr style=\"text-align: right;\">\n",
       "      <th></th>\n",
       "      <th>calorie</th>\n",
       "      <th>protein_g</th>\n",
       "      <th>carb_g</th>\n",
       "      <th>fat_g</th>\n",
       "      <th>fat_ratio</th>\n",
       "      <th>servings</th>\n",
       "      <th>ratings</th>\n",
       "      <th>cook_time</th>\n",
       "      <th>link</th>\n",
       "      <th>protein_ratio</th>\n",
       "      <th>carb_ratio</th>\n",
       "    </tr>\n",
       "    <tr>\n",
       "      <th>title</th>\n",
       "      <th></th>\n",
       "      <th></th>\n",
       "      <th></th>\n",
       "      <th></th>\n",
       "      <th></th>\n",
       "      <th></th>\n",
       "      <th></th>\n",
       "      <th></th>\n",
       "      <th></th>\n",
       "      <th></th>\n",
       "      <th></th>\n",
       "    </tr>\n",
       "  </thead>\n",
       "  <tbody>\n",
       "    <tr>\n",
       "      <th>Baked Haddock</th>\n",
       "      <td>325.0</td>\n",
       "      <td>27.7</td>\n",
       "      <td>17.0</td>\n",
       "      <td>15.7</td>\n",
       "      <td>0.43</td>\n",
       "      <td>4.0</td>\n",
       "      <td>4.59</td>\n",
       "      <td>25</td>\n",
       "      <td>https://www.allrecipes.com/recipe/100195/baked...</td>\n",
       "      <td>0.34</td>\n",
       "      <td>0.21</td>\n",
       "    </tr>\n",
       "    <tr>\n",
       "      <th>Beef Bulgogi</th>\n",
       "      <td>232.0</td>\n",
       "      <td>16.2</td>\n",
       "      <td>12.4</td>\n",
       "      <td>13.2</td>\n",
       "      <td>0.51</td>\n",
       "      <td>4.0</td>\n",
       "      <td>4.79</td>\n",
       "      <td>75</td>\n",
       "      <td>https://www.allrecipes.com/recipe/100606/beef-...</td>\n",
       "      <td>0.28</td>\n",
       "      <td>0.21</td>\n",
       "    </tr>\n",
       "    <tr>\n",
       "      <th>Apricot Brown Sugar Ham</th>\n",
       "      <td>801.0</td>\n",
       "      <td>56.1</td>\n",
       "      <td>14.4</td>\n",
       "      <td>56.2</td>\n",
       "      <td>0.63</td>\n",
       "      <td>15.0</td>\n",
       "      <td>4.72</td>\n",
       "      <td>120</td>\n",
       "      <td>https://www.allrecipes.com/recipe/102159/apric...</td>\n",
       "      <td>0.28</td>\n",
       "      <td>0.07</td>\n",
       "    </tr>\n",
       "    <tr>\n",
       "      <th>Taco Stuffed Shells</th>\n",
       "      <td>361.0</td>\n",
       "      <td>19.8</td>\n",
       "      <td>30.4</td>\n",
       "      <td>17.6</td>\n",
       "      <td>0.44</td>\n",
       "      <td>8.0</td>\n",
       "      <td>4.55</td>\n",
       "      <td>80</td>\n",
       "      <td>https://www.allrecipes.com/recipe/103503/taco-...</td>\n",
       "      <td>0.22</td>\n",
       "      <td>0.34</td>\n",
       "    </tr>\n",
       "    <tr>\n",
       "      <th>Blackened Tuna Steaks With Mango Salsa</th>\n",
       "      <td>458.0</td>\n",
       "      <td>42.1</td>\n",
       "      <td>18.3</td>\n",
       "      <td>24.7</td>\n",
       "      <td>0.49</td>\n",
       "      <td>4.0</td>\n",
       "      <td>4.85</td>\n",
       "      <td>235</td>\n",
       "      <td>https://www.allrecipes.com/recipe/103535/black...</td>\n",
       "      <td>0.37</td>\n",
       "      <td>0.16</td>\n",
       "    </tr>\n",
       "  </tbody>\n",
       "</table>\n",
       "</div>"
      ],
      "text/plain": [
       "                                        calorie  protein_g  carb_g  fat_g  \\\n",
       "title                                                                       \n",
       "Baked Haddock                             325.0       27.7    17.0   15.7   \n",
       "Beef Bulgogi                              232.0       16.2    12.4   13.2   \n",
       "Apricot Brown Sugar Ham                   801.0       56.1    14.4   56.2   \n",
       "Taco Stuffed Shells                       361.0       19.8    30.4   17.6   \n",
       "Blackened Tuna Steaks With Mango Salsa    458.0       42.1    18.3   24.7   \n",
       "\n",
       "                                        fat_ratio  servings  ratings  \\\n",
       "title                                                                  \n",
       "Baked Haddock                                0.43       4.0     4.59   \n",
       "Beef Bulgogi                                 0.51       4.0     4.79   \n",
       "Apricot Brown Sugar Ham                      0.63      15.0     4.72   \n",
       "Taco Stuffed Shells                          0.44       8.0     4.55   \n",
       "Blackened Tuna Steaks With Mango Salsa       0.49       4.0     4.85   \n",
       "\n",
       "                                        cook_time  \\\n",
       "title                                               \n",
       "Baked Haddock                                  25   \n",
       "Beef Bulgogi                                   75   \n",
       "Apricot Brown Sugar Ham                       120   \n",
       "Taco Stuffed Shells                            80   \n",
       "Blackened Tuna Steaks With Mango Salsa        235   \n",
       "\n",
       "                                                                                     link  \\\n",
       "title                                                                                       \n",
       "Baked Haddock                           https://www.allrecipes.com/recipe/100195/baked...   \n",
       "Beef Bulgogi                            https://www.allrecipes.com/recipe/100606/beef-...   \n",
       "Apricot Brown Sugar Ham                 https://www.allrecipes.com/recipe/102159/apric...   \n",
       "Taco Stuffed Shells                     https://www.allrecipes.com/recipe/103503/taco-...   \n",
       "Blackened Tuna Steaks With Mango Salsa  https://www.allrecipes.com/recipe/103535/black...   \n",
       "\n",
       "                                        protein_ratio  carb_ratio  \n",
       "title                                                              \n",
       "Baked Haddock                                    0.34        0.21  \n",
       "Beef Bulgogi                                     0.28        0.21  \n",
       "Apricot Brown Sugar Ham                          0.28        0.07  \n",
       "Taco Stuffed Shells                              0.22        0.34  \n",
       "Blackened Tuna Steaks With Mango Salsa           0.37        0.16  "
      ]
     },
     "execution_count": 238,
     "metadata": {},
     "output_type": "execute_result"
    }
   ],
   "source": [
    "df_nutrient['protein_ratio'] = np.round(df_nutrient.protein_g * 4 / df_nutrient.calorie, 2)\n",
    "df_nutrient['carb_ratio'] = np.round(df_nutrient.carb_g * 4 / df_nutrient.calorie, 2)\n",
    "df_nutrient['fat_ratio'] = np.round(df_nutrient.fat_g * 9 / df_nutrient.calorie, 2)\n",
    "df_nutrient.head()"
   ]
  },
  {
   "cell_type": "code",
   "execution_count": 239,
   "metadata": {},
   "outputs": [
    {
     "data": {
      "text/html": [
       "<div>\n",
       "<style scoped>\n",
       "    .dataframe tbody tr th:only-of-type {\n",
       "        vertical-align: middle;\n",
       "    }\n",
       "\n",
       "    .dataframe tbody tr th {\n",
       "        vertical-align: top;\n",
       "    }\n",
       "\n",
       "    .dataframe thead th {\n",
       "        text-align: right;\n",
       "    }\n",
       "</style>\n",
       "<table border=\"1\" class=\"dataframe\">\n",
       "  <thead>\n",
       "    <tr style=\"text-align: right;\">\n",
       "      <th></th>\n",
       "      <th>calorie</th>\n",
       "      <th>protein_g</th>\n",
       "      <th>carb_g</th>\n",
       "      <th>fat_g</th>\n",
       "      <th>protein_ratio</th>\n",
       "      <th>carb_ratio</th>\n",
       "      <th>fat_ratio</th>\n",
       "      <th>servings</th>\n",
       "      <th>ratings</th>\n",
       "      <th>cook_time</th>\n",
       "      <th>link</th>\n",
       "    </tr>\n",
       "    <tr>\n",
       "      <th>title</th>\n",
       "      <th></th>\n",
       "      <th></th>\n",
       "      <th></th>\n",
       "      <th></th>\n",
       "      <th></th>\n",
       "      <th></th>\n",
       "      <th></th>\n",
       "      <th></th>\n",
       "      <th></th>\n",
       "      <th></th>\n",
       "      <th></th>\n",
       "    </tr>\n",
       "  </thead>\n",
       "  <tbody>\n",
       "    <tr>\n",
       "      <th>Baked Haddock</th>\n",
       "      <td>325.0</td>\n",
       "      <td>27.7</td>\n",
       "      <td>17.0</td>\n",
       "      <td>15.7</td>\n",
       "      <td>0.34</td>\n",
       "      <td>0.21</td>\n",
       "      <td>0.43</td>\n",
       "      <td>4.0</td>\n",
       "      <td>4.59</td>\n",
       "      <td>25</td>\n",
       "      <td>https://www.allrecipes.com/recipe/100195/baked...</td>\n",
       "    </tr>\n",
       "  </tbody>\n",
       "</table>\n",
       "</div>"
      ],
      "text/plain": [
       "               calorie  protein_g  carb_g  fat_g  protein_ratio  carb_ratio  \\\n",
       "title                                                                         \n",
       "Baked Haddock    325.0       27.7    17.0   15.7           0.34        0.21   \n",
       "\n",
       "               fat_ratio  servings  ratings  cook_time  \\\n",
       "title                                                    \n",
       "Baked Haddock       0.43       4.0     4.59         25   \n",
       "\n",
       "                                                            link  \n",
       "title                                                             \n",
       "Baked Haddock  https://www.allrecipes.com/recipe/100195/baked...  "
      ]
     },
     "execution_count": 239,
     "metadata": {},
     "output_type": "execute_result"
    }
   ],
   "source": [
    "df_nutrient = df_nutrient[['calorie','protein_g','carb_g','fat_g','protein_ratio','carb_ratio','fat_ratio',\n",
    "                           'servings','ratings','cook_time','link']]\n",
    "df_nutrient.head(1)"
   ]
  },
  {
   "cell_type": "code",
   "execution_count": 422,
   "metadata": {},
   "outputs": [],
   "source": [
    "# save df_nutrient\n",
    "df_nutrient.to_csv('dinner_nutrient.csv')"
   ]
  },
  {
   "cell_type": "code",
   "execution_count": 3,
   "metadata": {
    "scrolled": true
   },
   "outputs": [
    {
     "data": {
      "text/html": [
       "<div>\n",
       "<style scoped>\n",
       "    .dataframe tbody tr th:only-of-type {\n",
       "        vertical-align: middle;\n",
       "    }\n",
       "\n",
       "    .dataframe tbody tr th {\n",
       "        vertical-align: top;\n",
       "    }\n",
       "\n",
       "    .dataframe thead th {\n",
       "        text-align: right;\n",
       "    }\n",
       "</style>\n",
       "<table border=\"1\" class=\"dataframe\">\n",
       "  <thead>\n",
       "    <tr style=\"text-align: right;\">\n",
       "      <th></th>\n",
       "      <th>calorie</th>\n",
       "      <th>protein_g</th>\n",
       "      <th>carb_g</th>\n",
       "      <th>fat_g</th>\n",
       "      <th>protein_ratio</th>\n",
       "      <th>carb_ratio</th>\n",
       "      <th>fat_ratio</th>\n",
       "      <th>servings</th>\n",
       "      <th>ratings</th>\n",
       "      <th>cook_time</th>\n",
       "      <th>link</th>\n",
       "    </tr>\n",
       "    <tr>\n",
       "      <th>title</th>\n",
       "      <th></th>\n",
       "      <th></th>\n",
       "      <th></th>\n",
       "      <th></th>\n",
       "      <th></th>\n",
       "      <th></th>\n",
       "      <th></th>\n",
       "      <th></th>\n",
       "      <th></th>\n",
       "      <th></th>\n",
       "      <th></th>\n",
       "    </tr>\n",
       "  </thead>\n",
       "  <tbody>\n",
       "    <tr>\n",
       "      <th>Baked Haddock</th>\n",
       "      <td>325.0</td>\n",
       "      <td>27.7</td>\n",
       "      <td>17.0</td>\n",
       "      <td>15.7</td>\n",
       "      <td>0.34</td>\n",
       "      <td>0.23</td>\n",
       "      <td>0.43</td>\n",
       "      <td>4.0</td>\n",
       "      <td>4.59</td>\n",
       "      <td>25</td>\n",
       "      <td>https://www.allrecipes.com/recipe/100195/baked...</td>\n",
       "    </tr>\n",
       "    <tr>\n",
       "      <th>Beef Bulgogi</th>\n",
       "      <td>232.0</td>\n",
       "      <td>16.2</td>\n",
       "      <td>12.4</td>\n",
       "      <td>13.2</td>\n",
       "      <td>0.28</td>\n",
       "      <td>0.21</td>\n",
       "      <td>0.51</td>\n",
       "      <td>4.0</td>\n",
       "      <td>4.79</td>\n",
       "      <td>75</td>\n",
       "      <td>https://www.allrecipes.com/recipe/100606/beef-...</td>\n",
       "    </tr>\n",
       "    <tr>\n",
       "      <th>Apricot Brown Sugar Ham</th>\n",
       "      <td>801.0</td>\n",
       "      <td>56.1</td>\n",
       "      <td>14.4</td>\n",
       "      <td>56.2</td>\n",
       "      <td>0.28</td>\n",
       "      <td>0.09</td>\n",
       "      <td>0.63</td>\n",
       "      <td>15.0</td>\n",
       "      <td>4.72</td>\n",
       "      <td>120</td>\n",
       "      <td>https://www.allrecipes.com/recipe/102159/apric...</td>\n",
       "    </tr>\n",
       "    <tr>\n",
       "      <th>Taco Stuffed Shells</th>\n",
       "      <td>361.0</td>\n",
       "      <td>19.8</td>\n",
       "      <td>30.4</td>\n",
       "      <td>17.6</td>\n",
       "      <td>0.22</td>\n",
       "      <td>0.34</td>\n",
       "      <td>0.44</td>\n",
       "      <td>8.0</td>\n",
       "      <td>4.55</td>\n",
       "      <td>80</td>\n",
       "      <td>https://www.allrecipes.com/recipe/103503/taco-...</td>\n",
       "    </tr>\n",
       "    <tr>\n",
       "      <th>Blackened Tuna Steaks With Mango Salsa</th>\n",
       "      <td>458.0</td>\n",
       "      <td>42.1</td>\n",
       "      <td>18.3</td>\n",
       "      <td>24.7</td>\n",
       "      <td>0.37</td>\n",
       "      <td>0.14</td>\n",
       "      <td>0.49</td>\n",
       "      <td>4.0</td>\n",
       "      <td>4.85</td>\n",
       "      <td>235</td>\n",
       "      <td>https://www.allrecipes.com/recipe/103535/black...</td>\n",
       "    </tr>\n",
       "  </tbody>\n",
       "</table>\n",
       "</div>"
      ],
      "text/plain": [
       "                                        calorie  protein_g  carb_g  fat_g  \\\n",
       "title                                                                       \n",
       "Baked Haddock                             325.0       27.7    17.0   15.7   \n",
       "Beef Bulgogi                              232.0       16.2    12.4   13.2   \n",
       "Apricot Brown Sugar Ham                   801.0       56.1    14.4   56.2   \n",
       "Taco Stuffed Shells                       361.0       19.8    30.4   17.6   \n",
       "Blackened Tuna Steaks With Mango Salsa    458.0       42.1    18.3   24.7   \n",
       "\n",
       "                                        protein_ratio  carb_ratio  fat_ratio  \\\n",
       "title                                                                          \n",
       "Baked Haddock                                    0.34        0.23       0.43   \n",
       "Beef Bulgogi                                     0.28        0.21       0.51   \n",
       "Apricot Brown Sugar Ham                          0.28        0.09       0.63   \n",
       "Taco Stuffed Shells                              0.22        0.34       0.44   \n",
       "Blackened Tuna Steaks With Mango Salsa           0.37        0.14       0.49   \n",
       "\n",
       "                                        servings  ratings  cook_time  \\\n",
       "title                                                                  \n",
       "Baked Haddock                                4.0     4.59         25   \n",
       "Beef Bulgogi                                 4.0     4.79         75   \n",
       "Apricot Brown Sugar Ham                     15.0     4.72        120   \n",
       "Taco Stuffed Shells                          8.0     4.55         80   \n",
       "Blackened Tuna Steaks With Mango Salsa       4.0     4.85        235   \n",
       "\n",
       "                                                                                     link  \n",
       "title                                                                                      \n",
       "Baked Haddock                           https://www.allrecipes.com/recipe/100195/baked...  \n",
       "Beef Bulgogi                            https://www.allrecipes.com/recipe/100606/beef-...  \n",
       "Apricot Brown Sugar Ham                 https://www.allrecipes.com/recipe/102159/apric...  \n",
       "Taco Stuffed Shells                     https://www.allrecipes.com/recipe/103503/taco-...  \n",
       "Blackened Tuna Steaks With Mango Salsa  https://www.allrecipes.com/recipe/103535/black...  "
      ]
     },
     "execution_count": 3,
     "metadata": {},
     "output_type": "execute_result"
    }
   ],
   "source": [
    "df_nutrient = pd.read_csv('dinner_nutrient.csv')\n",
    "df_nutrient.set_index('title', inplace=True)\n",
    "df_nutrient.head()"
   ]
  },
  {
   "cell_type": "code",
   "execution_count": 9,
   "metadata": {},
   "outputs": [
    {
     "data": {
      "text/plain": [
       "(156, 11)"
      ]
     },
     "execution_count": 9,
     "metadata": {},
     "output_type": "execute_result"
    }
   ],
   "source": [
    "df_nutrient[(df_nutrient.cook_time <= 30) & (df_nutrient.cook_time != 0)].shape"
   ]
  },
  {
   "cell_type": "code",
   "execution_count": 424,
   "metadata": {},
   "outputs": [],
   "source": [
    "# optimize recommendation\n",
    "def optimize_recipe(rec_recipes):\n",
    "    \"\"\"\n",
    "    Optimize recipes by setting nutrition thresholds\n",
    "    \"\"\"\n",
    "    protein_cut = 16 # set protein threshold\n",
    "    fat_cut = 0.35 # set fat_ratio threshold\n",
    "    calorie_cut = 500 # set calorie threshold \n",
    "    \n",
    "    # create a new rec dict\n",
    "    new_rec = {'recipe': [], 'link': [], 'calorie': [], 'protein': [], 'protein ratio': [], 'fat ratio': [], \n",
    "               'carb ratio': [], 'your serving': [], 'recipe serving': []}\n",
    "    \n",
    "    while len(rec_recipes) > 0:\n",
    "        if len(new_rec['recipe']) == 3:\n",
    "            df = pd.DataFrame(new_rec, index=[['Day 1','Day 2','Day 3']])\n",
    "            for i in range(3):\n",
    "                print_rec(df, i)\n",
    "                plot_nutrient(df, i)\n",
    "            return \n",
    "        \n",
    "        recipe = np.random.choice(rec_recipes)  \n",
    "        rec_recipes.remove(recipe)      \n",
    "                \n",
    "        # check fat\n",
    "        if df_nutrient.loc[recipe].fat_ratio > fat_cut:\n",
    "            continue\n",
    "        # check calorie\n",
    "        if df_nutrient.loc[recipe].calorie > calorie_cut:\n",
    "            portion = np.round(calorie_cut/df_nutrient.loc[recipe].calorie, 2) \n",
    "            protein = np.round(df_nutrient.loc[recipe].protein_g * portion)\n",
    "            # check protein\n",
    "            if protein < protein_cut:\n",
    "                continue\n",
    "            calorie = np.round(df_nutrient.loc[recipe].calorie * portion) \n",
    "            protein_ratio = df_nutrient.loc[recipe].protein_ratio\n",
    "            fat_ratio = df_nutrient.loc[recipe].fat_ratio\n",
    "            carb_ratio = df_nutrient.loc[recipe].carb_ratio\n",
    "            serving = df_nutrient.loc[recipe].servings\n",
    "            link = df_nutrient.loc[recipe].link\n",
    "            new_rec['recipe'].append(recipe)\n",
    "            new_rec['link'].append(link)\n",
    "            new_rec['calorie'].append(calorie)\n",
    "            new_rec['protein'].append(protein)\n",
    "            new_rec['protein ratio'].append(protein_ratio)\n",
    "            new_rec['fat ratio'].append(fat_ratio)\n",
    "            new_rec['carb ratio'].append(carb_ratio)\n",
    "            new_rec['your serving'].append(portion)\n",
    "            new_rec['recipe serving'].append(serving)\n",
    "        else:\n",
    "            portion = np.round(calorie_cut/df_nutrient.loc[recipe].calorie, 2) \n",
    "            protein = np.round(df_nutrient.loc[recipe].protein_g * portion)\n",
    "            # check protein\n",
    "            if protein < protein_cut:\n",
    "                continue\n",
    "            calorie = np.round(df_nutrient.loc[recipe].calorie * portion) \n",
    "            protein_ratio = df_nutrient.loc[recipe].protein_ratio\n",
    "            fat_ratio = df_nutrient.loc[recipe].fat_ratio\n",
    "            carb_ratio = df_nutrient.loc[recipe].carb_ratio\n",
    "            serving = df_nutrient.loc[recipe].servings\n",
    "            link = df_nutrient.loc[recipe].link\n",
    "            new_rec['recipe'].append(recipe)\n",
    "            new_rec['link'].append(link)\n",
    "            new_rec['calorie'].append(calorie)\n",
    "            new_rec['protein'].append(protein)\n",
    "            new_rec['protein ratio'].append(protein_ratio)\n",
    "            new_rec['fat ratio'].append(fat_ratio)\n",
    "            new_rec['carb ratio'].append(carb_ratio)\n",
    "            new_rec['your serving'].append(portion)\n",
    "            new_rec['recipe serving'].append(serving)\n",
    "\n",
    "    print('Running out of recipes. Please start over and choose more preferred meals.')\n",
    "    return"
   ]
  },
  {
   "cell_type": "code",
   "execution_count": 425,
   "metadata": {},
   "outputs": [],
   "source": [
    "def print_rec(df, i):\n",
    "    \"\"\"\n",
    "    Print recommendation\n",
    "    \"\"\"\n",
    "    serving = df['your serving'][i]\n",
    "    recipe = df['recipe'][i]\n",
    "    calorie = df['calorie'][i]\n",
    "    link = df['link'][i]\n",
    "    print(f'Your day 1 meal is {serving} serving(s) of \"{recipe}\" with {calorie} kcal at:\\n{link}.')"
   ]
  },
  {
   "cell_type": "code",
   "execution_count": 432,
   "metadata": {},
   "outputs": [],
   "source": [
    "def plot_nutrient(df, i):\n",
    "    \"\"\"\n",
    "    Plot nutrient ratios\n",
    "    \"\"\"\n",
    "    labels = ['Carbohydrate', 'Protein', 'Fat']\n",
    "    sizes = [df['carb ratio'][i], df['protein ratio'][i], df['fat ratio'][i]]\n",
    "    colors = ['lightcoral', 'lightskyblue', 'gold']\n",
    "\n",
    "    # plot\n",
    "    plt.pie(sizes, labels=labels, colors=colors, autopct='%1.1f%%', \n",
    "            startangle=90, counterclock = False, radius=100)\n",
    "    plt.axis('square')\n",
    "    plt.tight_layout()\n",
    "    plt.show();"
   ]
  },
  {
   "cell_type": "code",
   "execution_count": 433,
   "metadata": {
    "scrolled": true
   },
   "outputs": [
    {
     "data": {
      "image/png": "[encoded data removed]",
      "text/plain": [
       "<Figure size 432x288 with 1 Axes>"
      ]
     },
     "metadata": {},
     "output_type": "display_data"
    }
   ],
   "source": [
    "plot_nutrient(df, 0)"
   ]
  },
  {
   "cell_type": "code",
   "execution_count": 430,
   "metadata": {
    "scrolled": false
   },
   "outputs": [
    {
     "name": "stdout",
     "output_type": "stream",
     "text": [
      "Your day 1 meal is 1.15 serving(s) of \"Wiener Schnitzel\" with 500.0 kcal at:\n",
      "https://www.allrecipes.com/recipe/47599/wiener-schnitzel/.\n"
     ]
    },
    {
     "data": {
      "image/png": "[encoded data removed]",
      "text/plain": [
       "<Figure size 432x288 with 1 Axes>"
      ]
     },
     "metadata": {},
     "output_type": "display_data"
    },
    {
     "name": "stdout",
     "output_type": "stream",
     "text": [
      "Your day 1 meal is 1.22 serving(s) of \"Chef Johns Potato Gnocchi\" with 501.0 kcal at:\n",
      "https://www.allrecipes.com/recipe/255020/chef-johns-potato-gnocchi/.\n"
     ]
    },
    {
     "data": {
      "image/png": "[encoded data removed]",
      "text/plain": [
       "<Figure size 432x288 with 1 Axes>"
      ]
     },
     "metadata": {},
     "output_type": "display_data"
    },
    {
     "name": "stdout",
     "output_type": "stream",
     "text": [
      "Your day 1 meal is 1.71 serving(s) of \"Pams Bierocks\" with 501.0 kcal at:\n",
      "https://www.allrecipes.com/recipe/23658/pams-bierocks/.\n"
     ]
    },
    {
     "data": {
      "image/png": "[encoded data removed]",
      "text/plain": [
       "<Figure size 432x288 with 1 Axes>"
      ]
     },
     "metadata": {},
     "output_type": "display_data"
    }
   ],
   "source": [
    "optimize_recipe(total_rec_recipes)"
   ]
  },
  {
   "cell_type": "code",
   "execution_count": 391,
   "metadata": {},
   "outputs": [
    {
     "data": {
      "text/html": [
       "<div>\n",
       "<style scoped>\n",
       "    .dataframe tbody tr th:only-of-type {\n",
       "        vertical-align: middle;\n",
       "    }\n",
       "\n",
       "    .dataframe tbody tr th {\n",
       "        vertical-align: top;\n",
       "    }\n",
       "\n",
       "    .dataframe thead th {\n",
       "        text-align: right;\n",
       "    }\n",
       "</style>\n",
       "<table border=\"1\" class=\"dataframe\">\n",
       "  <thead>\n",
       "    <tr style=\"text-align: right;\">\n",
       "      <th></th>\n",
       "      <th>recipe</th>\n",
       "      <th>link</th>\n",
       "      <th>calorie</th>\n",
       "      <th>protein</th>\n",
       "      <th>protein ratio</th>\n",
       "      <th>fat ratio</th>\n",
       "      <th>carb ratio</th>\n",
       "      <th>your serving</th>\n",
       "      <th>recipe serving</th>\n",
       "    </tr>\n",
       "  </thead>\n",
       "  <tbody>\n",
       "    <tr>\n",
       "      <th>Day 1</th>\n",
       "      <td>No Cream Pasta Primavera</td>\n",
       "      <td>https://www.allrecipes.com/recipe/86515/no-cre...</td>\n",
       "      <td>499.0</td>\n",
       "      <td>17.0</td>\n",
       "      <td>0.13</td>\n",
       "      <td>0.34</td>\n",
       "      <td>0.54</td>\n",
       "      <td>1.23</td>\n",
       "      <td>6.0</td>\n",
       "    </tr>\n",
       "    <tr>\n",
       "      <th>Day 2</th>\n",
       "      <td>Cajun Style Stuffed Peppers</td>\n",
       "      <td>https://www.allrecipes.com/recipe/38215/cajun-...</td>\n",
       "      <td>500.0</td>\n",
       "      <td>28.0</td>\n",
       "      <td>0.22</td>\n",
       "      <td>0.28</td>\n",
       "      <td>0.52</td>\n",
       "      <td>1.63</td>\n",
       "      <td>6.0</td>\n",
       "    </tr>\n",
       "    <tr>\n",
       "      <th>Day 3</th>\n",
       "      <td>Penne Pasta With Peas And Prosciutto</td>\n",
       "      <td>https://www.allrecipes.com/recipe/237141/penne...</td>\n",
       "      <td>498.0</td>\n",
       "      <td>24.0</td>\n",
       "      <td>0.19</td>\n",
       "      <td>0.14</td>\n",
       "      <td>0.69</td>\n",
       "      <td>0.71</td>\n",
       "      <td>4.0</td>\n",
       "    </tr>\n",
       "  </tbody>\n",
       "</table>\n",
       "</div>"
      ],
      "text/plain": [
       "                                     recipe  \\\n",
       "Day 1              No Cream Pasta Primavera   \n",
       "Day 2           Cajun Style Stuffed Peppers   \n",
       "Day 3  Penne Pasta With Peas And Prosciutto   \n",
       "\n",
       "                                                    link  calorie  protein  \\\n",
       "Day 1  https://www.allrecipes.com/recipe/86515/no-cre...    499.0     17.0   \n",
       "Day 2  https://www.allrecipes.com/recipe/38215/cajun-...    500.0     28.0   \n",
       "Day 3  https://www.allrecipes.com/recipe/237141/penne...    498.0     24.0   \n",
       "\n",
       "       protein ratio  fat ratio  carb ratio  your serving  recipe serving  \n",
       "Day 1           0.13       0.34        0.54          1.23             6.0  \n",
       "Day 2           0.22       0.28        0.52          1.63             6.0  \n",
       "Day 3           0.19       0.14        0.69          0.71             4.0  "
      ]
     },
     "execution_count": 391,
     "metadata": {},
     "output_type": "execute_result"
    }
   ],
   "source": [
    "df.head()"
   ]
  },
  {
   "cell_type": "markdown",
   "metadata": {},
   "source": [
    "References: \n",
    "\n",
    "https://towardsdatascience.com/how-to-build-from-scratch-a-content-based-movie-recommender-with-natural-language-processing-25ad400eb243\n",
    "\n",
    "https://towardsdatascience.com/end-to-end-topic-modeling-in-python-latent-dirichlet-allocation-lda-35ce4ed6b3e0\n",
    "\n",
    "https://health.gov/dietaryguidelines/2015/resources/2015-2020_dietary_guidelines.pdf"
   ]
  }
 ],
 "metadata": {
  "kernelspec": {
   "display_name": "Python 3",
   "language": "python",
   "name": "python3"
  },
  "language_info": {
   "codemirror_mode": {
    "name": "ipython",
    "version": 3
   },
   "file_extension": ".py",
   "mimetype": "text/x-python",
   "name": "python",
   "nbconvert_exporter": "python",
   "pygments_lexer": "ipython3",
   "version": "3.7.3"
  }
 },
 "nbformat": 4,
 "nbformat_minor": 2
}
