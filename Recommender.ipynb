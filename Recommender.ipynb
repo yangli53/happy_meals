{
 "cells": [
  {
   "cell_type": "code",
   "execution_count": 1,
   "metadata": {},
   "outputs": [],
   "source": [
    "import numpy as np\n",
    "import pandas as pd\n",
    "import matplotlib.pyplot as plt\n",
    "import seaborn as sns\n",
    "%matplotlib inline"
   ]
  },
  {
   "cell_type": "code",
   "execution_count": 2,
   "metadata": {
    "scrolled": false
   },
   "outputs": [
    {
     "data": {
      "text/html": [
       "<div>\n",
       "<style scoped>\n",
       "    .dataframe tbody tr th:only-of-type {\n",
       "        vertical-align: middle;\n",
       "    }\n",
       "\n",
       "    .dataframe tbody tr th {\n",
       "        vertical-align: top;\n",
       "    }\n",
       "\n",
       "    .dataframe thead th {\n",
       "        text-align: right;\n",
       "    }\n",
       "</style>\n",
       "<table border=\"1\" class=\"dataframe\">\n",
       "  <thead>\n",
       "    <tr style=\"text-align: right;\">\n",
       "      <th></th>\n",
       "      <th>beef_poultry</th>\n",
       "      <th>veggies</th>\n",
       "      <th>pork_fish</th>\n",
       "      <th>asian</th>\n",
       "      <th>baking</th>\n",
       "      <th>curry_based</th>\n",
       "      <th>cheese_based</th>\n",
       "      <th>pepper_based</th>\n",
       "    </tr>\n",
       "    <tr>\n",
       "      <th>title</th>\n",
       "      <th></th>\n",
       "      <th></th>\n",
       "      <th></th>\n",
       "      <th></th>\n",
       "      <th></th>\n",
       "      <th></th>\n",
       "      <th></th>\n",
       "      <th></th>\n",
       "    </tr>\n",
       "  </thead>\n",
       "  <tbody>\n",
       "    <tr>\n",
       "      <th>Chip Truck Fries</th>\n",
       "      <td>0.187419</td>\n",
       "      <td>0.133036</td>\n",
       "      <td>0.090798</td>\n",
       "      <td>0.16769</td>\n",
       "      <td>0.096604</td>\n",
       "      <td>0.107746</td>\n",
       "      <td>0.085791</td>\n",
       "      <td>0.130915</td>\n",
       "    </tr>\n",
       "  </tbody>\n",
       "</table>\n",
       "</div>"
      ],
      "text/plain": [
       "                  beef_poultry   veggies  pork_fish    asian    baking  \\\n",
       "title                                                                    \n",
       "Chip Truck Fries      0.187419  0.133036   0.090798  0.16769  0.096604   \n",
       "\n",
       "                  curry_based  cheese_based  pepper_based  \n",
       "title                                                      \n",
       "Chip Truck Fries     0.107746      0.085791      0.130915  "
      ]
     },
     "execution_count": 2,
     "metadata": {},
     "output_type": "execute_result"
    }
   ],
   "source": [
    "lda_matrix = pd.read_csv('recipe_ida.csv')\n",
    "lda_matrix.set_index('title', inplace=True)\n",
    "lda_matrix.head(1)"
   ]
  },
  {
   "cell_type": "code",
   "execution_count": 3,
   "metadata": {},
   "outputs": [
    {
     "data": {
      "text/plain": [
       "(5820, 8)"
      ]
     },
     "execution_count": 3,
     "metadata": {},
     "output_type": "execute_result"
    }
   ],
   "source": [
    "lda_matrix.shape"
   ]
  },
  {
   "cell_type": "markdown",
   "metadata": {},
   "source": [
    "# Content-based Recommender \n",
    "## Cosine Similarity"
   ]
  },
  {
   "cell_type": "code",
   "execution_count": 4,
   "metadata": {},
   "outputs": [],
   "source": [
    "from sklearn.metrics.pairwise import cosine_similarity"
   ]
  },
  {
   "cell_type": "code",
   "execution_count": 5,
   "metadata": {},
   "outputs": [],
   "source": [
    "lda_array = lda_matrix.to_numpy()"
   ]
  },
  {
   "cell_type": "code",
   "execution_count": 6,
   "metadata": {},
   "outputs": [
    {
     "data": {
      "text/plain": [
       "array([[0.18741913, 0.13303621, 0.09079776, ..., 0.1077461 , 0.08579136,\n",
       "        0.13091502],\n",
       "       [0.18918045, 0.1075457 , 0.05863064, ..., 0.12879267, 0.05805379,\n",
       "        0.20199567],\n",
       "       [0.16221195, 0.06988037, 0.21075504, ..., 0.22820932, 0.0756879 ,\n",
       "        0.08808205],\n",
       "       ...,\n",
       "       [0.069203  , 0.06786838, 0.12415019, ..., 0.0683871 , 0.06857029,\n",
       "        0.07865649],\n",
       "       [0.0911544 , 0.08293571, 0.12364104, ..., 0.08955825, 0.08176927,\n",
       "        0.10602988],\n",
       "       [0.06042327, 0.0598412 , 0.06092293, ..., 0.06019417, 0.05959979,\n",
       "        0.06702697]])"
      ]
     },
     "execution_count": 6,
     "metadata": {},
     "output_type": "execute_result"
    }
   ],
   "source": [
    "lda_array"
   ]
  },
  {
   "cell_type": "code",
   "execution_count": 7,
   "metadata": {
    "scrolled": true
   },
   "outputs": [
    {
     "data": {
      "text/plain": [
       "(5820, 8)"
      ]
     },
     "execution_count": 7,
     "metadata": {},
     "output_type": "execute_result"
    }
   ],
   "source": [
    "lda_array.shape"
   ]
  },
  {
   "cell_type": "code",
   "execution_count": 8,
   "metadata": {},
   "outputs": [],
   "source": [
    "cosine_sim = cosine_similarity(lda_array)"
   ]
  },
  {
   "cell_type": "code",
   "execution_count": 9,
   "metadata": {
    "scrolled": true
   },
   "outputs": [
    {
     "data": {
      "text/plain": [
       "(5820, 5820)"
      ]
     },
     "execution_count": 9,
     "metadata": {},
     "output_type": "execute_result"
    }
   ],
   "source": [
    "cosine_sim.shape"
   ]
  },
  {
   "cell_type": "code",
   "execution_count": 10,
   "metadata": {},
   "outputs": [
    {
     "data": {
      "text/html": [
       "<div>\n",
       "<style scoped>\n",
       "    .dataframe tbody tr th:only-of-type {\n",
       "        vertical-align: middle;\n",
       "    }\n",
       "\n",
       "    .dataframe tbody tr th {\n",
       "        vertical-align: top;\n",
       "    }\n",
       "\n",
       "    .dataframe thead th {\n",
       "        text-align: right;\n",
       "    }\n",
       "</style>\n",
       "<table border=\"1\" class=\"dataframe\">\n",
       "  <thead>\n",
       "    <tr style=\"text-align: right;\">\n",
       "      <th></th>\n",
       "      <th>Chip Truck Fries</th>\n",
       "      <th>Irish Bacon And Cabbage Soup</th>\n",
       "      <th>Quick Salmon Salad</th>\n",
       "      <th>Bills Seasoned Ketchup</th>\n",
       "      <th>Celery Salad</th>\n",
       "      <th>Jens Heavenly Egg Salad</th>\n",
       "      <th>Black Bean And Corn Quesadillas</th>\n",
       "      <th>Mimis Zucchini Pie</th>\n",
       "      <th>Tomato Mint Quinoa Salad</th>\n",
       "      <th>Nutty Brown Rice Salad</th>\n",
       "      <th>...</th>\n",
       "      <th>Monster Cookies Ii</th>\n",
       "      <th>Anzac Biscuits I</th>\n",
       "      <th>No Bake Cookies I</th>\n",
       "      <th>Megans Granola</th>\n",
       "      <th>No Bake Choco Peanut Oatmeal Cookies</th>\n",
       "      <th>Barbies Tuna Salad</th>\n",
       "      <th>Maine Venison Stew</th>\n",
       "      <th>Buttertart Squares</th>\n",
       "      <th>Japanese Sushi Rice</th>\n",
       "      <th>Oatmeal Chocolate Chip Cookies I</th>\n",
       "    </tr>\n",
       "  </thead>\n",
       "  <tbody>\n",
       "    <tr>\n",
       "      <th>Chip Truck Fries</th>\n",
       "      <td>1.000000</td>\n",
       "      <td>0.965879</td>\n",
       "      <td>0.859617</td>\n",
       "      <td>0.847451</td>\n",
       "      <td>0.910195</td>\n",
       "      <td>0.894668</td>\n",
       "      <td>0.748394</td>\n",
       "      <td>0.813764</td>\n",
       "      <td>0.842528</td>\n",
       "      <td>0.773702</td>\n",
       "      <td>...</td>\n",
       "      <td>0.479231</td>\n",
       "      <td>0.675950</td>\n",
       "      <td>0.691335</td>\n",
       "      <td>0.704909</td>\n",
       "      <td>0.813910</td>\n",
       "      <td>0.709921</td>\n",
       "      <td>0.843903</td>\n",
       "      <td>0.608788</td>\n",
       "      <td>0.786680</td>\n",
       "      <td>0.506057</td>\n",
       "    </tr>\n",
       "    <tr>\n",
       "      <th>Irish Bacon And Cabbage Soup</th>\n",
       "      <td>0.965879</td>\n",
       "      <td>1.000000</td>\n",
       "      <td>0.809044</td>\n",
       "      <td>0.892205</td>\n",
       "      <td>0.896696</td>\n",
       "      <td>0.898490</td>\n",
       "      <td>0.619562</td>\n",
       "      <td>0.738240</td>\n",
       "      <td>0.798886</td>\n",
       "      <td>0.780190</td>\n",
       "      <td>...</td>\n",
       "      <td>0.352329</td>\n",
       "      <td>0.558075</td>\n",
       "      <td>0.566037</td>\n",
       "      <td>0.586063</td>\n",
       "      <td>0.695931</td>\n",
       "      <td>0.601944</td>\n",
       "      <td>0.827715</td>\n",
       "      <td>0.485125</td>\n",
       "      <td>0.684816</td>\n",
       "      <td>0.387392</td>\n",
       "    </tr>\n",
       "    <tr>\n",
       "      <th>Quick Salmon Salad</th>\n",
       "      <td>0.859617</td>\n",
       "      <td>0.809044</td>\n",
       "      <td>1.000000</td>\n",
       "      <td>0.747591</td>\n",
       "      <td>0.945838</td>\n",
       "      <td>0.917329</td>\n",
       "      <td>0.577963</td>\n",
       "      <td>0.675787</td>\n",
       "      <td>0.925646</td>\n",
       "      <td>0.616800</td>\n",
       "      <td>...</td>\n",
       "      <td>0.381025</td>\n",
       "      <td>0.578654</td>\n",
       "      <td>0.637118</td>\n",
       "      <td>0.788219</td>\n",
       "      <td>0.790483</td>\n",
       "      <td>0.855029</td>\n",
       "      <td>0.670975</td>\n",
       "      <td>0.544339</td>\n",
       "      <td>0.709300</td>\n",
       "      <td>0.409872</td>\n",
       "    </tr>\n",
       "    <tr>\n",
       "      <th>Bills Seasoned Ketchup</th>\n",
       "      <td>0.847451</td>\n",
       "      <td>0.892205</td>\n",
       "      <td>0.747591</td>\n",
       "      <td>1.000000</td>\n",
       "      <td>0.868972</td>\n",
       "      <td>0.936677</td>\n",
       "      <td>0.617912</td>\n",
       "      <td>0.790256</td>\n",
       "      <td>0.737918</td>\n",
       "      <td>0.835378</td>\n",
       "      <td>...</td>\n",
       "      <td>0.374369</td>\n",
       "      <td>0.560287</td>\n",
       "      <td>0.596783</td>\n",
       "      <td>0.701732</td>\n",
       "      <td>0.728172</td>\n",
       "      <td>0.712809</td>\n",
       "      <td>0.607771</td>\n",
       "      <td>0.523217</td>\n",
       "      <td>0.698810</td>\n",
       "      <td>0.407101</td>\n",
       "    </tr>\n",
       "    <tr>\n",
       "      <th>Celery Salad</th>\n",
       "      <td>0.910195</td>\n",
       "      <td>0.896696</td>\n",
       "      <td>0.945838</td>\n",
       "      <td>0.868972</td>\n",
       "      <td>1.000000</td>\n",
       "      <td>0.953574</td>\n",
       "      <td>0.615356</td>\n",
       "      <td>0.772153</td>\n",
       "      <td>0.901186</td>\n",
       "      <td>0.773273</td>\n",
       "      <td>...</td>\n",
       "      <td>0.359867</td>\n",
       "      <td>0.565579</td>\n",
       "      <td>0.614830</td>\n",
       "      <td>0.736638</td>\n",
       "      <td>0.771545</td>\n",
       "      <td>0.799381</td>\n",
       "      <td>0.741404</td>\n",
       "      <td>0.527004</td>\n",
       "      <td>0.706003</td>\n",
       "      <td>0.395936</td>\n",
       "    </tr>\n",
       "    <tr>\n",
       "      <th>Jens Heavenly Egg Salad</th>\n",
       "      <td>0.894668</td>\n",
       "      <td>0.898490</td>\n",
       "      <td>0.917329</td>\n",
       "      <td>0.936677</td>\n",
       "      <td>0.953574</td>\n",
       "      <td>1.000000</td>\n",
       "      <td>0.671703</td>\n",
       "      <td>0.808262</td>\n",
       "      <td>0.911341</td>\n",
       "      <td>0.810863</td>\n",
       "      <td>...</td>\n",
       "      <td>0.420828</td>\n",
       "      <td>0.620374</td>\n",
       "      <td>0.662745</td>\n",
       "      <td>0.771576</td>\n",
       "      <td>0.808019</td>\n",
       "      <td>0.809722</td>\n",
       "      <td>0.619935</td>\n",
       "      <td>0.577847</td>\n",
       "      <td>0.756578</td>\n",
       "      <td>0.450987</td>\n",
       "    </tr>\n",
       "    <tr>\n",
       "      <th>Black Bean And Corn Quesadillas</th>\n",
       "      <td>0.748394</td>\n",
       "      <td>0.619562</td>\n",
       "      <td>0.577963</td>\n",
       "      <td>0.617912</td>\n",
       "      <td>0.615356</td>\n",
       "      <td>0.671703</td>\n",
       "      <td>1.000000</td>\n",
       "      <td>0.903014</td>\n",
       "      <td>0.696344</td>\n",
       "      <td>0.744294</td>\n",
       "      <td>...</td>\n",
       "      <td>0.747927</td>\n",
       "      <td>0.837301</td>\n",
       "      <td>0.821308</td>\n",
       "      <td>0.667875</td>\n",
       "      <td>0.850085</td>\n",
       "      <td>0.603849</td>\n",
       "      <td>0.453240</td>\n",
       "      <td>0.785282</td>\n",
       "      <td>0.845591</td>\n",
       "      <td>0.737766</td>\n",
       "    </tr>\n",
       "    <tr>\n",
       "      <th>Mimis Zucchini Pie</th>\n",
       "      <td>0.813764</td>\n",
       "      <td>0.738240</td>\n",
       "      <td>0.675787</td>\n",
       "      <td>0.790256</td>\n",
       "      <td>0.772153</td>\n",
       "      <td>0.808262</td>\n",
       "      <td>0.903014</td>\n",
       "      <td>1.000000</td>\n",
       "      <td>0.790779</td>\n",
       "      <td>0.934846</td>\n",
       "      <td>...</td>\n",
       "      <td>0.473216</td>\n",
       "      <td>0.632242</td>\n",
       "      <td>0.651809</td>\n",
       "      <td>0.665407</td>\n",
       "      <td>0.768883</td>\n",
       "      <td>0.716305</td>\n",
       "      <td>0.489065</td>\n",
       "      <td>0.580761</td>\n",
       "      <td>0.718201</td>\n",
       "      <td>0.480562</td>\n",
       "    </tr>\n",
       "  </tbody>\n",
       "</table>\n",
       "<p>8 rows × 5820 columns</p>\n",
       "</div>"
      ],
      "text/plain": [
       "                                 Chip Truck Fries  \\\n",
       "Chip Truck Fries                         1.000000   \n",
       "Irish Bacon And Cabbage Soup             0.965879   \n",
       "Quick Salmon Salad                       0.859617   \n",
       "Bills Seasoned Ketchup                   0.847451   \n",
       "Celery Salad                             0.910195   \n",
       "Jens Heavenly Egg Salad                  0.894668   \n",
       "Black Bean And Corn Quesadillas          0.748394   \n",
       "Mimis Zucchini Pie                       0.813764   \n",
       "\n",
       "                                 Irish Bacon And Cabbage Soup  \\\n",
       "Chip Truck Fries                                     0.965879   \n",
       "Irish Bacon And Cabbage Soup                         1.000000   \n",
       "Quick Salmon Salad                                   0.809044   \n",
       "Bills Seasoned Ketchup                               0.892205   \n",
       "Celery Salad                                         0.896696   \n",
       "Jens Heavenly Egg Salad                              0.898490   \n",
       "Black Bean And Corn Quesadillas                      0.619562   \n",
       "Mimis Zucchini Pie                                   0.738240   \n",
       "\n",
       "                                 Quick Salmon Salad  Bills Seasoned Ketchup  \\\n",
       "Chip Truck Fries                           0.859617                0.847451   \n",
       "Irish Bacon And Cabbage Soup               0.809044                0.892205   \n",
       "Quick Salmon Salad                         1.000000                0.747591   \n",
       "Bills Seasoned Ketchup                     0.747591                1.000000   \n",
       "Celery Salad                               0.945838                0.868972   \n",
       "Jens Heavenly Egg Salad                    0.917329                0.936677   \n",
       "Black Bean And Corn Quesadillas            0.577963                0.617912   \n",
       "Mimis Zucchini Pie                         0.675787                0.790256   \n",
       "\n",
       "                                 Celery Salad  Jens Heavenly Egg Salad  \\\n",
       "Chip Truck Fries                     0.910195                 0.894668   \n",
       "Irish Bacon And Cabbage Soup         0.896696                 0.898490   \n",
       "Quick Salmon Salad                   0.945838                 0.917329   \n",
       "Bills Seasoned Ketchup               0.868972                 0.936677   \n",
       "Celery Salad                         1.000000                 0.953574   \n",
       "Jens Heavenly Egg Salad              0.953574                 1.000000   \n",
       "Black Bean And Corn Quesadillas      0.615356                 0.671703   \n",
       "Mimis Zucchini Pie                   0.772153                 0.808262   \n",
       "\n",
       "                                 Black Bean And Corn Quesadillas  \\\n",
       "Chip Truck Fries                                        0.748394   \n",
       "Irish Bacon And Cabbage Soup                            0.619562   \n",
       "Quick Salmon Salad                                      0.577963   \n",
       "Bills Seasoned Ketchup                                  0.617912   \n",
       "Celery Salad                                            0.615356   \n",
       "Jens Heavenly Egg Salad                                 0.671703   \n",
       "Black Bean And Corn Quesadillas                         1.000000   \n",
       "Mimis Zucchini Pie                                      0.903014   \n",
       "\n",
       "                                 Mimis Zucchini Pie  Tomato Mint Quinoa Salad  \\\n",
       "Chip Truck Fries                           0.813764                  0.842528   \n",
       "Irish Bacon And Cabbage Soup               0.738240                  0.798886   \n",
       "Quick Salmon Salad                         0.675787                  0.925646   \n",
       "Bills Seasoned Ketchup                     0.790256                  0.737918   \n",
       "Celery Salad                               0.772153                  0.901186   \n",
       "Jens Heavenly Egg Salad                    0.808262                  0.911341   \n",
       "Black Bean And Corn Quesadillas            0.903014                  0.696344   \n",
       "Mimis Zucchini Pie                         1.000000                  0.790779   \n",
       "\n",
       "                                 Nutty Brown Rice Salad  ...  \\\n",
       "Chip Truck Fries                               0.773702  ...   \n",
       "Irish Bacon And Cabbage Soup                   0.780190  ...   \n",
       "Quick Salmon Salad                             0.616800  ...   \n",
       "Bills Seasoned Ketchup                         0.835378  ...   \n",
       "Celery Salad                                   0.773273  ...   \n",
       "Jens Heavenly Egg Salad                        0.810863  ...   \n",
       "Black Bean And Corn Quesadillas                0.744294  ...   \n",
       "Mimis Zucchini Pie                             0.934846  ...   \n",
       "\n",
       "                                 Monster Cookies Ii  Anzac Biscuits I  \\\n",
       "Chip Truck Fries                           0.479231          0.675950   \n",
       "Irish Bacon And Cabbage Soup               0.352329          0.558075   \n",
       "Quick Salmon Salad                         0.381025          0.578654   \n",
       "Bills Seasoned Ketchup                     0.374369          0.560287   \n",
       "Celery Salad                               0.359867          0.565579   \n",
       "Jens Heavenly Egg Salad                    0.420828          0.620374   \n",
       "Black Bean And Corn Quesadillas            0.747927          0.837301   \n",
       "Mimis Zucchini Pie                         0.473216          0.632242   \n",
       "\n",
       "                                 No Bake Cookies I  Megans Granola  \\\n",
       "Chip Truck Fries                          0.691335        0.704909   \n",
       "Irish Bacon And Cabbage Soup              0.566037        0.586063   \n",
       "Quick Salmon Salad                        0.637118        0.788219   \n",
       "Bills Seasoned Ketchup                    0.596783        0.701732   \n",
       "Celery Salad                              0.614830        0.736638   \n",
       "Jens Heavenly Egg Salad                   0.662745        0.771576   \n",
       "Black Bean And Corn Quesadillas           0.821308        0.667875   \n",
       "Mimis Zucchini Pie                        0.651809        0.665407   \n",
       "\n",
       "                                 No Bake Choco Peanut Oatmeal Cookies  \\\n",
       "Chip Truck Fries                                             0.813910   \n",
       "Irish Bacon And Cabbage Soup                                 0.695931   \n",
       "Quick Salmon Salad                                           0.790483   \n",
       "Bills Seasoned Ketchup                                       0.728172   \n",
       "Celery Salad                                                 0.771545   \n",
       "Jens Heavenly Egg Salad                                      0.808019   \n",
       "Black Bean And Corn Quesadillas                              0.850085   \n",
       "Mimis Zucchini Pie                                           0.768883   \n",
       "\n",
       "                                 Barbies Tuna Salad  Maine Venison Stew  \\\n",
       "Chip Truck Fries                           0.709921            0.843903   \n",
       "Irish Bacon And Cabbage Soup               0.601944            0.827715   \n",
       "Quick Salmon Salad                         0.855029            0.670975   \n",
       "Bills Seasoned Ketchup                     0.712809            0.607771   \n",
       "Celery Salad                               0.799381            0.741404   \n",
       "Jens Heavenly Egg Salad                    0.809722            0.619935   \n",
       "Black Bean And Corn Quesadillas            0.603849            0.453240   \n",
       "Mimis Zucchini Pie                         0.716305            0.489065   \n",
       "\n",
       "                                 Buttertart Squares  Japanese Sushi Rice  \\\n",
       "Chip Truck Fries                           0.608788             0.786680   \n",
       "Irish Bacon And Cabbage Soup               0.485125             0.684816   \n",
       "Quick Salmon Salad                         0.544339             0.709300   \n",
       "Bills Seasoned Ketchup                     0.523217             0.698810   \n",
       "Celery Salad                               0.527004             0.706003   \n",
       "Jens Heavenly Egg Salad                    0.577847             0.756578   \n",
       "Black Bean And Corn Quesadillas            0.785282             0.845591   \n",
       "Mimis Zucchini Pie                         0.580761             0.718201   \n",
       "\n",
       "                                 Oatmeal Chocolate Chip Cookies I  \n",
       "Chip Truck Fries                                         0.506057  \n",
       "Irish Bacon And Cabbage Soup                             0.387392  \n",
       "Quick Salmon Salad                                       0.409872  \n",
       "Bills Seasoned Ketchup                                   0.407101  \n",
       "Celery Salad                                             0.395936  \n",
       "Jens Heavenly Egg Salad                                  0.450987  \n",
       "Black Bean And Corn Quesadillas                          0.737766  \n",
       "Mimis Zucchini Pie                                       0.480562  \n",
       "\n",
       "[8 rows x 5820 columns]"
      ]
     },
     "execution_count": 10,
     "metadata": {},
     "output_type": "execute_result"
    }
   ],
   "source": [
    "df_sim = pd.DataFrame(data=cosine_sim, \n",
    "                      index=lda_matrix.index.tolist(), \n",
    "                      columns=lda_matrix.index.tolist())\n",
    "df_sim.head(8)"
   ]
  },
  {
   "cell_type": "code",
   "execution_count": 11,
   "metadata": {},
   "outputs": [],
   "source": [
    "# creating a Series for recipe titles\n",
    "indices = pd.Series(lda_matrix.index)"
   ]
  },
  {
   "cell_type": "code",
   "execution_count": 12,
   "metadata": {},
   "outputs": [],
   "source": [
    "# define a function to take in recipe title and return the top n recommended recipes\n",
    "def recommender(title, df=lda_matrix, cosine_sim=cosine_sim, top_n=10):\n",
    "    \"\"\"\n",
    "    Content-based recommender based on cosine similarity\n",
    "    \"\"\"\n",
    "    # initialize an empty list of recommended recipes\n",
    "    top_recipes = []\n",
    "    \n",
    "    # get the index of the recipe that matches the title\n",
    "    idx = indices[indices == title].index[0]\n",
    "\n",
    "    # creating a Series with the similarity scores in descending order\n",
    "    score_series = pd.Series(cosine_sim[idx]).sort_values(ascending=False)\n",
    "\n",
    "    # getting the idx of the n most similar recipes\n",
    "    top_idx = score_series.iloc[1:top_n+1].index.tolist()\n",
    "    \n",
    "    # get the title of the top n matching recipes\n",
    "    for i in top_idx:\n",
    "        top_recipes.append(df.index[i])\n",
    "        \n",
    "    return top_recipes"
   ]
  },
  {
   "cell_type": "code",
   "execution_count": 13,
   "metadata": {},
   "outputs": [],
   "source": [
    "options = ['Mexican Rice']\n",
    "rec_recipes = []\n",
    "for title in options:\n",
    "    top_recipes = recommender(title, top_n=100)\n",
    "    rec_recipes.extend(top_recipes)"
   ]
  },
  {
   "cell_type": "code",
   "execution_count": 14,
   "metadata": {},
   "outputs": [
    {
     "data": {
      "text/plain": [
       "100"
      ]
     },
     "execution_count": 14,
     "metadata": {},
     "output_type": "execute_result"
    }
   ],
   "source": [
    "len(rec_recipes)"
   ]
  },
  {
   "cell_type": "markdown",
   "metadata": {},
   "source": [
    "# Validation \n",
    "## Mean Similarity"
   ]
  },
  {
   "cell_type": "code",
   "execution_count": 30,
   "metadata": {},
   "outputs": [],
   "source": [
    "def mean_similarity(title_list, df=lda_matrix):\n",
    "    \"\"\"\n",
    "    Calculate mean cosine similarity of two or more recipes\n",
    "    \"\"\"    \n",
    "    array = lda_matrix.loc[title_list,:].to_numpy()\n",
    "    cosine_sim = cosine_similarity(array)\n",
    "    n_recipe = len(title_list)\n",
    "    if n_recipe == 2:\n",
    "        sim_score = np.round(cosine_sim[0, 1], 2)\n",
    "    elif n_recipe > 2:\n",
    "        sim_score = np.round(cosine_sim[0, 1:n_recipe].mean(), 2)\n",
    "    else:\n",
    "        print('Please choose at least two recipes to compare.')\n",
    "    \n",
    "    return sim_score"
   ]
  },
  {
   "cell_type": "code",
   "execution_count": 31,
   "metadata": {},
   "outputs": [],
   "source": [
    "def optimizer_valid(rec_recipes, df=df_nutrient):\n",
    "    \"\"\"\n",
    "    An optimizer used for validation\n",
    "    \"\"\"\n",
    "    protein_lower = 16 # set protein min\n",
    "    protein_upper = 44 # set protein max \n",
    "    fat_limit = 0.35 # set fat_ratio limit\n",
    "    calorie_limit = 500 # set calorie limit \n",
    "\n",
    "    # create a recipe list\n",
    "    new_rec = []\n",
    "\n",
    "    while len(rec_recipes) > 0:\n",
    "        if len(new_rec) == 5:\n",
    "            return new_rec\n",
    "\n",
    "        recipe = np.random.choice(rec_recipes)\n",
    "        rec_recipes.remove(recipe)      \n",
    "   \n",
    "        # check fat\n",
    "        if df.loc[recipe].fat_ratio > fat_limit:\n",
    "            continue\n",
    "            \n",
    "        # check calorie\n",
    "        if df.loc[recipe].calorie > calorie_limit:\n",
    "            portion = np.round(calorie_limit/df.loc[recipe].calorie, 2) \n",
    "            protein = np.round(df.loc[recipe].protein_g * portion)\n",
    "            \n",
    "            # check protein\n",
    "            if protein < protein_lower or protein > protein_upper:\n",
    "                continue\n",
    "            new_rec.append(recipe)\n",
    "        else:\n",
    "            portion = np.round(calorie_limit/df.loc[recipe].calorie, 2) \n",
    "            protein = np.round(df.loc[recipe].protein_g * portion)\n",
    "            \n",
    "            # check protein\n",
    "            if protein < protein_lower or protein > protein_upper:\n",
    "                continue\n",
    "            new_rec.append(recipe)\n",
    "\n",
    "    print('Running out of recipes.')\n",
    "    return"
   ]
  },
  {
   "cell_type": "code",
   "execution_count": 38,
   "metadata": {
    "scrolled": true
   },
   "outputs": [
    {
     "data": {
      "text/html": [
       "<div>\n",
       "<style scoped>\n",
       "    .dataframe tbody tr th:only-of-type {\n",
       "        vertical-align: middle;\n",
       "    }\n",
       "\n",
       "    .dataframe tbody tr th {\n",
       "        vertical-align: top;\n",
       "    }\n",
       "\n",
       "    .dataframe thead th {\n",
       "        text-align: right;\n",
       "    }\n",
       "</style>\n",
       "<table border=\"1\" class=\"dataframe\">\n",
       "  <thead>\n",
       "    <tr style=\"text-align: right;\">\n",
       "      <th></th>\n",
       "      <th>ratings</th>\n",
       "      <th>cook_time</th>\n",
       "      <th>servings</th>\n",
       "      <th>calorie</th>\n",
       "      <th>fat_g</th>\n",
       "      <th>protein_g</th>\n",
       "      <th>carb_g</th>\n",
       "      <th>fat_ratio</th>\n",
       "      <th>protein_ratio</th>\n",
       "      <th>carb_ratio</th>\n",
       "      <th>link</th>\n",
       "    </tr>\n",
       "    <tr>\n",
       "      <th>title</th>\n",
       "      <th></th>\n",
       "      <th></th>\n",
       "      <th></th>\n",
       "      <th></th>\n",
       "      <th></th>\n",
       "      <th></th>\n",
       "      <th></th>\n",
       "      <th></th>\n",
       "      <th></th>\n",
       "      <th></th>\n",
       "      <th></th>\n",
       "    </tr>\n",
       "  </thead>\n",
       "  <tbody>\n",
       "    <tr>\n",
       "      <th>Chip Truck Fries</th>\n",
       "      <td>4.44</td>\n",
       "      <td>60</td>\n",
       "      <td>4.0</td>\n",
       "      <td>369.0</td>\n",
       "      <td>14.0</td>\n",
       "      <td>6.5</td>\n",
       "      <td>56.3</td>\n",
       "      <td>0.34</td>\n",
       "      <td>0.07</td>\n",
       "      <td>0.59</td>\n",
       "      <td>https://www.allrecipes.com/recipe/100164/chip-...</td>\n",
       "    </tr>\n",
       "  </tbody>\n",
       "</table>\n",
       "</div>"
      ],
      "text/plain": [
       "                  ratings  cook_time  servings  calorie  fat_g  protein_g  \\\n",
       "title                                                                       \n",
       "Chip Truck Fries     4.44         60       4.0    369.0   14.0        6.5   \n",
       "\n",
       "                  carb_g  fat_ratio  protein_ratio  carb_ratio  \\\n",
       "title                                                            \n",
       "Chip Truck Fries    56.3       0.34           0.07        0.59   \n",
       "\n",
       "                                                               link  \n",
       "title                                                                \n",
       "Chip Truck Fries  https://www.allrecipes.com/recipe/100164/chip-...  "
      ]
     },
     "execution_count": 38,
     "metadata": {},
     "output_type": "execute_result"
    }
   ],
   "source": [
    "df_nutrient.set_index('title', inplace=True)\n",
    "df_nutrient.head(1)"
   ]
  },
  {
   "cell_type": "code",
   "execution_count": 48,
   "metadata": {},
   "outputs": [],
   "source": [
    "def validation(df1=lda_matrix, df2=df_nutrient):\n",
    "    # randomly pick 3 recipes to mimic the user behavior\n",
    "    random_recipes = np.random.choice(df1.index.tolist(), 3)\n",
    "    \n",
    "    # compute content-based similarity\n",
    "    ## apply recommender\n",
    "    rec_recipes = []\n",
    "    for title in random_recipes:\n",
    "        rec_recipes.extend(recommender(title, top_n=100))\n",
    "\n",
    "    ## apply optimizer\n",
    "    content_recipes = optimizer_valid(rec_recipes)\n",
    "\n",
    "    ## calculate mean similarity \n",
    "    content_sims = []\n",
    "    for title in random_recipes:\n",
    "        content_recipes.append(title)\n",
    "        content_sim = mean_similarity(content_recipes)\n",
    "        content_sims.append(content_sim)\n",
    "    \n",
    "    content_mean = np.mean(content_sims)\n",
    "    \n",
    "    # compute rank-based similarity\n",
    "    ## find the top 300 rated recipes\n",
    "    top_recipes = df2.sort_values(by='ratings', ascending=False)[:300].index.tolist()\n",
    "    \n",
    "    ## apply optimizer\n",
    "    rank_recipes = optimizer_valid(top_recipes)\n",
    "    \n",
    "    ## calculate mean similarity \n",
    "    rank_sims = []\n",
    "    for title in random_recipes:\n",
    "        rank_recipes.append(title)\n",
    "        rank_sim = mean_similarity(rank_recipes)\n",
    "        rank_sims.append(rank_sim)\n",
    "    \n",
    "    rank_mean = np.mean(rank_sims)\n",
    "        \n",
    "    return np.round(content_mean, 2), np.round(rank_mean, 2)"
   ]
  },
  {
   "cell_type": "code",
   "execution_count": 49,
   "metadata": {
    "scrolled": true
   },
   "outputs": [
    {
     "name": "stderr",
     "output_type": "stream",
     "text": [
      "/Users/fivecentsly/anaconda3/lib/python3.7/site-packages/ipykernel_launcher.py:34: RuntimeWarning: divide by zero encountered in double_scalars\n",
      "/Users/fivecentsly/anaconda3/lib/python3.7/site-packages/ipykernel_launcher.py:35: RuntimeWarning: invalid value encountered in double_scalars\n"
     ]
    },
    {
     "data": {
      "text/plain": [
       "(0.85, 0.76)"
      ]
     },
     "execution_count": 49,
     "metadata": {},
     "output_type": "execute_result"
    }
   ],
   "source": [
    "validation()"
   ]
  },
  {
   "cell_type": "code",
   "execution_count": 62,
   "metadata": {
    "scrolled": true
   },
   "outputs": [
    {
     "name": "stderr",
     "output_type": "stream",
     "text": [
      "/Users/fivecentsly/anaconda3/lib/python3.7/site-packages/ipykernel_launcher.py:34: RuntimeWarning: divide by zero encountered in double_scalars\n",
      "/Users/fivecentsly/anaconda3/lib/python3.7/site-packages/ipykernel_launcher.py:35: RuntimeWarning: invalid value encountered in double_scalars\n",
      "/Users/fivecentsly/anaconda3/lib/python3.7/site-packages/ipykernel_launcher.py:34: RuntimeWarning: divide by zero encountered in double_scalars\n",
      "/Users/fivecentsly/anaconda3/lib/python3.7/site-packages/ipykernel_launcher.py:35: RuntimeWarning: invalid value encountered in double_scalars\n",
      "/Users/fivecentsly/anaconda3/lib/python3.7/site-packages/ipykernel_launcher.py:34: RuntimeWarning: divide by zero encountered in double_scalars\n",
      "/Users/fivecentsly/anaconda3/lib/python3.7/site-packages/ipykernel_launcher.py:35: RuntimeWarning: invalid value encountered in double_scalars\n",
      "/Users/fivecentsly/anaconda3/lib/python3.7/site-packages/ipykernel_launcher.py:34: RuntimeWarning: divide by zero encountered in double_scalars\n",
      "/Users/fivecentsly/anaconda3/lib/python3.7/site-packages/ipykernel_launcher.py:35: RuntimeWarning: invalid value encountered in double_scalars\n",
      "/Users/fivecentsly/anaconda3/lib/python3.7/site-packages/ipykernel_launcher.py:34: RuntimeWarning: divide by zero encountered in double_scalars\n",
      "/Users/fivecentsly/anaconda3/lib/python3.7/site-packages/ipykernel_launcher.py:35: RuntimeWarning: invalid value encountered in double_scalars\n",
      "/Users/fivecentsly/anaconda3/lib/python3.7/site-packages/ipykernel_launcher.py:34: RuntimeWarning: divide by zero encountered in double_scalars\n",
      "/Users/fivecentsly/anaconda3/lib/python3.7/site-packages/ipykernel_launcher.py:35: RuntimeWarning: invalid value encountered in double_scalars\n",
      "/Users/fivecentsly/anaconda3/lib/python3.7/site-packages/ipykernel_launcher.py:34: RuntimeWarning: divide by zero encountered in double_scalars\n",
      "/Users/fivecentsly/anaconda3/lib/python3.7/site-packages/ipykernel_launcher.py:35: RuntimeWarning: invalid value encountered in double_scalars\n",
      "/Users/fivecentsly/anaconda3/lib/python3.7/site-packages/ipykernel_launcher.py:34: RuntimeWarning: divide by zero encountered in double_scalars\n",
      "/Users/fivecentsly/anaconda3/lib/python3.7/site-packages/ipykernel_launcher.py:35: RuntimeWarning: invalid value encountered in double_scalars\n",
      "/Users/fivecentsly/anaconda3/lib/python3.7/site-packages/ipykernel_launcher.py:34: RuntimeWarning: divide by zero encountered in double_scalars\n",
      "/Users/fivecentsly/anaconda3/lib/python3.7/site-packages/ipykernel_launcher.py:35: RuntimeWarning: invalid value encountered in double_scalars\n",
      "/Users/fivecentsly/anaconda3/lib/python3.7/site-packages/ipykernel_launcher.py:34: RuntimeWarning: divide by zero encountered in double_scalars\n",
      "/Users/fivecentsly/anaconda3/lib/python3.7/site-packages/ipykernel_launcher.py:35: RuntimeWarning: invalid value encountered in double_scalars\n",
      "/Users/fivecentsly/anaconda3/lib/python3.7/site-packages/ipykernel_launcher.py:34: RuntimeWarning: divide by zero encountered in double_scalars\n",
      "/Users/fivecentsly/anaconda3/lib/python3.7/site-packages/ipykernel_launcher.py:35: RuntimeWarning: invalid value encountered in double_scalars\n",
      "/Users/fivecentsly/anaconda3/lib/python3.7/site-packages/ipykernel_launcher.py:34: RuntimeWarning: divide by zero encountered in double_scalars\n",
      "/Users/fivecentsly/anaconda3/lib/python3.7/site-packages/ipykernel_launcher.py:35: RuntimeWarning: invalid value encountered in double_scalars\n",
      "/Users/fivecentsly/anaconda3/lib/python3.7/site-packages/ipykernel_launcher.py:34: RuntimeWarning: divide by zero encountered in double_scalars\n",
      "/Users/fivecentsly/anaconda3/lib/python3.7/site-packages/ipykernel_launcher.py:35: RuntimeWarning: invalid value encountered in double_scalars\n",
      "/Users/fivecentsly/anaconda3/lib/python3.7/site-packages/ipykernel_launcher.py:34: RuntimeWarning: divide by zero encountered in double_scalars\n",
      "/Users/fivecentsly/anaconda3/lib/python3.7/site-packages/ipykernel_launcher.py:35: RuntimeWarning: invalid value encountered in double_scalars\n"
     ]
    }
   ],
   "source": [
    "content_means = []\n",
    "rank_means = []\n",
    "for _ in range(100):\n",
    "    try:\n",
    "        content_mean, rank_mean = validation()\n",
    "        content_means.append(content_mean)\n",
    "        rank_means.append(rank_mean)\n",
    "    except AttributeError:\n",
    "        pass"
   ]
  },
  {
   "cell_type": "code",
   "execution_count": 63,
   "metadata": {
    "scrolled": false
   },
   "outputs": [
    {
     "data": {
      "text/plain": [
       "(100, 100)"
      ]
     },
     "execution_count": 63,
     "metadata": {},
     "output_type": "execute_result"
    }
   ],
   "source": [
    "len(content_means), len(rank_means)"
   ]
  },
  {
   "cell_type": "code",
   "execution_count": 64,
   "metadata": {},
   "outputs": [],
   "source": [
    "x = ['Content-base', 'Rank-based']\n",
    "y = [np.mean(content_means), np.mean(rank_means)]"
   ]
  },
  {
   "cell_type": "code",
   "execution_count": 68,
   "metadata": {},
   "outputs": [
    {
     "data": {
      "image/png": "[encoded data removed]",
      "text/plain": [
       "<Figure size 432x288 with 1 Axes>"
      ]
     },
     "metadata": {
      "needs_background": "light"
     },
     "output_type": "display_data"
    }
   ],
   "source": [
    "sns.barplot(x=x, y=y)\n",
    "plt.title('Mean Similarity Score Comparison among 100 Simulations\\n')\n",
    "plt.ylabel('Mean Similarity Score');"
   ]
  },
  {
   "cell_type": "code",
   "execution_count": 66,
   "metadata": {},
   "outputs": [
    {
     "data": {
      "text/plain": [
       "(0.82, 0.69)"
      ]
     },
     "execution_count": 66,
     "metadata": {},
     "output_type": "execute_result"
    }
   ],
   "source": [
    "np.round(np.mean(content_means), 2), np.round(np.mean(rank_means), 2)"
   ]
  },
  {
   "cell_type": "code",
   "execution_count": 70,
   "metadata": {},
   "outputs": [
    {
     "data": {
      "text/plain": [
       "Index(['beef_poultry', 'veggies', 'pork_fish', 'asian', 'baking',\n",
       "       'curry_based', 'cheese_based', 'pepper_based'],\n",
       "      dtype='object')"
      ]
     },
     "execution_count": 70,
     "metadata": {},
     "output_type": "execute_result"
    }
   ],
   "source": [
    "lda_matrix.columns"
   ]
  },
  {
   "cell_type": "code",
   "execution_count": 74,
   "metadata": {
    "scrolled": true
   },
   "outputs": [
    {
     "data": {
      "text/plain": [
       "['Maple Roast Turkey', 'Slow Cooker Split Pea Sausage Soup']"
      ]
     },
     "execution_count": 74,
     "metadata": {},
     "output_type": "execute_result"
    }
   ],
   "source": [
    "lda_matrix['beef_poultry'].sort_values(ascending=False).index.tolist()[:2]"
   ]
  },
  {
   "cell_type": "markdown",
   "metadata": {},
   "source": [
    "# Optimizaiton"
   ]
  },
  {
   "cell_type": "code",
   "execution_count": 18,
   "metadata": {},
   "outputs": [
    {
     "data": {
      "text/html": [
       "<div>\n",
       "<style scoped>\n",
       "    .dataframe tbody tr th:only-of-type {\n",
       "        vertical-align: middle;\n",
       "    }\n",
       "\n",
       "    .dataframe tbody tr th {\n",
       "        vertical-align: top;\n",
       "    }\n",
       "\n",
       "    .dataframe thead th {\n",
       "        text-align: right;\n",
       "    }\n",
       "</style>\n",
       "<table border=\"1\" class=\"dataframe\">\n",
       "  <thead>\n",
       "    <tr style=\"text-align: right;\">\n",
       "      <th></th>\n",
       "      <th>link</th>\n",
       "      <th>title</th>\n",
       "      <th>ratings</th>\n",
       "      <th>num_reviews</th>\n",
       "      <th>ingredients</th>\n",
       "      <th>servings</th>\n",
       "      <th>cook_time</th>\n",
       "      <th>calorie</th>\n",
       "      <th>fat_g</th>\n",
       "      <th>carb_g</th>\n",
       "      <th>protein_g</th>\n",
       "      <th>cholesterol_mg</th>\n",
       "      <th>sodium_mg</th>\n",
       "    </tr>\n",
       "  </thead>\n",
       "  <tbody>\n",
       "    <tr>\n",
       "      <th>0</th>\n",
       "      <td>https://www.allrecipes.com/recipe/100164/chip-...</td>\n",
       "      <td>Chip Truck Fries</td>\n",
       "      <td>4.44</td>\n",
       "      <td>44</td>\n",
       "      <td>['6 baking potatoes, cut into 1/4 inch slices'...</td>\n",
       "      <td>4.0</td>\n",
       "      <td>60</td>\n",
       "      <td>369.0</td>\n",
       "      <td>14.0</td>\n",
       "      <td>56.3</td>\n",
       "      <td>6.5</td>\n",
       "      <td>0.0</td>\n",
       "      <td>478.0</td>\n",
       "    </tr>\n",
       "  </tbody>\n",
       "</table>\n",
       "</div>"
      ],
      "text/plain": [
       "                                                link             title  \\\n",
       "0  https://www.allrecipes.com/recipe/100164/chip-...  Chip Truck Fries   \n",
       "\n",
       "   ratings  num_reviews                                        ingredients  \\\n",
       "0     4.44           44  ['6 baking potatoes, cut into 1/4 inch slices'...   \n",
       "\n",
       "   servings  cook_time  calorie  fat_g  carb_g  protein_g  cholesterol_mg  \\\n",
       "0       4.0         60    369.0   14.0    56.3        6.5             0.0   \n",
       "\n",
       "   sodium_mg  \n",
       "0      478.0  "
      ]
     },
     "execution_count": 18,
     "metadata": {},
     "output_type": "execute_result"
    }
   ],
   "source": [
    "df = pd.read_csv('recipe_clean.csv')\n",
    "df.head(1)"
   ]
  },
  {
   "cell_type": "code",
   "execution_count": 19,
   "metadata": {},
   "outputs": [
    {
     "data": {
      "text/plain": [
       "(5820, 13)"
      ]
     },
     "execution_count": 19,
     "metadata": {},
     "output_type": "execute_result"
    }
   ],
   "source": [
    "df.shape"
   ]
  },
  {
   "cell_type": "code",
   "execution_count": 20,
   "metadata": {
    "scrolled": true
   },
   "outputs": [
    {
     "data": {
      "text/html": [
       "<div>\n",
       "<style scoped>\n",
       "    .dataframe tbody tr th:only-of-type {\n",
       "        vertical-align: middle;\n",
       "    }\n",
       "\n",
       "    .dataframe tbody tr th {\n",
       "        vertical-align: top;\n",
       "    }\n",
       "\n",
       "    .dataframe thead th {\n",
       "        text-align: right;\n",
       "    }\n",
       "</style>\n",
       "<table border=\"1\" class=\"dataframe\">\n",
       "  <thead>\n",
       "    <tr style=\"text-align: right;\">\n",
       "      <th></th>\n",
       "      <th>link</th>\n",
       "      <th>title</th>\n",
       "      <th>ratings</th>\n",
       "      <th>num_reviews</th>\n",
       "      <th>ingredients</th>\n",
       "      <th>servings</th>\n",
       "      <th>cook_time</th>\n",
       "      <th>calorie</th>\n",
       "      <th>fat_g</th>\n",
       "      <th>carb_g</th>\n",
       "      <th>protein_g</th>\n",
       "      <th>cholesterol_mg</th>\n",
       "      <th>sodium_mg</th>\n",
       "      <th>fat_ratio</th>\n",
       "      <th>protein_ratio</th>\n",
       "      <th>carb_ratio</th>\n",
       "    </tr>\n",
       "  </thead>\n",
       "  <tbody>\n",
       "    <tr>\n",
       "      <th>0</th>\n",
       "      <td>https://www.allrecipes.com/recipe/100164/chip-...</td>\n",
       "      <td>Chip Truck Fries</td>\n",
       "      <td>4.44</td>\n",
       "      <td>44</td>\n",
       "      <td>['6 baking potatoes, cut into 1/4 inch slices'...</td>\n",
       "      <td>4.0</td>\n",
       "      <td>60</td>\n",
       "      <td>369.0</td>\n",
       "      <td>14.0</td>\n",
       "      <td>56.3</td>\n",
       "      <td>6.5</td>\n",
       "      <td>0.0</td>\n",
       "      <td>478.0</td>\n",
       "      <td>0.34</td>\n",
       "      <td>0.07</td>\n",
       "      <td>0.59</td>\n",
       "    </tr>\n",
       "  </tbody>\n",
       "</table>\n",
       "</div>"
      ],
      "text/plain": [
       "                                                link             title  \\\n",
       "0  https://www.allrecipes.com/recipe/100164/chip-...  Chip Truck Fries   \n",
       "\n",
       "   ratings  num_reviews                                        ingredients  \\\n",
       "0     4.44           44  ['6 baking potatoes, cut into 1/4 inch slices'...   \n",
       "\n",
       "   servings  cook_time  calorie  fat_g  carb_g  protein_g  cholesterol_mg  \\\n",
       "0       4.0         60    369.0   14.0    56.3        6.5             0.0   \n",
       "\n",
       "   sodium_mg  fat_ratio  protein_ratio  carb_ratio  \n",
       "0      478.0       0.34           0.07        0.59  "
      ]
     },
     "execution_count": 20,
     "metadata": {},
     "output_type": "execute_result"
    }
   ],
   "source": [
    "# add macronutrient ratios\n",
    "df['fat_ratio'] = np.round(df.fat_g * 9 / df.calorie, 2)\n",
    "df['protein_ratio'] = np.round(df.protein_g * 4 / df.calorie, 2)\n",
    "df['carb_ratio'] = 1 - df['fat_ratio'] - df['protein_ratio']\n",
    "df.head(1)"
   ]
  },
  {
   "cell_type": "code",
   "execution_count": 21,
   "metadata": {
    "scrolled": true
   },
   "outputs": [
    {
     "data": {
      "text/html": [
       "<div>\n",
       "<style scoped>\n",
       "    .dataframe tbody tr th:only-of-type {\n",
       "        vertical-align: middle;\n",
       "    }\n",
       "\n",
       "    .dataframe tbody tr th {\n",
       "        vertical-align: top;\n",
       "    }\n",
       "\n",
       "    .dataframe thead th {\n",
       "        text-align: right;\n",
       "    }\n",
       "</style>\n",
       "<table border=\"1\" class=\"dataframe\">\n",
       "  <thead>\n",
       "    <tr style=\"text-align: right;\">\n",
       "      <th></th>\n",
       "      <th>title</th>\n",
       "      <th>ratings</th>\n",
       "      <th>cook_time</th>\n",
       "      <th>servings</th>\n",
       "      <th>calorie</th>\n",
       "      <th>fat_g</th>\n",
       "      <th>protein_g</th>\n",
       "      <th>carb_g</th>\n",
       "      <th>fat_ratio</th>\n",
       "      <th>protein_ratio</th>\n",
       "      <th>carb_ratio</th>\n",
       "      <th>link</th>\n",
       "    </tr>\n",
       "  </thead>\n",
       "  <tbody>\n",
       "    <tr>\n",
       "      <th>0</th>\n",
       "      <td>Chip Truck Fries</td>\n",
       "      <td>4.44</td>\n",
       "      <td>60</td>\n",
       "      <td>4.0</td>\n",
       "      <td>369.0</td>\n",
       "      <td>14.0</td>\n",
       "      <td>6.5</td>\n",
       "      <td>56.3</td>\n",
       "      <td>0.34</td>\n",
       "      <td>0.07</td>\n",
       "      <td>0.59</td>\n",
       "      <td>https://www.allrecipes.com/recipe/100164/chip-...</td>\n",
       "    </tr>\n",
       "  </tbody>\n",
       "</table>\n",
       "</div>"
      ],
      "text/plain": [
       "              title  ratings  cook_time  servings  calorie  fat_g  protein_g  \\\n",
       "0  Chip Truck Fries     4.44         60       4.0    369.0   14.0        6.5   \n",
       "\n",
       "   carb_g  fat_ratio  protein_ratio  carb_ratio  \\\n",
       "0    56.3       0.34           0.07        0.59   \n",
       "\n",
       "                                                link  \n",
       "0  https://www.allrecipes.com/recipe/100164/chip-...  "
      ]
     },
     "execution_count": 21,
     "metadata": {},
     "output_type": "execute_result"
    }
   ],
   "source": [
    "# create a new df holding essential info \n",
    "df_nutrient = df[['title','ratings','cook_time','servings','calorie','fat_g','protein_g','carb_g',\n",
    "                  'fat_ratio','protein_ratio','carb_ratio','link']]\n",
    "df_nutrient.head(1)"
   ]
  },
  {
   "cell_type": "code",
   "execution_count": 23,
   "metadata": {},
   "outputs": [
    {
     "data": {
      "text/html": [
       "<div>\n",
       "<style scoped>\n",
       "    .dataframe tbody tr th:only-of-type {\n",
       "        vertical-align: middle;\n",
       "    }\n",
       "\n",
       "    .dataframe tbody tr th {\n",
       "        vertical-align: top;\n",
       "    }\n",
       "\n",
       "    .dataframe thead th {\n",
       "        text-align: right;\n",
       "    }\n",
       "</style>\n",
       "<table border=\"1\" class=\"dataframe\">\n",
       "  <thead>\n",
       "    <tr style=\"text-align: right;\">\n",
       "      <th></th>\n",
       "      <th>ratings</th>\n",
       "      <th>cook_time</th>\n",
       "      <th>servings</th>\n",
       "      <th>calorie</th>\n",
       "      <th>fat_g</th>\n",
       "      <th>protein_g</th>\n",
       "      <th>carb_g</th>\n",
       "      <th>fat_ratio</th>\n",
       "      <th>protein_ratio</th>\n",
       "      <th>carb_ratio</th>\n",
       "      <th>link</th>\n",
       "    </tr>\n",
       "    <tr>\n",
       "      <th>title</th>\n",
       "      <th></th>\n",
       "      <th></th>\n",
       "      <th></th>\n",
       "      <th></th>\n",
       "      <th></th>\n",
       "      <th></th>\n",
       "      <th></th>\n",
       "      <th></th>\n",
       "      <th></th>\n",
       "      <th></th>\n",
       "      <th></th>\n",
       "    </tr>\n",
       "  </thead>\n",
       "  <tbody>\n",
       "    <tr>\n",
       "      <th>Chip Truck Fries</th>\n",
       "      <td>4.44</td>\n",
       "      <td>60</td>\n",
       "      <td>4.0</td>\n",
       "      <td>369.0</td>\n",
       "      <td>14.0</td>\n",
       "      <td>6.5</td>\n",
       "      <td>56.3</td>\n",
       "      <td>0.34</td>\n",
       "      <td>0.07</td>\n",
       "      <td>0.59</td>\n",
       "      <td>https://www.allrecipes.com/recipe/100164/chip-...</td>\n",
       "    </tr>\n",
       "  </tbody>\n",
       "</table>\n",
       "</div>"
      ],
      "text/plain": [
       "                  ratings  cook_time  servings  calorie  fat_g  protein_g  \\\n",
       "title                                                                       \n",
       "Chip Truck Fries     4.44         60       4.0    369.0   14.0        6.5   \n",
       "\n",
       "                  carb_g  fat_ratio  protein_ratio  carb_ratio  \\\n",
       "title                                                            \n",
       "Chip Truck Fries    56.3       0.34           0.07        0.59   \n",
       "\n",
       "                                                               link  \n",
       "title                                                                \n",
       "Chip Truck Fries  https://www.allrecipes.com/recipe/100164/chip-...  "
      ]
     },
     "execution_count": 23,
     "metadata": {},
     "output_type": "execute_result"
    }
   ],
   "source": [
    "df_nutrient.set_index('title', inplace=True)\n",
    "df_nutrient.head(1)"
   ]
  },
  {
   "cell_type": "code",
   "execution_count": 24,
   "metadata": {},
   "outputs": [],
   "source": [
    "# save df_nutrient\n",
    "df_nutrient.to_csv('recipe_nutrient.csv')"
   ]
  },
  {
   "cell_type": "code",
   "execution_count": 25,
   "metadata": {},
   "outputs": [],
   "source": [
    "def print_rec(df, i):\n",
    "    recipe = df['recipe'][i]\n",
    "    serving = df['serving'][i]    \n",
    "    calorie = df['calorie'][i]\n",
    "    link = df['link'][i]\n",
    "    print(f'Day {i+1} : {recipe}')\n",
    "    print(f'Your serving: {serving}')\n",
    "    print(f'Calorie: {calorie}')\n",
    "    print(link)"
   ]
  },
  {
   "cell_type": "code",
   "execution_count": 26,
   "metadata": {},
   "outputs": [],
   "source": [
    "def plot_nutrient(df, i):\n",
    "    labels = ['Carbohydrate', 'Protein', 'Fat']\n",
    "    sizes = [df['carb ratio'][i], df['protein ratio'][i], df['fat ratio'][i]]\n",
    "    colors = ['lightcoral', 'lightskyblue', 'gold']\n",
    "\n",
    "    # plot\n",
    "    plt.pie(sizes, labels=labels, colors=colors, autopct='%1.1f%%', \n",
    "            startangle=90, counterclock=False)\n",
    "    plt.axis('square')\n",
    "    plt.show();"
   ]
  },
  {
   "cell_type": "code",
   "execution_count": 28,
   "metadata": {},
   "outputs": [],
   "source": [
    "# define a function to take in recommended recipe list and\n",
    "# filter for appropriate nutrition and cook time\n",
    "def optimizer(rec_recipes, protein_lower, protein_upper, calorie, df=df_nutrient, time='off'):\n",
    "    \"\"\"\n",
    "    Optimize recommended recipes based on nutrition values and cook time\n",
    "    \"\"\"\n",
    "    protein_lower = protein_lower # set protein min\n",
    "    protein_upper = protein_upper # set protein max \n",
    "    fat_limit = 0.35 # set fat_ratio limit\n",
    "    calorie_limit = calorie # set calorie limit \n",
    "\n",
    "    # create a new rec dict\n",
    "    new_rec = {'recipe': [], 'link': [], 'serving': [], 'calorie': [], 'protein': [], \n",
    "               'fat ratio': [], 'protein ratio': [], 'carb ratio': []}\n",
    "\n",
    "    while len(rec_recipes) > 0:\n",
    "        if len(new_rec['recipe']) == 5:\n",
    "            df = pd.DataFrame(new_rec, index=[['Day 1','Day 2','Day 3', 'Day 4', 'Day 5']])\n",
    "            print('Your 5-day dinner plan is ready.')\n",
    "            for i in range(5):\n",
    "                print_rec(df, i)\n",
    "                plot_nutrient(df, i)\n",
    "            return \n",
    "\n",
    "        recipe = np.random.choice(rec_recipes)\n",
    "        rec_recipes.remove(recipe)\n",
    "        \n",
    "        # check time\n",
    "        if time == 'on':\n",
    "            if df.loc[recipe].cook_time > 30 or df.loc[recipe].cook_time == 0:\n",
    "                continue\n",
    "            \n",
    "        # check fat\n",
    "        if df.loc[recipe].fat_ratio > fat_limit:\n",
    "            continue\n",
    "            \n",
    "        # check calorie\n",
    "        if df.loc[recipe].calorie > calorie_limit:\n",
    "            portion = np.round(calorie_limit/df.loc[recipe].calorie, 2) \n",
    "            protein = np.round(df.loc[recipe].protein_g * portion)\n",
    "            \n",
    "            # check protein\n",
    "            if protein < protein_lower or protein > protein_upper:\n",
    "                continue\n",
    "            calorie = np.round(df.loc[recipe].calorie * portion) \n",
    "            serving = np.round(portion/df.loc[recipe].servings, 1)\n",
    "            fat_ratio = df.loc[recipe].fat_ratio\n",
    "            protein_ratio = df.loc[recipe].protein_ratio            \n",
    "            carb_ratio = df.loc[recipe].carb_ratio            \n",
    "            link = df.loc[recipe].link            \n",
    "            new_rec['recipe'].append(recipe)\n",
    "            new_rec['link'].append(link)\n",
    "            new_rec['serving'].append(serving)\n",
    "            new_rec['calorie'].append(calorie)\n",
    "            new_rec['protein'].append(protein)\n",
    "            new_rec['fat ratio'].append(fat_ratio)\n",
    "            new_rec['protein ratio'].append(protein_ratio)\n",
    "            new_rec['carb ratio'].append(carb_ratio)\n",
    "            \n",
    "        else:\n",
    "            portion = np.round(calorie_limit/df.loc[recipe].calorie, 2) \n",
    "            protein = np.round(df.loc[recipe].protein_g * portion)\n",
    "            \n",
    "            # check protein\n",
    "            if protein < protein_lower or protein > protein_upper:\n",
    "                continue\n",
    "            calorie = np.round(df.loc[recipe].calorie * portion) \n",
    "            serving = np.round(portion/df.loc[recipe].servings, 1)\n",
    "            fat_ratio = df.loc[recipe].fat_ratio\n",
    "            protein_ratio = df.loc[recipe].protein_ratio            \n",
    "            carb_ratio = df.loc[recipe].carb_ratio            \n",
    "            link = df.loc[recipe].link\n",
    "            new_rec['recipe'].append(recipe)\n",
    "            new_rec['link'].append(link)\n",
    "            new_rec['serving'].append(serving)\n",
    "            new_rec['calorie'].append(calorie)\n",
    "            new_rec['protein'].append(protein)\n",
    "            new_rec['fat ratio'].append(fat_ratio)\n",
    "            new_rec['protein ratio'].append(protein_ratio)\n",
    "            new_rec['carb ratio'].append(carb_ratio)\n",
    "\n",
    "    print('Running out of recipes. Please start over and choose more preferred meals.')\n",
    "    return"
   ]
  },
  {
   "cell_type": "code",
   "execution_count": 29,
   "metadata": {
    "scrolled": false
   },
   "outputs": [
    {
     "name": "stdout",
     "output_type": "stream",
     "text": [
      "Your 5-day dinner plan is ready.\n",
      "Day 1 : Bean Soup\n",
      "Your serving: 0.3\n",
      "Calorie: 499.0\n",
      "https://www.allrecipes.com/recipe/13346/bean-soup/\n"
     ]
    },
    {
     "data": {
      "image/png": "[encoded data removed]",
      "text/plain": [
       "<Figure size 432x288 with 1 Axes>"
      ]
     },
     "metadata": {},
     "output_type": "display_data"
    },
    {
     "name": "stdout",
     "output_type": "stream",
     "text": [
      "Day 2 : Lentil And Smoked Sausage Soup\n",
      "Your serving: 0.4\n",
      "Calorie: 499.0\n",
      "https://www.allrecipes.com/recipe/47472/lentil-and-smoked-sausage-soup/\n"
     ]
    },
    {
     "data": {
      "image/png": "[encoded data removed]",
      "text/plain": [
       "<Figure size 432x288 with 1 Axes>"
      ]
     },
     "metadata": {},
     "output_type": "display_data"
    },
    {
     "name": "stdout",
     "output_type": "stream",
     "text": [
      "Day 3 : American Chop Suey Ii\n",
      "Your serving: 0.2\n",
      "Calorie: 498.0\n",
      "https://www.allrecipes.com/recipe/18882/american-chop-suey-ii/\n"
     ]
    },
    {
     "data": {
      "image/png": "[encoded data removed]",
      "text/plain": [
       "<Figure size 432x288 with 1 Axes>"
      ]
     },
     "metadata": {},
     "output_type": "display_data"
    },
    {
     "name": "stdout",
     "output_type": "stream",
     "text": [
      "Day 4 : Barbeque Tempeh Sandwiches\n",
      "Your serving: 0.3\n",
      "Calorie: 499.0\n",
      "https://www.allrecipes.com/recipe/46960/barbeque-tempeh-sandwiches/\n"
     ]
    },
    {
     "data": {
      "image/png": "[encoded data removed]",
      "text/plain": [
       "<Figure size 432x288 with 1 Axes>"
      ]
     },
     "metadata": {},
     "output_type": "display_data"
    },
    {
     "name": "stdout",
     "output_type": "stream",
     "text": [
      "Day 5 : Southern Ham And Brown Beans\n",
      "Your serving: 0.2\n",
      "Calorie: 500.0\n",
      "https://www.allrecipes.com/recipe/40203/southern-ham-and-brown-beans/\n"
     ]
    },
    {
     "data": {
      "image/png": "[encoded data removed]",
      "text/plain": [
       "<Figure size 432x288 with 1 Axes>"
      ]
     },
     "metadata": {},
     "output_type": "display_data"
    }
   ],
   "source": [
    "optimizer(rec_recipes, 16, 44, 500, df_nutrient)"
   ]
  },
  {
   "cell_type": "markdown",
   "metadata": {},
   "source": [
    "References: \n",
    "\n",
    "https://towardsdatascience.com/how-to-build-from-scratch-a-content-based-movie-recommender-with-natural-language-processing-25ad400eb243\n",
    "\n",
    "https://towardsdatascience.com/end-to-end-topic-modeling-in-python-latent-dirichlet-allocation-lda-35ce4ed6b3e0\n",
    "\n",
    "https://health.gov/dietaryguidelines/2015/resources/2015-2020_dietary_guidelines.pdf"
   ]
  }
 ],
 "metadata": {
  "kernelspec": {
   "display_name": "Python 3",
   "language": "python",
   "name": "python3"
  },
  "language_info": {
   "codemirror_mode": {
    "name": "ipython",
    "version": 3
   },
   "file_extension": ".py",
   "mimetype": "text/x-python",
   "name": "python",
   "nbconvert_exporter": "python",
   "pygments_lexer": "ipython3",
   "version": "3.7.3"
  }
 },
 "nbformat": 4,
 "nbformat_minor": 2
}
