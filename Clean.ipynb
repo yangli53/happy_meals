{
 "cells": [
  {
   "cell_type": "code",
   "execution_count": 1,
   "metadata": {},
   "outputs": [],
   "source": [
    "import pandas as pd\n",
    "import numpy as np"
   ]
  },
  {
   "cell_type": "markdown",
   "metadata": {},
   "source": [
    "# Clean"
   ]
  },
  {
   "cell_type": "code",
   "execution_count": 2,
   "metadata": {},
   "outputs": [
    {
     "data": {
      "text/html": [
       "<div>\n",
       "<style scoped>\n",
       "    .dataframe tbody tr th:only-of-type {\n",
       "        vertical-align: middle;\n",
       "    }\n",
       "\n",
       "    .dataframe tbody tr th {\n",
       "        vertical-align: top;\n",
       "    }\n",
       "\n",
       "    .dataframe thead th {\n",
       "        text-align: right;\n",
       "    }\n",
       "</style>\n",
       "<table border=\"1\" class=\"dataframe\">\n",
       "  <thead>\n",
       "    <tr style=\"text-align: right;\">\n",
       "      <th></th>\n",
       "      <th>link</th>\n",
       "      <th>title</th>\n",
       "      <th>ratings</th>\n",
       "      <th>num_reviews</th>\n",
       "      <th>ingredients</th>\n",
       "      <th>servings</th>\n",
       "      <th>cook_time</th>\n",
       "      <th>calorie</th>\n",
       "      <th>fat_g</th>\n",
       "      <th>carb_g</th>\n",
       "      <th>protein_g</th>\n",
       "      <th>cholesterol_mg</th>\n",
       "      <th>sodium_mg</th>\n",
       "    </tr>\n",
       "  </thead>\n",
       "  <tbody>\n",
       "    <tr>\n",
       "      <th>0</th>\n",
       "      <td>https://www.allrecipes.com/recipe/100164/chip-...</td>\n",
       "      <td>chip-truck-fries</td>\n",
       "      <td>4.4375</td>\n",
       "      <td>44 reviews</td>\n",
       "      <td>['6 baking potatoes, cut into 1/4 inch slices'...</td>\n",
       "      <td>4.0</td>\n",
       "      <td>1 h</td>\n",
       "      <td>369 calories;</td>\n",
       "      <td>14.0</td>\n",
       "      <td>56.3</td>\n",
       "      <td>6.5</td>\n",
       "      <td>0</td>\n",
       "      <td>478.0</td>\n",
       "    </tr>\n",
       "  </tbody>\n",
       "</table>\n",
       "</div>"
      ],
      "text/plain": [
       "                                                link             title  \\\n",
       "0  https://www.allrecipes.com/recipe/100164/chip-...  chip-truck-fries   \n",
       "\n",
       "   ratings num_reviews                                        ingredients  \\\n",
       "0   4.4375  44 reviews  ['6 baking potatoes, cut into 1/4 inch slices'...   \n",
       "\n",
       "   servings cook_time        calorie  fat_g  carb_g  protein_g cholesterol_mg  \\\n",
       "0       4.0       1 h  369 calories;   14.0    56.3        6.5              0   \n",
       "\n",
       "  sodium_mg  \n",
       "0     478.0  "
      ]
     },
     "execution_count": 2,
     "metadata": {},
     "output_type": "execute_result"
    }
   ],
   "source": [
    "df = pd.read_csv('recipe_data.csv')\n",
    "df.head(1)"
   ]
  },
  {
   "cell_type": "code",
   "execution_count": 3,
   "metadata": {},
   "outputs": [
    {
     "data": {
      "text/plain": [
       "(8331, 13)"
      ]
     },
     "execution_count": 3,
     "metadata": {},
     "output_type": "execute_result"
    }
   ],
   "source": [
    "# check num of recipes\n",
    "df.shape"
   ]
  },
  {
   "cell_type": "code",
   "execution_count": 7,
   "metadata": {},
   "outputs": [
    {
     "data": {
      "text/plain": [
       "link                 0\n",
       "title               16\n",
       "ratings           1484\n",
       "num_reviews       1486\n",
       "ingredients         18\n",
       "servings          1486\n",
       "cook_time         1753\n",
       "calorie           1512\n",
       "fat_g             1512\n",
       "carb_g            1512\n",
       "protein_g         1512\n",
       "cholesterol_mg    1512\n",
       "sodium_mg         1513\n",
       "dtype: int64"
      ]
     },
     "execution_count": 7,
     "metadata": {},
     "output_type": "execute_result"
    }
   ],
   "source": [
    "# check nan\n",
    "df.isnull().sum()"
   ]
  },
  {
   "cell_type": "code",
   "execution_count": 8,
   "metadata": {},
   "outputs": [],
   "source": [
    "# check rows with no ratings\n",
    "# df[df.ratings.isnull()]"
   ]
  },
  {
   "cell_type": "code",
   "execution_count": 9,
   "metadata": {},
   "outputs": [
    {
     "data": {
      "text/plain": [
       "(6847, 13)"
      ]
     },
     "execution_count": 9,
     "metadata": {},
     "output_type": "execute_result"
    }
   ],
   "source": [
    "# they also have other missing values so I will drop them\n",
    "to_drop = df[df.ratings.isnull()].index.tolist()\n",
    "df.drop(to_drop, inplace=True)\n",
    "\n",
    "# check num of recipes\n",
    "df.shape"
   ]
  },
  {
   "cell_type": "code",
   "execution_count": 11,
   "metadata": {},
   "outputs": [],
   "source": [
    "# check rows with no nutrition values\n",
    "# df[df.calorie.isnull()]"
   ]
  },
  {
   "cell_type": "code",
   "execution_count": 12,
   "metadata": {},
   "outputs": [
    {
     "data": {
      "text/plain": [
       "(6819, 13)"
      ]
     },
     "execution_count": 12,
     "metadata": {},
     "output_type": "execute_result"
    }
   ],
   "source": [
    "# I need nutrition values to optimize meal plans so I will drop them\n",
    "to_drop = df[df.calorie.isnull()].index.tolist()\n",
    "df.drop(to_drop, inplace=True)\n",
    "\n",
    "# check num of recipes\n",
    "df.shape"
   ]
  },
  {
   "cell_type": "code",
   "execution_count": 13,
   "metadata": {},
   "outputs": [
    {
     "data": {
      "text/plain": [
       "link                0\n",
       "title               0\n",
       "ratings             0\n",
       "num_reviews         0\n",
       "ingredients         1\n",
       "servings            0\n",
       "cook_time         267\n",
       "calorie             0\n",
       "fat_g               0\n",
       "carb_g              0\n",
       "protein_g           0\n",
       "cholesterol_mg      0\n",
       "sodium_mg           1\n",
       "dtype: int64"
      ]
     },
     "execution_count": 13,
     "metadata": {},
     "output_type": "execute_result"
    }
   ],
   "source": [
    "# check nan again\n",
    "df.isnull().sum()"
   ]
  },
  {
   "cell_type": "code",
   "execution_count": 15,
   "metadata": {},
   "outputs": [
    {
     "data": {
      "text/html": [
       "<div>\n",
       "<style scoped>\n",
       "    .dataframe tbody tr th:only-of-type {\n",
       "        vertical-align: middle;\n",
       "    }\n",
       "\n",
       "    .dataframe tbody tr th {\n",
       "        vertical-align: top;\n",
       "    }\n",
       "\n",
       "    .dataframe thead th {\n",
       "        text-align: right;\n",
       "    }\n",
       "</style>\n",
       "<table border=\"1\" class=\"dataframe\">\n",
       "  <thead>\n",
       "    <tr style=\"text-align: right;\">\n",
       "      <th></th>\n",
       "      <th>link</th>\n",
       "      <th>title</th>\n",
       "      <th>ratings</th>\n",
       "      <th>num_reviews</th>\n",
       "      <th>ingredients</th>\n",
       "      <th>servings</th>\n",
       "      <th>cook_time</th>\n",
       "      <th>calorie</th>\n",
       "      <th>fat_g</th>\n",
       "      <th>carb_g</th>\n",
       "      <th>protein_g</th>\n",
       "      <th>cholesterol_mg</th>\n",
       "      <th>sodium_mg</th>\n",
       "    </tr>\n",
       "  </thead>\n",
       "  <tbody>\n",
       "    <tr>\n",
       "      <th>1544</th>\n",
       "      <td>https://www.allrecipes.com/recipe/188706/cabba...</td>\n",
       "      <td>cabbage-and-noodles</td>\n",
       "      <td>4.505465</td>\n",
       "      <td>293 reviews</td>\n",
       "      <td>NaN</td>\n",
       "      <td>4.0</td>\n",
       "      <td>45 m</td>\n",
       "      <td>447 calories;</td>\n",
       "      <td>19.1</td>\n",
       "      <td>53.1</td>\n",
       "      <td>17.5</td>\n",
       "      <td>90.0</td>\n",
       "      <td>616.0</td>\n",
       "    </tr>\n",
       "  </tbody>\n",
       "</table>\n",
       "</div>"
      ],
      "text/plain": [
       "                                                   link                title  \\\n",
       "1544  https://www.allrecipes.com/recipe/188706/cabba...  cabbage-and-noodles   \n",
       "\n",
       "       ratings  num_reviews ingredients  servings cook_time        calorie  \\\n",
       "1544  4.505465  293 reviews         NaN       4.0      45 m  447 calories;   \n",
       "\n",
       "      fat_g  carb_g  protein_g cholesterol_mg sodium_mg  \n",
       "1544   19.1    53.1       17.5           90.0     616.0  "
      ]
     },
     "execution_count": 15,
     "metadata": {},
     "output_type": "execute_result"
    }
   ],
   "source": [
    "# I need ingredients to group recipes so I will drop it\n",
    "df[df.ingredients.isnull()]"
   ]
  },
  {
   "cell_type": "code",
   "execution_count": 16,
   "metadata": {},
   "outputs": [],
   "source": [
    "df.drop(1544, inplace=True)"
   ]
  },
  {
   "cell_type": "code",
   "execution_count": 17,
   "metadata": {},
   "outputs": [
    {
     "data": {
      "text/plain": [
       "link                0\n",
       "title               0\n",
       "ratings             0\n",
       "num_reviews         0\n",
       "ingredients         0\n",
       "servings            0\n",
       "cook_time         267\n",
       "calorie             0\n",
       "fat_g               0\n",
       "carb_g              0\n",
       "protein_g           0\n",
       "cholesterol_mg      0\n",
       "sodium_mg           1\n",
       "dtype: int64"
      ]
     },
     "execution_count": 17,
     "metadata": {},
     "output_type": "execute_result"
    }
   ],
   "source": [
    "# check nan again\n",
    "df.isnull().sum()"
   ]
  },
  {
   "cell_type": "code",
   "execution_count": 18,
   "metadata": {
    "scrolled": true
   },
   "outputs": [
    {
     "data": {
      "text/plain": [
       "link               object\n",
       "title              object\n",
       "ratings           float64\n",
       "num_reviews        object\n",
       "ingredients        object\n",
       "servings          float64\n",
       "cook_time          object\n",
       "calorie            object\n",
       "fat_g             float64\n",
       "carb_g            float64\n",
       "protein_g         float64\n",
       "cholesterol_mg     object\n",
       "sodium_mg          object\n",
       "dtype: object"
      ]
     },
     "execution_count": 18,
     "metadata": {},
     "output_type": "execute_result"
    }
   ],
   "source": [
    "# check data types\n",
    "df.dtypes"
   ]
  },
  {
   "cell_type": "markdown",
   "metadata": {},
   "source": [
    "#### The data types of num_reviews, cook_time, calorie, cholesterol_mg and sodium_mg need to be changed to int or float. Then I will fill the missing values."
   ]
  },
  {
   "cell_type": "markdown",
   "metadata": {},
   "source": [
    "### Clean num_reviews"
   ]
  },
  {
   "cell_type": "code",
   "execution_count": 19,
   "metadata": {},
   "outputs": [
    {
     "data": {
      "text/html": [
       "<div>\n",
       "<style scoped>\n",
       "    .dataframe tbody tr th:only-of-type {\n",
       "        vertical-align: middle;\n",
       "    }\n",
       "\n",
       "    .dataframe tbody tr th {\n",
       "        vertical-align: top;\n",
       "    }\n",
       "\n",
       "    .dataframe thead th {\n",
       "        text-align: right;\n",
       "    }\n",
       "</style>\n",
       "<table border=\"1\" class=\"dataframe\">\n",
       "  <thead>\n",
       "    <tr style=\"text-align: right;\">\n",
       "      <th></th>\n",
       "      <th>link</th>\n",
       "      <th>title</th>\n",
       "      <th>ratings</th>\n",
       "      <th>num_reviews</th>\n",
       "      <th>ingredients</th>\n",
       "      <th>servings</th>\n",
       "      <th>cook_time</th>\n",
       "      <th>calorie</th>\n",
       "      <th>fat_g</th>\n",
       "      <th>carb_g</th>\n",
       "      <th>protein_g</th>\n",
       "      <th>cholesterol_mg</th>\n",
       "      <th>sodium_mg</th>\n",
       "    </tr>\n",
       "  </thead>\n",
       "  <tbody>\n",
       "    <tr>\n",
       "      <th>0</th>\n",
       "      <td>https://www.allrecipes.com/recipe/100164/chip-...</td>\n",
       "      <td>chip-truck-fries</td>\n",
       "      <td>4.4375</td>\n",
       "      <td>44 reviews</td>\n",
       "      <td>['6 baking potatoes, cut into 1/4 inch slices'...</td>\n",
       "      <td>4.0</td>\n",
       "      <td>1 h</td>\n",
       "      <td>369 calories;</td>\n",
       "      <td>14.0</td>\n",
       "      <td>56.3</td>\n",
       "      <td>6.5</td>\n",
       "      <td>0</td>\n",
       "      <td>478.0</td>\n",
       "    </tr>\n",
       "  </tbody>\n",
       "</table>\n",
       "</div>"
      ],
      "text/plain": [
       "                                                link             title  \\\n",
       "0  https://www.allrecipes.com/recipe/100164/chip-...  chip-truck-fries   \n",
       "\n",
       "   ratings num_reviews                                        ingredients  \\\n",
       "0   4.4375  44 reviews  ['6 baking potatoes, cut into 1/4 inch slices'...   \n",
       "\n",
       "   servings cook_time        calorie  fat_g  carb_g  protein_g cholesterol_mg  \\\n",
       "0       4.0       1 h  369 calories;   14.0    56.3        6.5              0   \n",
       "\n",
       "  sodium_mg  \n",
       "0     478.0  "
      ]
     },
     "execution_count": 19,
     "metadata": {},
     "output_type": "execute_result"
    }
   ],
   "source": [
    "df.head(1)"
   ]
  },
  {
   "cell_type": "code",
   "execution_count": 20,
   "metadata": {},
   "outputs": [],
   "source": [
    "# for num_reviews, remove \" reviews\"\n",
    "df.num_reviews = df.num_reviews.apply(lambda x: x[:-8])"
   ]
  },
  {
   "cell_type": "code",
   "execution_count": 21,
   "metadata": {},
   "outputs": [
    {
     "name": "stderr",
     "output_type": "stream",
     "text": [
      "/Users/fivecentsly/anaconda3/lib/python3.7/site-packages/pandas/core/generic.py:5096: SettingWithCopyWarning: \n",
      "A value is trying to be set on a copy of a slice from a DataFrame.\n",
      "Try using .loc[row_indexer,col_indexer] = value instead\n",
      "\n",
      "See the caveats in the documentation: http://pandas.pydata.org/pandas-docs/stable/indexing.html#indexing-view-versus-copy\n",
      "  self[name] = value\n"
     ]
    },
    {
     "name": "stdout",
     "output_type": "stream",
     "text": [
      "int64\n"
     ]
    },
    {
     "data": {
      "text/html": [
       "<div>\n",
       "<style scoped>\n",
       "    .dataframe tbody tr th:only-of-type {\n",
       "        vertical-align: middle;\n",
       "    }\n",
       "\n",
       "    .dataframe tbody tr th {\n",
       "        vertical-align: top;\n",
       "    }\n",
       "\n",
       "    .dataframe thead th {\n",
       "        text-align: right;\n",
       "    }\n",
       "</style>\n",
       "<table border=\"1\" class=\"dataframe\">\n",
       "  <thead>\n",
       "    <tr style=\"text-align: right;\">\n",
       "      <th></th>\n",
       "      <th>link</th>\n",
       "      <th>title</th>\n",
       "      <th>ratings</th>\n",
       "      <th>num_reviews</th>\n",
       "      <th>ingredients</th>\n",
       "      <th>servings</th>\n",
       "      <th>cook_time</th>\n",
       "      <th>calorie</th>\n",
       "      <th>fat_g</th>\n",
       "      <th>carb_g</th>\n",
       "      <th>protein_g</th>\n",
       "      <th>cholesterol_mg</th>\n",
       "      <th>sodium_mg</th>\n",
       "    </tr>\n",
       "  </thead>\n",
       "  <tbody>\n",
       "    <tr>\n",
       "      <th>9</th>\n",
       "      <td>https://www.allrecipes.com/recipe/104850/black...</td>\n",
       "      <td>black-bean-and-corn-quesadillas</td>\n",
       "      <td>4.624080</td>\n",
       "      <td>1000</td>\n",
       "      <td>['2 teaspoons olive oil', '3 tablespoons finel...</td>\n",
       "      <td>8.0</td>\n",
       "      <td>40 m</td>\n",
       "      <td>363 calories;</td>\n",
       "      <td>14.5</td>\n",
       "      <td>45.6</td>\n",
       "      <td>13.9</td>\n",
       "      <td>26</td>\n",
       "      <td>732.0</td>\n",
       "    </tr>\n",
       "    <tr>\n",
       "      <th>81</th>\n",
       "      <td>https://www.allrecipes.com/recipe/142027/sweet...</td>\n",
       "      <td>sweet-restaurant-slaw</td>\n",
       "      <td>4.764481</td>\n",
       "      <td>2000</td>\n",
       "      <td>['1 (16 ounce) bag coleslaw mix', '2 tablespoo...</td>\n",
       "      <td>8.0</td>\n",
       "      <td>2 h 15 m</td>\n",
       "      <td>200 calories;</td>\n",
       "      <td>12.0</td>\n",
       "      <td>22.5</td>\n",
       "      <td>0.8</td>\n",
       "      <td>11</td>\n",
       "      <td>253</td>\n",
       "    </tr>\n",
       "    <tr>\n",
       "      <th>101</th>\n",
       "      <td>https://www.allrecipes.com/recipe/143069/super...</td>\n",
       "      <td>super-delicious-zuppa-toscana</td>\n",
       "      <td>4.821117</td>\n",
       "      <td>2000</td>\n",
       "      <td>['1 pound bulk mild Italian sausage', '1 1/4 t...</td>\n",
       "      <td>6.0</td>\n",
       "      <td>1 h 25 m</td>\n",
       "      <td>554 calories;</td>\n",
       "      <td>32.6</td>\n",
       "      <td>45.8</td>\n",
       "      <td>19.8</td>\n",
       "      <td>99</td>\n",
       "      <td>2386</td>\n",
       "    </tr>\n",
       "    <tr>\n",
       "      <th>245</th>\n",
       "      <td>https://www.allrecipes.com/recipe/16715/vegeta...</td>\n",
       "      <td>vegetarian-chickpea-sandwich-filling</td>\n",
       "      <td>4.429831</td>\n",
       "      <td>1000</td>\n",
       "      <td>['1 (19 ounce) can garbanzo beans, drained and...</td>\n",
       "      <td>3.0</td>\n",
       "      <td>20 m</td>\n",
       "      <td>259 calories;</td>\n",
       "      <td>5.8</td>\n",
       "      <td>43.5</td>\n",
       "      <td>9.3</td>\n",
       "      <td>2</td>\n",
       "      <td>576</td>\n",
       "    </tr>\n",
       "    <tr>\n",
       "      <th>1060</th>\n",
       "      <td>https://www.allrecipes.com/recipe/24833/black-...</td>\n",
       "      <td>black-bean-and-couscous-salad</td>\n",
       "      <td>4.679422</td>\n",
       "      <td>1000</td>\n",
       "      <td>['1 cup uncooked couscous', '1 1/4 cups chicke...</td>\n",
       "      <td>8.0</td>\n",
       "      <td>35 m</td>\n",
       "      <td>253 calories;</td>\n",
       "      <td>5.8</td>\n",
       "      <td>41.1</td>\n",
       "      <td>10.3</td>\n",
       "      <td>0</td>\n",
       "      <td>415</td>\n",
       "    </tr>\n",
       "  </tbody>\n",
       "</table>\n",
       "</div>"
      ],
      "text/plain": [
       "                                                   link  \\\n",
       "9     https://www.allrecipes.com/recipe/104850/black...   \n",
       "81    https://www.allrecipes.com/recipe/142027/sweet...   \n",
       "101   https://www.allrecipes.com/recipe/143069/super...   \n",
       "245   https://www.allrecipes.com/recipe/16715/vegeta...   \n",
       "1060  https://www.allrecipes.com/recipe/24833/black-...   \n",
       "\n",
       "                                     title   ratings  num_reviews  \\\n",
       "9          black-bean-and-corn-quesadillas  4.624080         1000   \n",
       "81                   sweet-restaurant-slaw  4.764481         2000   \n",
       "101          super-delicious-zuppa-toscana  4.821117         2000   \n",
       "245   vegetarian-chickpea-sandwich-filling  4.429831         1000   \n",
       "1060         black-bean-and-couscous-salad  4.679422         1000   \n",
       "\n",
       "                                            ingredients  servings cook_time  \\\n",
       "9     ['2 teaspoons olive oil', '3 tablespoons finel...       8.0      40 m   \n",
       "81    ['1 (16 ounce) bag coleslaw mix', '2 tablespoo...       8.0  2 h 15 m   \n",
       "101   ['1 pound bulk mild Italian sausage', '1 1/4 t...       6.0  1 h 25 m   \n",
       "245   ['1 (19 ounce) can garbanzo beans, drained and...       3.0      20 m   \n",
       "1060  ['1 cup uncooked couscous', '1 1/4 cups chicke...       8.0      35 m   \n",
       "\n",
       "            calorie  fat_g  carb_g  protein_g cholesterol_mg sodium_mg  \n",
       "9     363 calories;   14.5    45.6       13.9             26     732.0  \n",
       "81    200 calories;   12.0    22.5        0.8             11       253  \n",
       "101   554 calories;   32.6    45.8       19.8             99      2386  \n",
       "245   259 calories;    5.8    43.5        9.3              2       576  \n",
       "1060  253 calories;    5.8    41.1       10.3              0       415  "
      ]
     },
     "execution_count": 21,
     "metadata": {},
     "output_type": "execute_result"
    }
   ],
   "source": [
    "# some num_reviews contain \"k\", I will replace them with \"000\"\n",
    "df_replace_k = df[df.num_reviews.str.contains('k')]\n",
    "df_replace_k.num_reviews = df_replace_k.num_reviews.apply(lambda x: x[:-1] + '000')\n",
    "\n",
    "# update rows in the original df\n",
    "replace_idx = df_replace_k.index.tolist()\n",
    "for idx in replace_idx: \n",
    "    df.loc[idx] = df_replace_k.loc[idx]\n",
    "    \n",
    "# change data type to int\n",
    "df.num_reviews = df.num_reviews.astype('int')\n",
    "\n",
    "# check results\n",
    "print(df.num_reviews.dtypes)\n",
    "df.loc[replace_idx[:5]]"
   ]
  },
  {
   "cell_type": "markdown",
   "metadata": {},
   "source": [
    "### Clean cook_time"
   ]
  },
  {
   "cell_type": "code",
   "execution_count": 22,
   "metadata": {},
   "outputs": [],
   "source": [
    "# for cook_time, subset the rows with no missing values\n",
    "df_cooktime = df[df.cook_time.notnull()]"
   ]
  },
  {
   "cell_type": "code",
   "execution_count": 23,
   "metadata": {},
   "outputs": [],
   "source": [
    "# define a function to convert cook_time to min\n",
    "def convert_cooktime(x):\n",
    "    cooktime = x.split()\n",
    "    if 'h' in cooktime and 'm' in cooktime:\n",
    "        x = int(cooktime[0]) * 60 + int(cooktime[2])\n",
    "    elif 'h' in cooktime and 'm' not in cooktime:\n",
    "        x = int(cooktime[0]) * 60\n",
    "    else:\n",
    "        x = int(cooktime[0])   \n",
    "    return x"
   ]
  },
  {
   "cell_type": "code",
   "execution_count": 24,
   "metadata": {
    "scrolled": true
   },
   "outputs": [
    {
     "name": "stdout",
     "output_type": "stream",
     "text": [
      "object\n"
     ]
    },
    {
     "data": {
      "text/html": [
       "<div>\n",
       "<style scoped>\n",
       "    .dataframe tbody tr th:only-of-type {\n",
       "        vertical-align: middle;\n",
       "    }\n",
       "\n",
       "    .dataframe tbody tr th {\n",
       "        vertical-align: top;\n",
       "    }\n",
       "\n",
       "    .dataframe thead th {\n",
       "        text-align: right;\n",
       "    }\n",
       "</style>\n",
       "<table border=\"1\" class=\"dataframe\">\n",
       "  <thead>\n",
       "    <tr style=\"text-align: right;\">\n",
       "      <th></th>\n",
       "      <th>link</th>\n",
       "      <th>title</th>\n",
       "      <th>ratings</th>\n",
       "      <th>num_reviews</th>\n",
       "      <th>ingredients</th>\n",
       "      <th>servings</th>\n",
       "      <th>cook_time</th>\n",
       "      <th>calorie</th>\n",
       "      <th>fat_g</th>\n",
       "      <th>carb_g</th>\n",
       "      <th>protein_g</th>\n",
       "      <th>cholesterol_mg</th>\n",
       "      <th>sodium_mg</th>\n",
       "    </tr>\n",
       "  </thead>\n",
       "  <tbody>\n",
       "    <tr>\n",
       "      <th>0</th>\n",
       "      <td>https://www.allrecipes.com/recipe/100164/chip-...</td>\n",
       "      <td>chip-truck-fries</td>\n",
       "      <td>4.437500</td>\n",
       "      <td>44</td>\n",
       "      <td>['6 baking potatoes, cut into 1/4 inch slices'...</td>\n",
       "      <td>4.0</td>\n",
       "      <td>60</td>\n",
       "      <td>369 calories;</td>\n",
       "      <td>14.0</td>\n",
       "      <td>56.3</td>\n",
       "      <td>6.5</td>\n",
       "      <td>0</td>\n",
       "      <td>478.0</td>\n",
       "    </tr>\n",
       "    <tr>\n",
       "      <th>1</th>\n",
       "      <td>https://www.allrecipes.com/recipe/100378/irish...</td>\n",
       "      <td>irish-bacon-and-cabbage-soup</td>\n",
       "      <td>4.536946</td>\n",
       "      <td>163</td>\n",
       "      <td>['1/2 pound Irish bacon, diced', '2 large pota...</td>\n",
       "      <td>4.0</td>\n",
       "      <td>45</td>\n",
       "      <td>276 calories;</td>\n",
       "      <td>8.1</td>\n",
       "      <td>38.4</td>\n",
       "      <td>12.3</td>\n",
       "      <td>21</td>\n",
       "      <td>825.0</td>\n",
       "    </tr>\n",
       "    <tr>\n",
       "      <th>2</th>\n",
       "      <td>https://www.allrecipes.com/recipe/100402/quick...</td>\n",
       "      <td>quick-salmon-salad</td>\n",
       "      <td>4.491803</td>\n",
       "      <td>52</td>\n",
       "      <td>['2 (6 ounce) cans pink salmon, drained', '1/2...</td>\n",
       "      <td>4.0</td>\n",
       "      <td>15</td>\n",
       "      <td>248 calories;</td>\n",
       "      <td>17.2</td>\n",
       "      <td>2.2</td>\n",
       "      <td>20.4</td>\n",
       "      <td>43</td>\n",
       "      <td>571.0</td>\n",
       "    </tr>\n",
       "    <tr>\n",
       "      <th>6</th>\n",
       "      <td>https://www.allrecipes.com/recipe/102242/bills...</td>\n",
       "      <td>bills-seasoned-ketchup</td>\n",
       "      <td>4.652174</td>\n",
       "      <td>22</td>\n",
       "      <td>['1 (28 ounce) bottle ketchup', '2 teaspoons h...</td>\n",
       "      <td>45.0</td>\n",
       "      <td>10</td>\n",
       "      <td>19 calories;</td>\n",
       "      <td>0.1</td>\n",
       "      <td>4.7</td>\n",
       "      <td>0.4</td>\n",
       "      <td>0</td>\n",
       "      <td>201.0</td>\n",
       "    </tr>\n",
       "    <tr>\n",
       "      <th>7</th>\n",
       "      <td>https://www.allrecipes.com/recipe/103737/celer...</td>\n",
       "      <td>celery-salad</td>\n",
       "      <td>4.592233</td>\n",
       "      <td>83</td>\n",
       "      <td>['3/4 cup sliced celery', '1/3 cup dried sweet...</td>\n",
       "      <td>2.0</td>\n",
       "      <td>40</td>\n",
       "      <td>150 calories;</td>\n",
       "      <td>3.0</td>\n",
       "      <td>26.5</td>\n",
       "      <td>4.1</td>\n",
       "      <td>&lt; 1</td>\n",
       "      <td>304.0</td>\n",
       "    </tr>\n",
       "  </tbody>\n",
       "</table>\n",
       "</div>"
      ],
      "text/plain": [
       "                                                link  \\\n",
       "0  https://www.allrecipes.com/recipe/100164/chip-...   \n",
       "1  https://www.allrecipes.com/recipe/100378/irish...   \n",
       "2  https://www.allrecipes.com/recipe/100402/quick...   \n",
       "6  https://www.allrecipes.com/recipe/102242/bills...   \n",
       "7  https://www.allrecipes.com/recipe/103737/celer...   \n",
       "\n",
       "                          title   ratings  num_reviews  \\\n",
       "0              chip-truck-fries  4.437500           44   \n",
       "1  irish-bacon-and-cabbage-soup  4.536946          163   \n",
       "2            quick-salmon-salad  4.491803           52   \n",
       "6        bills-seasoned-ketchup  4.652174           22   \n",
       "7                  celery-salad  4.592233           83   \n",
       "\n",
       "                                         ingredients  servings cook_time  \\\n",
       "0  ['6 baking potatoes, cut into 1/4 inch slices'...       4.0        60   \n",
       "1  ['1/2 pound Irish bacon, diced', '2 large pota...       4.0        45   \n",
       "2  ['2 (6 ounce) cans pink salmon, drained', '1/2...       4.0        15   \n",
       "6  ['1 (28 ounce) bottle ketchup', '2 teaspoons h...      45.0        10   \n",
       "7  ['3/4 cup sliced celery', '1/3 cup dried sweet...       2.0        40   \n",
       "\n",
       "         calorie  fat_g  carb_g  protein_g cholesterol_mg sodium_mg  \n",
       "0  369 calories;   14.0    56.3        6.5              0     478.0  \n",
       "1  276 calories;    8.1    38.4       12.3             21     825.0  \n",
       "2  248 calories;   17.2     2.2       20.4             43     571.0  \n",
       "6   19 calories;    0.1     4.7        0.4              0     201.0  \n",
       "7  150 calories;    3.0    26.5        4.1            < 1     304.0  "
      ]
     },
     "execution_count": 24,
     "metadata": {},
     "output_type": "execute_result"
    }
   ],
   "source": [
    "# apply function to cook_time\n",
    "df_cooktime.cook_time = df_cooktime.cook_time.apply(convert_cooktime)\n",
    "\n",
    "# update rows in the original df\n",
    "replace_idx = df_cooktime.index.tolist()\n",
    "for idx in replace_idx: \n",
    "    df.loc[idx] = df_cooktime.loc[idx]\n",
    "\n",
    "# check results\n",
    "print(df.cook_time.dtypes) # data type is object because there are missing values\n",
    "df.loc[replace_idx[:5]]"
   ]
  },
  {
   "cell_type": "code",
   "execution_count": 25,
   "metadata": {},
   "outputs": [
    {
     "data": {
      "text/plain": [
       "dtype('int64')"
      ]
     },
     "execution_count": 25,
     "metadata": {},
     "output_type": "execute_result"
    }
   ],
   "source": [
    "# replace missing values of with 0 to indicate \"unknown\"\n",
    "df.cook_time.fillna(0, inplace=True)\n",
    "df.cook_time.dtypes"
   ]
  },
  {
   "cell_type": "markdown",
   "metadata": {},
   "source": [
    "### Clean calorie"
   ]
  },
  {
   "cell_type": "code",
   "execution_count": 26,
   "metadata": {},
   "outputs": [
    {
     "name": "stdout",
     "output_type": "stream",
     "text": [
      "float64\n"
     ]
    },
    {
     "data": {
      "text/html": [
       "<div>\n",
       "<style scoped>\n",
       "    .dataframe tbody tr th:only-of-type {\n",
       "        vertical-align: middle;\n",
       "    }\n",
       "\n",
       "    .dataframe tbody tr th {\n",
       "        vertical-align: top;\n",
       "    }\n",
       "\n",
       "    .dataframe thead th {\n",
       "        text-align: right;\n",
       "    }\n",
       "</style>\n",
       "<table border=\"1\" class=\"dataframe\">\n",
       "  <thead>\n",
       "    <tr style=\"text-align: right;\">\n",
       "      <th></th>\n",
       "      <th>link</th>\n",
       "      <th>title</th>\n",
       "      <th>ratings</th>\n",
       "      <th>num_reviews</th>\n",
       "      <th>ingredients</th>\n",
       "      <th>servings</th>\n",
       "      <th>cook_time</th>\n",
       "      <th>calorie</th>\n",
       "      <th>fat_g</th>\n",
       "      <th>carb_g</th>\n",
       "      <th>protein_g</th>\n",
       "      <th>cholesterol_mg</th>\n",
       "      <th>sodium_mg</th>\n",
       "    </tr>\n",
       "  </thead>\n",
       "  <tbody>\n",
       "    <tr>\n",
       "      <th>0</th>\n",
       "      <td>https://www.allrecipes.com/recipe/100164/chip-...</td>\n",
       "      <td>chip-truck-fries</td>\n",
       "      <td>4.4375</td>\n",
       "      <td>44</td>\n",
       "      <td>['6 baking potatoes, cut into 1/4 inch slices'...</td>\n",
       "      <td>4.0</td>\n",
       "      <td>60</td>\n",
       "      <td>369.0</td>\n",
       "      <td>14.0</td>\n",
       "      <td>56.3</td>\n",
       "      <td>6.5</td>\n",
       "      <td>0</td>\n",
       "      <td>478.0</td>\n",
       "    </tr>\n",
       "  </tbody>\n",
       "</table>\n",
       "</div>"
      ],
      "text/plain": [
       "                                                link             title  \\\n",
       "0  https://www.allrecipes.com/recipe/100164/chip-...  chip-truck-fries   \n",
       "\n",
       "   ratings  num_reviews                                        ingredients  \\\n",
       "0   4.4375           44  ['6 baking potatoes, cut into 1/4 inch slices'...   \n",
       "\n",
       "   servings  cook_time  calorie  fat_g  carb_g  protein_g cholesterol_mg  \\\n",
       "0       4.0         60    369.0   14.0    56.3        6.5              0   \n",
       "\n",
       "  sodium_mg  \n",
       "0     478.0  "
      ]
     },
     "execution_count": 26,
     "metadata": {},
     "output_type": "execute_result"
    }
   ],
   "source": [
    "# for calorie, keep the number and change data type to float\n",
    "df.calorie = df.calorie.apply(lambda x: float(x.split(' ')[0]))\n",
    "\n",
    "# check results \n",
    "print(df.calorie.dtypes)\n",
    "df.head(1)"
   ]
  },
  {
   "cell_type": "markdown",
   "metadata": {},
   "source": [
    "### Clean cholesterol_mg and sodium_mg"
   ]
  },
  {
   "cell_type": "code",
   "execution_count": 29,
   "metadata": {},
   "outputs": [
    {
     "name": "stdout",
     "output_type": "stream",
     "text": [
      "float64\n",
      "float64\n"
     ]
    }
   ],
   "source": [
    "# some values of cholesterol_mg and sodium_mg are shown as \"< 1\", I will replace them with \"0\"\n",
    "df.cholesterol_mg = df.cholesterol_mg.replace('< 1', 0)\n",
    "df.sodium_mg = df.sodium_mg.replace('< 1', 0)\n",
    "\n",
    "# change their data types to float\n",
    "df.cholesterol_mg = df.cholesterol_mg.astype(float)\n",
    "df.sodium_mg = df.sodium_mg.astype(float)\n",
    "\n",
    "# check results \n",
    "print(df.cholesterol_mg.dtypes)\n",
    "print(df.sodium_mg.dtypes)"
   ]
  },
  {
   "cell_type": "code",
   "execution_count": 30,
   "metadata": {},
   "outputs": [],
   "source": [
    "# fill missing value with mean\n",
    "df.sodium_mg = df.sodium_mg.fillna(np.round(df.sodium_mg.mean()))"
   ]
  },
  {
   "cell_type": "code",
   "execution_count": 31,
   "metadata": {},
   "outputs": [
    {
     "data": {
      "text/plain": [
       "dtype('float64')"
      ]
     },
     "execution_count": 31,
     "metadata": {},
     "output_type": "execute_result"
    }
   ],
   "source": [
    "df.sodium_mg.dtypes"
   ]
  },
  {
   "cell_type": "markdown",
   "metadata": {},
   "source": [
    "### Clean ratings"
   ]
  },
  {
   "cell_type": "code",
   "execution_count": 32,
   "metadata": {},
   "outputs": [
    {
     "data": {
      "text/html": [
       "<div>\n",
       "<style scoped>\n",
       "    .dataframe tbody tr th:only-of-type {\n",
       "        vertical-align: middle;\n",
       "    }\n",
       "\n",
       "    .dataframe tbody tr th {\n",
       "        vertical-align: top;\n",
       "    }\n",
       "\n",
       "    .dataframe thead th {\n",
       "        text-align: right;\n",
       "    }\n",
       "</style>\n",
       "<table border=\"1\" class=\"dataframe\">\n",
       "  <thead>\n",
       "    <tr style=\"text-align: right;\">\n",
       "      <th></th>\n",
       "      <th>link</th>\n",
       "      <th>title</th>\n",
       "      <th>ratings</th>\n",
       "      <th>num_reviews</th>\n",
       "      <th>ingredients</th>\n",
       "      <th>servings</th>\n",
       "      <th>cook_time</th>\n",
       "      <th>calorie</th>\n",
       "      <th>fat_g</th>\n",
       "      <th>carb_g</th>\n",
       "      <th>protein_g</th>\n",
       "      <th>cholesterol_mg</th>\n",
       "      <th>sodium_mg</th>\n",
       "    </tr>\n",
       "  </thead>\n",
       "  <tbody>\n",
       "    <tr>\n",
       "      <th>0</th>\n",
       "      <td>https://www.allrecipes.com/recipe/100164/chip-...</td>\n",
       "      <td>chip-truck-fries</td>\n",
       "      <td>4.44</td>\n",
       "      <td>44</td>\n",
       "      <td>['6 baking potatoes, cut into 1/4 inch slices'...</td>\n",
       "      <td>4.0</td>\n",
       "      <td>60</td>\n",
       "      <td>369.0</td>\n",
       "      <td>14.0</td>\n",
       "      <td>56.3</td>\n",
       "      <td>6.5</td>\n",
       "      <td>0.0</td>\n",
       "      <td>478.0</td>\n",
       "    </tr>\n",
       "    <tr>\n",
       "      <th>1</th>\n",
       "      <td>https://www.allrecipes.com/recipe/100378/irish...</td>\n",
       "      <td>irish-bacon-and-cabbage-soup</td>\n",
       "      <td>4.54</td>\n",
       "      <td>163</td>\n",
       "      <td>['1/2 pound Irish bacon, diced', '2 large pota...</td>\n",
       "      <td>4.0</td>\n",
       "      <td>45</td>\n",
       "      <td>276.0</td>\n",
       "      <td>8.1</td>\n",
       "      <td>38.4</td>\n",
       "      <td>12.3</td>\n",
       "      <td>21.0</td>\n",
       "      <td>825.0</td>\n",
       "    </tr>\n",
       "    <tr>\n",
       "      <th>2</th>\n",
       "      <td>https://www.allrecipes.com/recipe/100402/quick...</td>\n",
       "      <td>quick-salmon-salad</td>\n",
       "      <td>4.49</td>\n",
       "      <td>52</td>\n",
       "      <td>['2 (6 ounce) cans pink salmon, drained', '1/2...</td>\n",
       "      <td>4.0</td>\n",
       "      <td>15</td>\n",
       "      <td>248.0</td>\n",
       "      <td>17.2</td>\n",
       "      <td>2.2</td>\n",
       "      <td>20.4</td>\n",
       "      <td>43.0</td>\n",
       "      <td>571.0</td>\n",
       "    </tr>\n",
       "    <tr>\n",
       "      <th>6</th>\n",
       "      <td>https://www.allrecipes.com/recipe/102242/bills...</td>\n",
       "      <td>bills-seasoned-ketchup</td>\n",
       "      <td>4.65</td>\n",
       "      <td>22</td>\n",
       "      <td>['1 (28 ounce) bottle ketchup', '2 teaspoons h...</td>\n",
       "      <td>45.0</td>\n",
       "      <td>10</td>\n",
       "      <td>19.0</td>\n",
       "      <td>0.1</td>\n",
       "      <td>4.7</td>\n",
       "      <td>0.4</td>\n",
       "      <td>0.0</td>\n",
       "      <td>201.0</td>\n",
       "    </tr>\n",
       "    <tr>\n",
       "      <th>7</th>\n",
       "      <td>https://www.allrecipes.com/recipe/103737/celer...</td>\n",
       "      <td>celery-salad</td>\n",
       "      <td>4.59</td>\n",
       "      <td>83</td>\n",
       "      <td>['3/4 cup sliced celery', '1/3 cup dried sweet...</td>\n",
       "      <td>2.0</td>\n",
       "      <td>40</td>\n",
       "      <td>150.0</td>\n",
       "      <td>3.0</td>\n",
       "      <td>26.5</td>\n",
       "      <td>4.1</td>\n",
       "      <td>0.0</td>\n",
       "      <td>304.0</td>\n",
       "    </tr>\n",
       "  </tbody>\n",
       "</table>\n",
       "</div>"
      ],
      "text/plain": [
       "                                                link  \\\n",
       "0  https://www.allrecipes.com/recipe/100164/chip-...   \n",
       "1  https://www.allrecipes.com/recipe/100378/irish...   \n",
       "2  https://www.allrecipes.com/recipe/100402/quick...   \n",
       "6  https://www.allrecipes.com/recipe/102242/bills...   \n",
       "7  https://www.allrecipes.com/recipe/103737/celer...   \n",
       "\n",
       "                          title  ratings  num_reviews  \\\n",
       "0              chip-truck-fries     4.44           44   \n",
       "1  irish-bacon-and-cabbage-soup     4.54          163   \n",
       "2            quick-salmon-salad     4.49           52   \n",
       "6        bills-seasoned-ketchup     4.65           22   \n",
       "7                  celery-salad     4.59           83   \n",
       "\n",
       "                                         ingredients  servings  cook_time  \\\n",
       "0  ['6 baking potatoes, cut into 1/4 inch slices'...       4.0         60   \n",
       "1  ['1/2 pound Irish bacon, diced', '2 large pota...       4.0         45   \n",
       "2  ['2 (6 ounce) cans pink salmon, drained', '1/2...       4.0         15   \n",
       "6  ['1 (28 ounce) bottle ketchup', '2 teaspoons h...      45.0         10   \n",
       "7  ['3/4 cup sliced celery', '1/3 cup dried sweet...       2.0         40   \n",
       "\n",
       "   calorie  fat_g  carb_g  protein_g  cholesterol_mg  sodium_mg  \n",
       "0    369.0   14.0    56.3        6.5             0.0      478.0  \n",
       "1    276.0    8.1    38.4       12.3            21.0      825.0  \n",
       "2    248.0   17.2     2.2       20.4            43.0      571.0  \n",
       "6     19.0    0.1     4.7        0.4             0.0      201.0  \n",
       "7    150.0    3.0    26.5        4.1             0.0      304.0  "
      ]
     },
     "execution_count": 32,
     "metadata": {},
     "output_type": "execute_result"
    }
   ],
   "source": [
    "# round ratings to two decimals\n",
    "df.ratings = df.ratings.round(2)\n",
    "\n",
    "# check results\n",
    "df.head()"
   ]
  },
  {
   "cell_type": "markdown",
   "metadata": {},
   "source": [
    "### Clean title"
   ]
  },
  {
   "cell_type": "code",
   "execution_count": 33,
   "metadata": {
    "scrolled": true
   },
   "outputs": [
    {
     "data": {
      "text/html": [
       "<div>\n",
       "<style scoped>\n",
       "    .dataframe tbody tr th:only-of-type {\n",
       "        vertical-align: middle;\n",
       "    }\n",
       "\n",
       "    .dataframe tbody tr th {\n",
       "        vertical-align: top;\n",
       "    }\n",
       "\n",
       "    .dataframe thead th {\n",
       "        text-align: right;\n",
       "    }\n",
       "</style>\n",
       "<table border=\"1\" class=\"dataframe\">\n",
       "  <thead>\n",
       "    <tr style=\"text-align: right;\">\n",
       "      <th></th>\n",
       "      <th>link</th>\n",
       "      <th>title</th>\n",
       "      <th>ratings</th>\n",
       "      <th>num_reviews</th>\n",
       "      <th>ingredients</th>\n",
       "      <th>servings</th>\n",
       "      <th>cook_time</th>\n",
       "      <th>calorie</th>\n",
       "      <th>fat_g</th>\n",
       "      <th>carb_g</th>\n",
       "      <th>protein_g</th>\n",
       "      <th>cholesterol_mg</th>\n",
       "      <th>sodium_mg</th>\n",
       "    </tr>\n",
       "  </thead>\n",
       "  <tbody>\n",
       "    <tr>\n",
       "      <th>0</th>\n",
       "      <td>https://www.allrecipes.com/recipe/100164/chip-...</td>\n",
       "      <td>Chip Truck Fries</td>\n",
       "      <td>4.44</td>\n",
       "      <td>44</td>\n",
       "      <td>['6 baking potatoes, cut into 1/4 inch slices'...</td>\n",
       "      <td>4.0</td>\n",
       "      <td>60</td>\n",
       "      <td>369.0</td>\n",
       "      <td>14.0</td>\n",
       "      <td>56.3</td>\n",
       "      <td>6.5</td>\n",
       "      <td>0.0</td>\n",
       "      <td>478.0</td>\n",
       "    </tr>\n",
       "    <tr>\n",
       "      <th>1</th>\n",
       "      <td>https://www.allrecipes.com/recipe/100378/irish...</td>\n",
       "      <td>Irish Bacon And Cabbage Soup</td>\n",
       "      <td>4.54</td>\n",
       "      <td>163</td>\n",
       "      <td>['1/2 pound Irish bacon, diced', '2 large pota...</td>\n",
       "      <td>4.0</td>\n",
       "      <td>45</td>\n",
       "      <td>276.0</td>\n",
       "      <td>8.1</td>\n",
       "      <td>38.4</td>\n",
       "      <td>12.3</td>\n",
       "      <td>21.0</td>\n",
       "      <td>825.0</td>\n",
       "    </tr>\n",
       "    <tr>\n",
       "      <th>2</th>\n",
       "      <td>https://www.allrecipes.com/recipe/100402/quick...</td>\n",
       "      <td>Quick Salmon Salad</td>\n",
       "      <td>4.49</td>\n",
       "      <td>52</td>\n",
       "      <td>['2 (6 ounce) cans pink salmon, drained', '1/2...</td>\n",
       "      <td>4.0</td>\n",
       "      <td>15</td>\n",
       "      <td>248.0</td>\n",
       "      <td>17.2</td>\n",
       "      <td>2.2</td>\n",
       "      <td>20.4</td>\n",
       "      <td>43.0</td>\n",
       "      <td>571.0</td>\n",
       "    </tr>\n",
       "    <tr>\n",
       "      <th>6</th>\n",
       "      <td>https://www.allrecipes.com/recipe/102242/bills...</td>\n",
       "      <td>Bills Seasoned Ketchup</td>\n",
       "      <td>4.65</td>\n",
       "      <td>22</td>\n",
       "      <td>['1 (28 ounce) bottle ketchup', '2 teaspoons h...</td>\n",
       "      <td>45.0</td>\n",
       "      <td>10</td>\n",
       "      <td>19.0</td>\n",
       "      <td>0.1</td>\n",
       "      <td>4.7</td>\n",
       "      <td>0.4</td>\n",
       "      <td>0.0</td>\n",
       "      <td>201.0</td>\n",
       "    </tr>\n",
       "    <tr>\n",
       "      <th>7</th>\n",
       "      <td>https://www.allrecipes.com/recipe/103737/celer...</td>\n",
       "      <td>Celery Salad</td>\n",
       "      <td>4.59</td>\n",
       "      <td>83</td>\n",
       "      <td>['3/4 cup sliced celery', '1/3 cup dried sweet...</td>\n",
       "      <td>2.0</td>\n",
       "      <td>40</td>\n",
       "      <td>150.0</td>\n",
       "      <td>3.0</td>\n",
       "      <td>26.5</td>\n",
       "      <td>4.1</td>\n",
       "      <td>0.0</td>\n",
       "      <td>304.0</td>\n",
       "    </tr>\n",
       "  </tbody>\n",
       "</table>\n",
       "</div>"
      ],
      "text/plain": [
       "                                                link  \\\n",
       "0  https://www.allrecipes.com/recipe/100164/chip-...   \n",
       "1  https://www.allrecipes.com/recipe/100378/irish...   \n",
       "2  https://www.allrecipes.com/recipe/100402/quick...   \n",
       "6  https://www.allrecipes.com/recipe/102242/bills...   \n",
       "7  https://www.allrecipes.com/recipe/103737/celer...   \n",
       "\n",
       "                          title  ratings  num_reviews  \\\n",
       "0              Chip Truck Fries     4.44           44   \n",
       "1  Irish Bacon And Cabbage Soup     4.54          163   \n",
       "2            Quick Salmon Salad     4.49           52   \n",
       "6        Bills Seasoned Ketchup     4.65           22   \n",
       "7                  Celery Salad     4.59           83   \n",
       "\n",
       "                                         ingredients  servings  cook_time  \\\n",
       "0  ['6 baking potatoes, cut into 1/4 inch slices'...       4.0         60   \n",
       "1  ['1/2 pound Irish bacon, diced', '2 large pota...       4.0         45   \n",
       "2  ['2 (6 ounce) cans pink salmon, drained', '1/2...       4.0         15   \n",
       "6  ['1 (28 ounce) bottle ketchup', '2 teaspoons h...      45.0         10   \n",
       "7  ['3/4 cup sliced celery', '1/3 cup dried sweet...       2.0         40   \n",
       "\n",
       "   calorie  fat_g  carb_g  protein_g  cholesterol_mg  sodium_mg  \n",
       "0    369.0   14.0    56.3        6.5             0.0      478.0  \n",
       "1    276.0    8.1    38.4       12.3            21.0      825.0  \n",
       "2    248.0   17.2     2.2       20.4            43.0      571.0  \n",
       "6     19.0    0.1     4.7        0.4             0.0      201.0  \n",
       "7    150.0    3.0    26.5        4.1             0.0      304.0  "
      ]
     },
     "execution_count": 33,
     "metadata": {},
     "output_type": "execute_result"
    }
   ],
   "source": [
    "# change the format of title\n",
    "df.title = df.title.apply(lambda x: x.replace('-', ' ').title())\n",
    "\n",
    "# check results\n",
    "df.head()"
   ]
  },
  {
   "cell_type": "code",
   "execution_count": 48,
   "metadata": {},
   "outputs": [
    {
     "data": {
      "text/plain": [
       "995"
      ]
     },
     "execution_count": 48,
     "metadata": {},
     "output_type": "execute_result"
    }
   ],
   "source": [
    "# check duplicates\n",
    "df.link.duplicated().sum()"
   ]
  },
  {
   "cell_type": "code",
   "execution_count": 49,
   "metadata": {},
   "outputs": [],
   "source": [
    "# drop duplicated links\n",
    "df.drop_duplicates('link', inplace=True)"
   ]
  },
  {
   "cell_type": "code",
   "execution_count": 50,
   "metadata": {
    "scrolled": true
   },
   "outputs": [
    {
     "data": {
      "text/plain": [
       "0"
      ]
     },
     "execution_count": 50,
     "metadata": {},
     "output_type": "execute_result"
    }
   ],
   "source": [
    "df.link.duplicated().sum()"
   ]
  },
  {
   "cell_type": "code",
   "execution_count": 54,
   "metadata": {},
   "outputs": [
    {
     "data": {
      "text/html": [
       "<div>\n",
       "<style scoped>\n",
       "    .dataframe tbody tr th:only-of-type {\n",
       "        vertical-align: middle;\n",
       "    }\n",
       "\n",
       "    .dataframe tbody tr th {\n",
       "        vertical-align: top;\n",
       "    }\n",
       "\n",
       "    .dataframe thead th {\n",
       "        text-align: right;\n",
       "    }\n",
       "</style>\n",
       "<table border=\"1\" class=\"dataframe\">\n",
       "  <thead>\n",
       "    <tr style=\"text-align: right;\">\n",
       "      <th></th>\n",
       "      <th>link</th>\n",
       "      <th>title</th>\n",
       "      <th>ratings</th>\n",
       "      <th>num_reviews</th>\n",
       "      <th>ingredients</th>\n",
       "      <th>servings</th>\n",
       "      <th>cook_time</th>\n",
       "      <th>calorie</th>\n",
       "      <th>fat_g</th>\n",
       "      <th>carb_g</th>\n",
       "      <th>protein_g</th>\n",
       "      <th>cholesterol_mg</th>\n",
       "      <th>sodium_mg</th>\n",
       "    </tr>\n",
       "  </thead>\n",
       "  <tbody>\n",
       "    <tr>\n",
       "      <th>2148</th>\n",
       "      <td>https://www.allrecipes.com/recipe/14090/mexica...</td>\n",
       "      <td>Mexican Rice</td>\n",
       "      <td>4.26</td>\n",
       "      <td>185</td>\n",
       "      <td>['3 tablespoons vegetable oil', '2/3 cup diced...</td>\n",
       "      <td>8.0</td>\n",
       "      <td>50</td>\n",
       "      <td>199.0</td>\n",
       "      <td>5.6</td>\n",
       "      <td>33.8</td>\n",
       "      <td>3.4</td>\n",
       "      <td>0.0</td>\n",
       "      <td>809.0</td>\n",
       "    </tr>\n",
       "    <tr>\n",
       "      <th>2932</th>\n",
       "      <td>https://www.allrecipes.com/recipe/25145/mexica...</td>\n",
       "      <td>Mexican Casserole</td>\n",
       "      <td>4.40</td>\n",
       "      <td>721</td>\n",
       "      <td>['2 tablespoons vegetable oil', '3/4 pound cub...</td>\n",
       "      <td>5.0</td>\n",
       "      <td>30</td>\n",
       "      <td>384.0</td>\n",
       "      <td>16.6</td>\n",
       "      <td>34.0</td>\n",
       "      <td>26.8</td>\n",
       "      <td>59.0</td>\n",
       "      <td>1286.0</td>\n",
       "    </tr>\n",
       "    <tr>\n",
       "      <th>3112</th>\n",
       "      <td>https://www.allrecipes.com/recipe/35304/pico-d...</td>\n",
       "      <td>Pico De Gallo</td>\n",
       "      <td>4.40</td>\n",
       "      <td>352</td>\n",
       "      <td>['1 medium tomato, diced', '1 onion, finely ch...</td>\n",
       "      <td>4.0</td>\n",
       "      <td>50</td>\n",
       "      <td>21.0</td>\n",
       "      <td>0.1</td>\n",
       "      <td>4.7</td>\n",
       "      <td>0.8</td>\n",
       "      <td>0.0</td>\n",
       "      <td>76.0</td>\n",
       "    </tr>\n",
       "  </tbody>\n",
       "</table>\n",
       "</div>"
      ],
      "text/plain": [
       "                                                   link              title  \\\n",
       "2148  https://www.allrecipes.com/recipe/14090/mexica...       Mexican Rice   \n",
       "2932  https://www.allrecipes.com/recipe/25145/mexica...  Mexican Casserole   \n",
       "3112  https://www.allrecipes.com/recipe/35304/pico-d...      Pico De Gallo   \n",
       "\n",
       "      ratings  num_reviews                                        ingredients  \\\n",
       "2148     4.26          185  ['3 tablespoons vegetable oil', '2/3 cup diced...   \n",
       "2932     4.40          721  ['2 tablespoons vegetable oil', '3/4 pound cub...   \n",
       "3112     4.40          352  ['1 medium tomato, diced', '1 onion, finely ch...   \n",
       "\n",
       "      servings  cook_time  calorie  fat_g  carb_g  protein_g  cholesterol_mg  \\\n",
       "2148       8.0         50    199.0    5.6    33.8        3.4             0.0   \n",
       "2932       5.0         30    384.0   16.6    34.0       26.8            59.0   \n",
       "3112       4.0         50     21.0    0.1     4.7        0.8             0.0   \n",
       "\n",
       "      sodium_mg  \n",
       "2148      809.0  \n",
       "2932     1286.0  \n",
       "3112       76.0  "
      ]
     },
     "execution_count": 54,
     "metadata": {},
     "output_type": "execute_result"
    }
   ],
   "source": [
    "df[df.title.duplicated()]"
   ]
  },
  {
   "cell_type": "code",
   "execution_count": 55,
   "metadata": {},
   "outputs": [
    {
     "data": {
      "text/html": [
       "<div>\n",
       "<style scoped>\n",
       "    .dataframe tbody tr th:only-of-type {\n",
       "        vertical-align: middle;\n",
       "    }\n",
       "\n",
       "    .dataframe tbody tr th {\n",
       "        vertical-align: top;\n",
       "    }\n",
       "\n",
       "    .dataframe thead th {\n",
       "        text-align: right;\n",
       "    }\n",
       "</style>\n",
       "<table border=\"1\" class=\"dataframe\">\n",
       "  <thead>\n",
       "    <tr style=\"text-align: right;\">\n",
       "      <th></th>\n",
       "      <th>link</th>\n",
       "      <th>title</th>\n",
       "      <th>ratings</th>\n",
       "      <th>num_reviews</th>\n",
       "      <th>ingredients</th>\n",
       "      <th>servings</th>\n",
       "      <th>cook_time</th>\n",
       "      <th>calorie</th>\n",
       "      <th>fat_g</th>\n",
       "      <th>carb_g</th>\n",
       "      <th>protein_g</th>\n",
       "      <th>cholesterol_mg</th>\n",
       "      <th>sodium_mg</th>\n",
       "    </tr>\n",
       "  </thead>\n",
       "  <tbody>\n",
       "    <tr>\n",
       "      <th>1451</th>\n",
       "      <td>https://www.allrecipes.com/recipe/22884/mexica...</td>\n",
       "      <td>Mexican Rice</td>\n",
       "      <td>4.56</td>\n",
       "      <td>109</td>\n",
       "      <td>['1 pound lean ground beef', '1 onion, diced',...</td>\n",
       "      <td>6.0</td>\n",
       "      <td>55</td>\n",
       "      <td>510.0</td>\n",
       "      <td>18.3</td>\n",
       "      <td>59.1</td>\n",
       "      <td>28.3</td>\n",
       "      <td>74.0</td>\n",
       "      <td>1294.0</td>\n",
       "    </tr>\n",
       "    <tr>\n",
       "      <th>2148</th>\n",
       "      <td>https://www.allrecipes.com/recipe/14090/mexica...</td>\n",
       "      <td>Mexican Rice</td>\n",
       "      <td>4.26</td>\n",
       "      <td>185</td>\n",
       "      <td>['3 tablespoons vegetable oil', '2/3 cup diced...</td>\n",
       "      <td>8.0</td>\n",
       "      <td>50</td>\n",
       "      <td>199.0</td>\n",
       "      <td>5.6</td>\n",
       "      <td>33.8</td>\n",
       "      <td>3.4</td>\n",
       "      <td>0.0</td>\n",
       "      <td>809.0</td>\n",
       "    </tr>\n",
       "  </tbody>\n",
       "</table>\n",
       "</div>"
      ],
      "text/plain": [
       "                                                   link         title  \\\n",
       "1451  https://www.allrecipes.com/recipe/22884/mexica...  Mexican Rice   \n",
       "2148  https://www.allrecipes.com/recipe/14090/mexica...  Mexican Rice   \n",
       "\n",
       "      ratings  num_reviews                                        ingredients  \\\n",
       "1451     4.56          109  ['1 pound lean ground beef', '1 onion, diced',...   \n",
       "2148     4.26          185  ['3 tablespoons vegetable oil', '2/3 cup diced...   \n",
       "\n",
       "      servings  cook_time  calorie  fat_g  carb_g  protein_g  cholesterol_mg  \\\n",
       "1451       6.0         55    510.0   18.3    59.1       28.3            74.0   \n",
       "2148       8.0         50    199.0    5.6    33.8        3.4             0.0   \n",
       "\n",
       "      sodium_mg  \n",
       "1451     1294.0  \n",
       "2148      809.0  "
      ]
     },
     "execution_count": 55,
     "metadata": {},
     "output_type": "execute_result"
    }
   ],
   "source": [
    "df[df.title == 'Mexican Rice']"
   ]
  },
  {
   "cell_type": "code",
   "execution_count": 58,
   "metadata": {},
   "outputs": [
    {
     "data": {
      "text/plain": [
       "(5823, 13)"
      ]
     },
     "execution_count": 58,
     "metadata": {},
     "output_type": "execute_result"
    }
   ],
   "source": [
    "df.shape"
   ]
  },
  {
   "cell_type": "code",
   "execution_count": 57,
   "metadata": {},
   "outputs": [],
   "source": [
    "# save df\n",
    "df.to_csv('recipe_clean.csv', index=False)"
   ]
  },
  {
   "cell_type": "markdown",
   "metadata": {},
   "source": [
    "#### Considered duplidated titles, I will not use title as an ID in the following analysis."
   ]
  }
 ],
 "metadata": {
  "kernelspec": {
   "display_name": "Python 3",
   "language": "python",
   "name": "python3"
  },
  "language_info": {
   "codemirror_mode": {
    "name": "ipython",
    "version": 3
   },
   "file_extension": ".py",
   "mimetype": "text/x-python",
   "name": "python",
   "nbconvert_exporter": "python",
   "pygments_lexer": "ipython3",
   "version": "3.7.3"
  }
 },
 "nbformat": 4,
 "nbformat_minor": 2
}
